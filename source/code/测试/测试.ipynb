{
 "cells": [
  {
   "cell_type": "code",
   "execution_count": 25,
   "metadata": {},
   "outputs": [],
   "source": [
    "cf_jichuxinxi_o = [2, 1, 1, 17, 1, 2]\n",
    "cf_jichuxinxi = [0, 2, 3, 4, 21, 22, 24]\n",
    "\n",
    "def fun_2(data, n=1):\n",
    "    output = [0]\n",
    "    data = data*n\n",
    "    for i in range(0, len(data)):\n",
    "        output.append(output[i] + data[i])\n",
    "    \n",
    "    return output"
   ]
  },
  {
   "cell_type": "code",
   "execution_count": 26,
   "metadata": {},
   "outputs": [],
   "source": [
    "cf_jichuxinxi_o = [2, 1, 1, 17, 1, 2]\n",
    "cf_jichuxinxi = [0, 2, 3, 4, 21, 22, 24]"
   ]
  },
  {
   "cell_type": "code",
   "execution_count": 27,
   "metadata": {},
   "outputs": [
    {
     "data": {
      "text/plain": [
       "range(1, 3)"
      ]
     },
     "execution_count": 27,
     "metadata": {},
     "output_type": "execute_result"
    }
   ],
   "source": [
    "range(1,3)"
   ]
  },
  {
   "cell_type": "code",
   "execution_count": 28,
   "metadata": {},
   "outputs": [
    {
     "data": {
      "text/plain": [
       "6"
      ]
     },
     "execution_count": 28,
     "metadata": {},
     "output_type": "execute_result"
    }
   ],
   "source": [
    "len(cf_jichuxinxi_o)"
   ]
  },
  {
   "cell_type": "code",
   "execution_count": 31,
   "metadata": {},
   "outputs": [
    {
     "data": {
      "text/plain": [
       "[0, 2, 3, 4, 21, 22, 24, 26, 27, 28, 45, 46, 48]"
      ]
     },
     "execution_count": 31,
     "metadata": {},
     "output_type": "execute_result"
    }
   ],
   "source": [
    "a = fun_2(cf_jichuxinxi_o, 2)\n",
    "a"
   ]
  },
  {
   "cell_type": "code",
   "execution_count": 30,
   "metadata": {},
   "outputs": [
    {
     "data": {
      "text/plain": [
       "[0, 2, 3, 4, 21, 22, 24, 0, 2, 3, 4, 21, 22, 24]"
      ]
     },
     "execution_count": 30,
     "metadata": {},
     "output_type": "execute_result"
    }
   ],
   "source": [
    "a *2 "
   ]
  },
  {
   "cell_type": "code",
   "execution_count": 12,
   "metadata": {},
   "outputs": [
    {
     "name": "stdout",
     "output_type": "stream",
     "text": [
      "0\n",
      "1\n",
      "2\n",
      "3\n",
      "4\n",
      "5\n"
     ]
    }
   ],
   "source": [
    "for i in range(0,6):\n",
    "    print(i)"
   ]
  },
  {
   "cell_type": "code",
   "execution_count": 14,
   "metadata": {},
   "outputs": [],
   "source": [
    "output = [0]"
   ]
  },
  {
   "cell_type": "code",
   "execution_count": 16,
   "metadata": {},
   "outputs": [],
   "source": [
    "output.append(output[0] + cf_jichuxinxi_o[0])"
   ]
  },
  {
   "cell_type": "code",
   "execution_count": 17,
   "metadata": {},
   "outputs": [
    {
     "data": {
      "text/plain": [
       "[0, 2]"
      ]
     },
     "execution_count": 17,
     "metadata": {},
     "output_type": "execute_result"
    }
   ],
   "source": [
    "output"
   ]
  },
  {
   "cell_type": "code",
   "execution_count": 22,
   "metadata": {},
   "outputs": [],
   "source": [
    "data=[0,1,2,3,4,5,6,7,8,9]\n",
    "data2 = data[2:]"
   ]
  },
  {
   "cell_type": "code",
   "execution_count": 23,
   "metadata": {},
   "outputs": [
    {
     "data": {
      "text/plain": [
       "[2, 3, 4, 5, 6, 7, 8, 9]"
      ]
     },
     "execution_count": 23,
     "metadata": {},
     "output_type": "execute_result"
    }
   ],
   "source": [
    "data2"
   ]
  },
  {
   "cell_type": "code",
   "execution_count": 32,
   "metadata": {},
   "outputs": [],
   "source": [
    "cf_xxsb_qudongdianjishuju = [1, 1, 1, 2, 2, 1, 2, 2]\n",
    "\n",
    "def fun_cf_xxsb_zhengcheshuju(data, cf):\n",
    "    cf_a = hexlist2(cf)"
   ]
  },
  {
   "cell_type": "code",
   "execution_count": 33,
   "metadata": {},
   "outputs": [],
   "source": [
    "cf_xxsb_qudongdianjishuju = [1, 1, 1, 2, 2, 1, 2, 2]"
   ]
  },
  {
   "cell_type": "code",
   "execution_count": 35,
   "metadata": {},
   "outputs": [
    {
     "data": {
      "text/plain": [
       "24"
      ]
     },
     "execution_count": 35,
     "metadata": {},
     "output_type": "execute_result"
    }
   ],
   "source": [
    "sum(cf_xxsb_qudongdianjishuju)*2"
   ]
  },
  {
   "cell_type": "code",
   "execution_count": null,
   "metadata": {},
   "outputs": [],
   "source": []
  },
  {
   "cell_type": "code",
   "execution_count": 47,
   "metadata": {},
   "outputs": [],
   "source": [
    "data_dict_o = {}"
   ]
  },
  {
   "cell_type": "code",
   "execution_count": 51,
   "metadata": {},
   "outputs": [
    {
     "ename": "KeyError",
     "evalue": "'数据单元'",
     "output_type": "error",
     "traceback": [
      "\u001b[1;31m---------------------------------------------------------------------------\u001b[0m",
      "\u001b[1;31mKeyError\u001b[0m                                  Traceback (most recent call last)",
      "\u001b[1;32m<ipython-input-51-8054d3a94f4d>\u001b[0m in \u001b[0;36m<module>\u001b[1;34m\u001b[0m\n\u001b[0;32m     19\u001b[0m   \u001b[1;34m'挡位'\u001b[0m\u001b[1;33m:\u001b[0m \u001b[1;34m'00'\u001b[0m\u001b[1;33m,\u001b[0m\u001b[1;33m\u001b[0m\u001b[1;33m\u001b[0m\u001b[0m\n\u001b[0;32m     20\u001b[0m   \u001b[1;34m'绝缘电阻'\u001b[0m\u001b[1;33m:\u001b[0m \u001b[1;34m'EA39'\u001b[0m\u001b[1;33m,\u001b[0m\u001b[1;33m\u001b[0m\u001b[1;33m\u001b[0m\u001b[0m\n\u001b[1;32m---> 21\u001b[1;33m   \u001b[1;34m'预留'\u001b[0m\u001b[1;33m:\u001b[0m \u001b[1;34m'0000'\u001b[0m\u001b[1;33m,\u001b[0m\u001b[1;33m\u001b[0m\u001b[1;33m\u001b[0m\u001b[0m\n\u001b[0m\u001b[0;32m     22\u001b[0m }\n",
      "\u001b[1;31mKeyError\u001b[0m: '数据单元'"
     ]
    }
   ],
   "source": [
    "data_dict_o[\"车辆登入\"]={\n",
    "    '数据采集时间': '130a1a073500',\n",
    "    '登入流水号': '00d1',\n",
    "    'ICCID': '3839383630363137303330303137393339353038',\n",
    "    '可充电储能子系统数': '01',\n",
    "    '可充电储能系统编码长度': '00',\n",
    "    '可充电储能系统编码': 'NA',}\n",
    "\n",
    "data_dict_o[\"数据单元\"]['信息上报'] = {\n",
    "    '车辆状态': '02',\n",
    "    '充电状态': '03',\n",
    "    '运行模式': '01',\n",
    "    '车速': '0000',\n",
    "    '累计里程': '000008D7',\n",
    "    '总电压': '007E',\n",
    "    '总电流': '2710',\n",
    "    'SOC': '09',\n",
    "    'DC-DC状态': '02',\n",
    "    '挡位': '00',\n",
    "    '绝缘电阻': 'EA39',\n",
    "    '预留': '0000',\n",
    "}"
   ]
  },
  {
   "cell_type": "code",
   "execution_count": 49,
   "metadata": {},
   "outputs": [
    {
     "data": {
      "text/plain": [
       "{'车辆登入': {'数据采集时间': '130a1a073500',\n",
       "  '登入流水号': '00d1',\n",
       "  'ICCID': '3839383630363137303330303137393339353038',\n",
       "  '可充电储能子系统数': '01',\n",
       "  '可充电储能系统编码长度': '00',\n",
       "  '可充电储能系统编码': 'NA'}}"
      ]
     },
     "execution_count": 49,
     "metadata": {},
     "output_type": "execute_result"
    }
   ],
   "source": [
    "data_dict_o"
   ]
  },
  {
   "cell_type": "code",
   "execution_count": 53,
   "metadata": {},
   "outputs": [
    {
     "ename": "SyntaxError",
     "evalue": "invalid syntax (<ipython-input-53-cee819812139>, line 1)",
     "output_type": "error",
     "traceback": [
      "\u001b[1;36m  File \u001b[1;32m\"<ipython-input-53-cee819812139>\"\u001b[1;36m, line \u001b[1;32m1\u001b[0m\n\u001b[1;33m    def n_车辆登入:\u001b[0m\n\u001b[1;37m              ^\u001b[0m\n\u001b[1;31mSyntaxError\u001b[0m\u001b[1;31m:\u001b[0m invalid syntax\n"
     ]
    }
   ],
   "source": [
    "def n_车辆登入:\n",
    "    print(\"hello\")"
   ]
  },
  {
   "cell_type": "markdown",
   "metadata": {},
   "source": [
    "# 电池电压 温度"
   ]
  },
  {
   "cell_type": "code",
   "execution_count": 54,
   "metadata": {},
   "outputs": [
    {
     "ename": "TypeError",
     "evalue": "'type' object does not support item assignment",
     "output_type": "error",
     "traceback": [
      "\u001b[1;31m---------------------------------------------------------------------------\u001b[0m",
      "\u001b[1;31mTypeError\u001b[0m                                 Traceback (most recent call last)",
      "\u001b[1;32m<ipython-input-54-0fcb8af8a94f>\u001b[0m in \u001b[0;36m<module>\u001b[1;34m\u001b[0m\n\u001b[0;32m      7\u001b[0m     \u001b[1;32mreturn\u001b[0m \u001b[0mlist\u001b[0m\u001b[1;33m\u001b[0m\u001b[1;33m\u001b[0m\u001b[0m\n\u001b[0;32m      8\u001b[0m \u001b[1;33m\u001b[0m\u001b[0m\n\u001b[1;32m----> 9\u001b[1;33m \u001b[0mdianchi\u001b[0m\u001b[1;33m(\u001b[0m\u001b[0mdata\u001b[0m\u001b[1;33m,\u001b[0m \u001b[1;36m16\u001b[0m\u001b[1;33m,\u001b[0m \u001b[1;36m4\u001b[0m\u001b[1;33m)\u001b[0m\u001b[1;33m\u001b[0m\u001b[1;33m\u001b[0m\u001b[0m\n\u001b[0m",
      "\u001b[1;32m<ipython-input-54-0fcb8af8a94f>\u001b[0m in \u001b[0;36mdianchi\u001b[1;34m(data, n, k)\u001b[0m\n\u001b[0;32m      3\u001b[0m \u001b[1;32mdef\u001b[0m \u001b[0mdianchi\u001b[0m\u001b[1;33m(\u001b[0m\u001b[0mdata\u001b[0m\u001b[1;33m,\u001b[0m \u001b[0mn\u001b[0m\u001b[1;33m,\u001b[0m \u001b[0mk\u001b[0m\u001b[1;33m)\u001b[0m\u001b[1;33m:\u001b[0m\u001b[1;33m\u001b[0m\u001b[1;33m\u001b[0m\u001b[0m\n\u001b[0;32m      4\u001b[0m     \u001b[1;32mfor\u001b[0m \u001b[0mi\u001b[0m \u001b[1;32min\u001b[0m \u001b[0mrange\u001b[0m\u001b[1;33m(\u001b[0m\u001b[1;36m0\u001b[0m\u001b[1;33m,\u001b[0m\u001b[0mn\u001b[0m\u001b[1;33m)\u001b[0m\u001b[1;33m:\u001b[0m\u001b[1;33m\u001b[0m\u001b[1;33m\u001b[0m\u001b[0m\n\u001b[1;32m----> 5\u001b[1;33m         \u001b[0mlist\u001b[0m\u001b[1;33m[\u001b[0m\u001b[0mi\u001b[0m\u001b[1;33m]\u001b[0m \u001b[1;33m=\u001b[0m \u001b[0mdata\u001b[0m\u001b[1;33m[\u001b[0m\u001b[0mi\u001b[0m\u001b[1;33m:\u001b[0m\u001b[0mi\u001b[0m\u001b[1;33m+\u001b[0m\u001b[0mk\u001b[0m\u001b[1;33m]\u001b[0m\u001b[1;33m\u001b[0m\u001b[1;33m\u001b[0m\u001b[0m\n\u001b[0m\u001b[0;32m      6\u001b[0m \u001b[1;33m\u001b[0m\u001b[0m\n\u001b[0;32m      7\u001b[0m     \u001b[1;32mreturn\u001b[0m \u001b[0mlist\u001b[0m\u001b[1;33m\u001b[0m\u001b[1;33m\u001b[0m\u001b[0m\n",
      "\u001b[1;31mTypeError\u001b[0m: 'type' object does not support item assignment"
     ]
    }
   ],
   "source": [
    "data = '0000000000000000000000000000106810680000000000000000000000000000000000000000000000001068'\n",
    "data = '00000000000000000000000000001068106800000000000000000000000000000000'\n",
    "def dianchi(data, n, k):    \n",
    "    for i in range(0,n):\n",
    "        list[i] = data[i:i+k]\n",
    "        \n",
    "    return list\n",
    "\n",
    "dianchi(data, 16, 4)"
   ]
  },
  {
   "cell_type": "code",
   "execution_count": 56,
   "metadata": {},
   "outputs": [
    {
     "name": "stdout",
     "output_type": "stream",
     "text": [
      "0\n"
     ]
    }
   ],
   "source": [
    "for i in range(0,1):\n",
    "    print(i)"
   ]
  },
  {
   "cell_type": "code",
   "execution_count": 58,
   "metadata": {},
   "outputs": [],
   "source": [
    "# 公共函数\n",
    "\n",
    "# 16进制转10进制（先乘精度，后偏移）\n",
    "def hex2dec(x, n=0, k=1):\n",
    "    output_s = int(str(x), 16)\n",
    "    output = output_s*k + n\n",
    "    return output\n",
    "\n",
    "# 16进制转字符串\n",
    "def hex2str(x):\n",
    "    output = binascii.a2b_hex(x).decode(\"utf8\")\n",
    "    return output\n",
    "\n",
    "# 字符串分割\n",
    "def str_split(data, n):\n",
    "    global data_s, data_f, data_2\n",
    "    data_s = data[:n]\n",
    "    data_f = data[n:]\n",
    "    data_2 = data_f[0:2]\n",
    "\n",
    "# 时间\n",
    "def bw_datetime(x):\n",
    "    year = hex2dec(x[0:2]) + 2000\n",
    "    month = hex2dec(x[2:4])\n",
    "    day = hex2dec(x[4:6])\n",
    "    hour = hex2dec(x[6:8])\n",
    "    minute = hex2dec(x[8:10])\n",
    "    second = hex2dec(x[10:12])\n",
    "    output = datetime.datetime(year, month, day, hour, minute, second).strftime('%Y-%m-%d %H:%M:%S')\n",
    "    return output\n",
    "\n",
    "# 位数乘2\n",
    "def hexlist(x):\n",
    "    output = [i*2 for i in x]\n",
    "    return output\n",
    "\n",
    "# 累加，将\n",
    "def hexlist2(data, n=1):\n",
    "    output = [0]\n",
    "    data = data * n\n",
    "    for i in range(0, len(data)):\n",
    "        output.append(output[i] + data[i])\n",
    "    output = [i*2 for i in output]\n",
    "    return output\n",
    "\n",
    "# \n",
    "def n_m(n, m):\n",
    "    n_10 = hex2dec(n)\n",
    "    m_10 = hex2dec(m)\n",
    "    output = n_10 * n_10\n",
    "    return output"
   ]
  },
  {
   "cell_type": "code",
   "execution_count": null,
   "metadata": {},
   "outputs": [],
   "source": [
    "# 08 可充电储能装置电压数据\n",
    "cf_xxsb_dianyashuju = [1, 2, 2, 2, 2, 1]\n",
    "\n",
    "def fun_cf_xxsb_dianyashuju(data, cf):\n",
    "    # 剔除 信息类型标志(1)\n",
    "    data = data[2:]\n",
    "\n",
    "    # 充电储能装置个数\n",
    "    n_dianchi_o = data[0:2]\n",
    "    n_dianchi = hex2dec(data[0:2])\n",
    "\n",
    "    # 剔除 充电储能装置个数(1)\n",
    "    data = data[2:]\n",
    "\n",
    "    cf_a = hexlist2(cf, n_dianchi)\n",
    "\n",
    "    # 个体长\n",
    "    cf_n = sum(cf)*2\n",
    "    \n",
    "    dianjizongchengliebiao_all = {}\n",
    "    for i in range(0,n_dianji):\n",
    "        \n",
    "        n_dianchi_s = hex2dec(data[cf_a[5]:cf_a[6]])\n",
    "        cf_a1 = cf_a.append(n_dianchi_s*4)\n",
    "        \n",
    "        \n",
    "        dianjizongchengliebiao_s = {\n",
    "            data[cf_a[0]:cf_a[1]]:{\n",
    "                    \"可充电储能装置电压\":data[cf_a[1]:cf_a[2]],\n",
    "                    \"可充电储能装置电流\":data[cf_a[2]:cf_a[3]],\n",
    "                    \"单体电池总数\":data[cf_a[3]:cf_a[4]],\n",
    "                    \"本帧起始电池序号\":data[cf_a[4]:cf_a[5]],\n",
    "                    \"本帧单体电池总数\":data[cf_a[5]:cf_a[6]],\n",
    "                    \"单体电池电压\":data[cf_a[6]:cf_a[6]+n],\n",
    "            }\n",
    "        }\n",
    "        dianjizongchengliebiao_all = dict(dianjizongchengliebiao_all, **dianjizongchengliebiao_s)\n",
    "        # 截取\n",
    "        data = data[:]\n",
    "        \n",
    "        \n",
    "    data_cf_xxsb_zhengcheshuju = {\n",
    "        \"可充电储能子系统个数\":n_dianchi_o,\n",
    "        \"可充电储能子系统电压信息列表\":dianjizongchengliebiao_all\n",
    "    }\n",
    "    str_split(data, cf_a[-1])\n",
    "    return data_cf_xxsb_zhengcheshuju\n",
    "    \n",
    "    "
   ]
  },
  {
   "cell_type": "code",
   "execution_count": 70,
   "metadata": {},
   "outputs": [],
   "source": [
    "data = '080101007E2710001600011600000000000000000000000000001068106800000000000000000000000000000000000000000000000010680901010004D20000004D'"
   ]
  },
  {
   "cell_type": "code",
   "execution_count": 71,
   "metadata": {},
   "outputs": [],
   "source": [
    "cf = [1, 2, 2, 2, 2, 1]\n",
    "\n",
    "# 剔除 信息类型标志(1)\n",
    "data = data[2:]\n",
    "\n",
    "# 充电储能装置个数\n",
    "n_dianchi_o = data[0:2]\n",
    "n_dianchi = hex2dec(data[0:2])\n",
    "\n",
    "# 剔除 充电储能装置个数(1)\n",
    "data = data[2:]\n",
    "\n",
    "cf_a = hexlist2(cf, n_dianchi)"
   ]
  },
  {
   "cell_type": "code",
   "execution_count": 73,
   "metadata": {},
   "outputs": [
    {
     "ename": "TypeError",
     "evalue": "'int' object is not iterable",
     "output_type": "error",
     "traceback": [
      "\u001b[1;31m---------------------------------------------------------------------------\u001b[0m",
      "\u001b[1;31mTypeError\u001b[0m                                 Traceback (most recent call last)",
      "\u001b[1;32m<ipython-input-73-b5bf2f72abc8>\u001b[0m in \u001b[0;36m<module>\u001b[1;34m\u001b[0m\n\u001b[0;32m      3\u001b[0m \u001b[1;33m\u001b[0m\u001b[0m\n\u001b[0;32m      4\u001b[0m     \u001b[0mn_dianchi_s\u001b[0m \u001b[1;33m=\u001b[0m \u001b[0mhex2dec\u001b[0m\u001b[1;33m(\u001b[0m\u001b[0mdata\u001b[0m\u001b[1;33m[\u001b[0m\u001b[0mcf_a\u001b[0m\u001b[1;33m[\u001b[0m\u001b[1;36m5\u001b[0m\u001b[1;33m]\u001b[0m\u001b[1;33m:\u001b[0m\u001b[0mcf_a\u001b[0m\u001b[1;33m[\u001b[0m\u001b[1;36m6\u001b[0m\u001b[1;33m]\u001b[0m\u001b[1;33m]\u001b[0m\u001b[1;33m)\u001b[0m\u001b[1;33m\u001b[0m\u001b[1;33m\u001b[0m\u001b[0m\n\u001b[1;32m----> 5\u001b[1;33m     \u001b[0mcf_a1\u001b[0m \u001b[1;33m=\u001b[0m \u001b[0mcf_a\u001b[0m\u001b[1;33m.\u001b[0m\u001b[0mextend\u001b[0m\u001b[1;33m(\u001b[0m\u001b[0mlist\u001b[0m\u001b[1;33m(\u001b[0m\u001b[0mn_dianchi_s\u001b[0m\u001b[1;33m*\u001b[0m\u001b[1;36m4\u001b[0m\u001b[1;33m)\u001b[0m\u001b[1;33m)\u001b[0m\u001b[1;33m\u001b[0m\u001b[1;33m\u001b[0m\u001b[0m\n\u001b[0m\u001b[0;32m      6\u001b[0m     \u001b[0mprint\u001b[0m\u001b[1;33m(\u001b[0m\u001b[0mn_dianchi_s\u001b[0m\u001b[1;33m)\u001b[0m\u001b[1;33m\u001b[0m\u001b[1;33m\u001b[0m\u001b[0m\n\u001b[0;32m      7\u001b[0m     \u001b[0mprint\u001b[0m\u001b[1;33m(\u001b[0m\u001b[0mcf_a1\u001b[0m\u001b[1;33m)\u001b[0m\u001b[1;33m\u001b[0m\u001b[1;33m\u001b[0m\u001b[0m\n",
      "\u001b[1;31mTypeError\u001b[0m: 'int' object is not iterable"
     ]
    }
   ],
   "source": [
    "dianjizongchengliebiao_all = {}\n",
    "for i in range(0,n_dianchi):\n",
    "\n",
    "    n_dianchi_s = hex2dec(data[cf_a[5]:cf_a[6]])\n",
    "    cf_a1 = cf_a.extend(list(n_dianchi_s*4))\n",
    "    print(n_dianchi_s)\n",
    "    print(cf_a1)\n",
    "    # 截取\n",
    "    data = data[:cf_a1[-1]]"
   ]
  },
  {
   "cell_type": "code",
   "execution_count": 74,
   "metadata": {},
   "outputs": [
    {
     "data": {
      "text/plain": [
       "1"
      ]
     },
     "execution_count": 74,
     "metadata": {},
     "output_type": "execute_result"
    }
   ],
   "source": [
    "n_dianchi"
   ]
  },
  {
   "cell_type": "code",
   "execution_count": 76,
   "metadata": {},
   "outputs": [
    {
     "data": {
      "text/plain": [
       "[0, 2, 6, 10, 14, 18, 20]"
      ]
     },
     "execution_count": 76,
     "metadata": {},
     "output_type": "execute_result"
    }
   ],
   "source": [
    "cf_a"
   ]
  },
  {
   "cell_type": "code",
   "execution_count": 79,
   "metadata": {},
   "outputs": [],
   "source": [
    "cf_a1 = cf_a.extend([22])\n",
    "cf_a1"
   ]
  },
  {
   "cell_type": "code",
   "execution_count": null,
   "metadata": {},
   "outputs": [],
   "source": [
    "    dianjizongchengliebiao_s = {\n",
    "        data_f[cf_a1[0]:cf_a1[1]]:{\n",
    "                \"可充电储能装置电压\":data[cf_a1[1]:cf_a1[2]],\n",
    "                \"可充电储能装置电流\":data[cf_a1[2]:cf_a1[3]],\n",
    "                \"单体电池总数\":data[cf_a1[3]:cf_a1[4]],\n",
    "                \"本帧起始电池序号\":data[cf_a1[4]:cf_a1[5]],\n",
    "                \"本帧单体电池总数\":data[cf_a1[5]:cf_a1[6]],\n",
    "                \"单体电池电压\":data[cf_a1[6]:cf_a1[7]],\n",
    "        }\n",
    "    }\n",
    "    dianjizongchengliebiao_all = dict(dianjizongchengliebiao_all, **dianjizongchengliebiao_s)"
   ]
  },
  {
   "cell_type": "code",
   "execution_count": null,
   "metadata": {},
   "outputs": [],
   "source": [
    "00000000000000000000000000001068106800000000000000000000000000000000"
   ]
  },
  {
   "cell_type": "code",
   "execution_count": 87,
   "metadata": {},
   "outputs": [
    {
     "data": {
      "text/plain": [
       "'0'"
      ]
     },
     "execution_count": 87,
     "metadata": {},
     "output_type": "execute_result"
    }
   ],
   "source": [
    "a = '00'\n",
    "\n",
    "str(bin(int(a, 16)))[2:]"
   ]
  },
  {
   "cell_type": "code",
   "execution_count": 101,
   "metadata": {},
   "outputs": [
    {
     "data": {
      "text/plain": [
       "'00000010'"
      ]
     },
     "execution_count": 101,
     "metadata": {},
     "output_type": "execute_result"
    }
   ],
   "source": [
    "a = '02'\n",
    "\n",
    "b = int(a, 16)\n",
    "\n",
    "c = '{:08b}'.format(b)\n",
    "c"
   ]
  },
  {
   "cell_type": "code",
   "execution_count": 92,
   "metadata": {},
   "outputs": [],
   "source": [
    "?bin"
   ]
  },
  {
   "cell_type": "code",
   "execution_count": 104,
   "metadata": {},
   "outputs": [],
   "source": [
    "a = '{:08b}'.format(1)"
   ]
  },
  {
   "cell_type": "code",
   "execution_count": 105,
   "metadata": {},
   "outputs": [
    {
     "data": {
      "text/plain": [
       "'00000001'"
      ]
     },
     "execution_count": 105,
     "metadata": {},
     "output_type": "execute_result"
    }
   ],
   "source": [
    "a"
   ]
  },
  {
   "cell_type": "code",
   "execution_count": 108,
   "metadata": {},
   "outputs": [
    {
     "data": {
      "text/plain": [
       "'1'"
      ]
     },
     "execution_count": 108,
     "metadata": {},
     "output_type": "execute_result"
    }
   ],
   "source": [
    "a[7]"
   ]
  },
  {
   "cell_type": "code",
   "execution_count": 110,
   "metadata": {},
   "outputs": [],
   "source": [
    "# 字典追加\n",
    "\n",
    "dict1 = {\n",
    " '起始符': '2323',\n",
    " '命令标识': '03',\n",
    " '应答标识': 'FE',\n",
    " '唯一识别码': '4C44503531413936344843313132313236',\n",
    " '数据单元加密方式': '01',\n",
    " '数据单元长度': '00A5',\n",
    " '数据单元': {}\n",
    "}\n",
    "dict2 = {\n",
    "    '01 车辆登入': {\n",
    "        '01 数据采集时间': '2019-10-26 07:53:00',\n",
    "        '02 登入流水号': 209,\n",
    "        '03 ICCID': '89860617030017939508',\n",
    "        '04 可充电储能子系统数': 1,\n",
    "        '05 可充电储能系统编码长度': 0,\n",
    "        '06 可充电储能系统编码': 'NA'\n",
    "    }\n",
    "}"
   ]
  },
  {
   "cell_type": "code",
   "execution_count": 112,
   "metadata": {},
   "outputs": [
    {
     "data": {
      "text/plain": [
       "{'起始符': '2323',\n",
       " '命令标识': '03',\n",
       " '应答标识': 'FE',\n",
       " '唯一识别码': '4C44503531413936344843313132313236',\n",
       " '数据单元加密方式': '01',\n",
       " '数据单元长度': '00A5',\n",
       " '数据单元': {'01 车辆登入': {'01 数据采集时间': '2019-10-26 07:53:00',\n",
       "   '02 登入流水号': 209,\n",
       "   '03 ICCID': '89860617030017939508',\n",
       "   '04 可充电储能子系统数': 1,\n",
       "   '05 可充电储能系统编码长度': 0,\n",
       "   '06 可充电储能系统编码': 'NA'}}}"
      ]
     },
     "execution_count": 112,
     "metadata": {},
     "output_type": "execute_result"
    }
   ],
   "source": [
    "dict1[\"数据单元\"] = dict2\n",
    "dict1"
   ]
  },
  {
   "cell_type": "code",
   "execution_count": 114,
   "metadata": {},
   "outputs": [],
   "source": [
    "dict3 = {\n",
    "    \"驱动电机数据\":{\n",
    "        \"驱动电机个数\":\"1\",\n",
    "        \"驱动电机总成信息列表\":{\n",
    "            \"1\":{\n",
    "                \"驱动电机状态\":\"1\",\n",
    "                \"驱动电机控制器温度\":\"1\",\n",
    "                \"驱动电机转速\":\"2\",\n",
    "                \"驱动电机转矩\":\"2\",\n",
    "                \"驱动电机温度\":\"1\",\n",
    "                \"电机控制器输入电压\":\"2\",\n",
    "                \"电机控制器直流母线电流\":\"2\",\n",
    "            },\n",
    "            \"2\":{\n",
    "                \"驱动电机状态\":\"1\",\n",
    "                \"驱动电机控制器温度\":\"1\",\n",
    "                \"驱动电机转速\":\"2\",\n",
    "                \"驱动电机转矩\":\"2\",\n",
    "                \"驱动电机温度\":\"1\",\n",
    "                \"电机控制器输入电压\":\"2\",\n",
    "                \"电机控制器直流母线电流\":\"2\",\n",
    "            }\n",
    "        }\n",
    "\n",
    "    }\n",
    "}"
   ]
  },
  {
   "cell_type": "code",
   "execution_count": 117,
   "metadata": {},
   "outputs": [
    {
     "name": "stdout",
     "output_type": "stream",
     "text": [
      "1\n",
      "2\n"
     ]
    }
   ],
   "source": [
    "for i in dict3['驱动电机数据'][\"驱动电机总成信息列表\"]:\n",
    "    print(i)"
   ]
  },
  {
   "cell_type": "markdown",
   "metadata": {},
   "source": [
    "# 总电压"
   ]
  },
  {
   "cell_type": "code",
   "execution_count": 27,
   "metadata": {},
   "outputs": [],
   "source": [
    "import math\n",
    "# 8进制转10进制\n",
    "def oct2dec(x):\n",
    "    output = int(str(x), 8)\n",
    "    return output\n",
    "\n",
    "# 16进制转10进制（先乘精度，后偏移）\n",
    "def hex2dec(x, n=0, k=1, e=False):\n",
    "    x = x.upper()\n",
    "    k_n = 0 if k>=1 else int(math.log10(k))\n",
    "    if e:\n",
    "        if x == \"EF\" or x == \"FFFE\" or x == \"FFFFFFFE\":\n",
    "            return \"异常\"\n",
    "        elif x == \"FF\" or x == \"FFFF\" or x == \"FFFFFFFF\":\n",
    "            return \"无效\"\n",
    "        else:\n",
    "            output_s = int(str(x), 16)\n",
    "            output = output_s*k + n\n",
    "            return round(output, -k_n)\n",
    "    else :\n",
    "        output_s = int(str(x), 16)\n",
    "        output = output_s*k + n\n",
    "        return round(output, -k_n)\n",
    "    \n",
    "    \n",
    "\n",
    "# 16进制转字符串\n",
    "def hex2str(x):\n",
    "    output = binascii.a2b_hex(x).decode(\"utf8\")\n",
    "    return output\n",
    "\n",
    "# 字符串分割\n",
    "def str_split(data, n):\n",
    "    global data_s, data_f, data_2\n",
    "    data_s = data[:n]\n",
    "    data_f = data[n:]\n",
    "    data_2 = data_f[0:2]\n",
    "\n",
    "# 时间\n",
    "def bw_datetime(x):\n",
    "    year = hex2dec(x[0:2]) + 2000\n",
    "    month = hex2dec(x[2:4])\n",
    "    day = hex2dec(x[4:6])\n",
    "    hour = hex2dec(x[6:8])\n",
    "    minute = hex2dec(x[8:10])\n",
    "    second = hex2dec(x[10:12])\n",
    "    output = datetime.datetime(year, month, day, hour, minute, second).strftime('%Y-%m-%d %H:%M:%S')\n",
    "    return output\n"
   ]
  },
  {
   "cell_type": "code",
   "execution_count": 28,
   "metadata": {},
   "outputs": [
    {
     "data": {
      "text/plain": [
       "12.6"
      ]
     },
     "execution_count": 28,
     "metadata": {},
     "output_type": "execute_result"
    }
   ],
   "source": [
    "# 总电压\n",
    "hex2dec(\"007E\", k=0.1)"
   ]
  },
  {
   "cell_type": "code",
   "execution_count": 30,
   "metadata": {},
   "outputs": [
    {
     "data": {
      "text/plain": [
       "31.552268"
      ]
     },
     "execution_count": 30,
     "metadata": {},
     "output_type": "execute_result"
    }
   ],
   "source": [
    "# 纬度\n",
    "hex2dec(\"01E1730C\", k=0.000001)\n"
   ]
  },
  {
   "cell_type": "code",
   "execution_count": 17,
   "metadata": {},
   "outputs": [
    {
     "data": {
      "text/plain": [
       "1"
      ]
     },
     "execution_count": 17,
     "metadata": {},
     "output_type": "execute_result"
    }
   ],
   "source": [
    "a = 1 if True else 0\n",
    "a"
   ]
  },
  {
   "cell_type": "code",
   "execution_count": 18,
   "metadata": {},
   "outputs": [
    {
     "ename": "NameError",
     "evalue": "name 'log' is not defined",
     "output_type": "error",
     "traceback": [
      "\u001b[1;31m---------------------------------------------------------------------------\u001b[0m",
      "\u001b[1;31mNameError\u001b[0m                                 Traceback (most recent call last)",
      "\u001b[1;32m<ipython-input-18-61dab805bf6d>\u001b[0m in \u001b[0;36m<module>\u001b[1;34m\u001b[0m\n\u001b[1;32m----> 1\u001b[1;33m \u001b[0mlog\u001b[0m\u001b[1;33m(\u001b[0m\u001b[1;36m100000\u001b[0m\u001b[1;33m)\u001b[0m\u001b[1;33m\u001b[0m\u001b[1;33m\u001b[0m\u001b[0m\n\u001b[0m",
      "\u001b[1;31mNameError\u001b[0m: name 'log' is not defined"
     ]
    }
   ],
   "source": [
    "\n",
    "math.log(100000)"
   ]
  },
  {
   "cell_type": "code",
   "execution_count": 26,
   "metadata": {},
   "outputs": [
    {
     "data": {
      "text/plain": [
       "-6.0"
      ]
     },
     "execution_count": 26,
     "metadata": {},
     "output_type": "execute_result"
    }
   ],
   "source": [
    "math.log10(0.000001)"
   ]
  },
  {
   "cell_type": "code",
   "execution_count": null,
   "metadata": {},
   "outputs": [],
   "source": []
  }
 ],
 "metadata": {
  "kernelspec": {
   "display_name": "Python 3",
   "language": "python",
   "name": "python3"
  },
  "language_info": {
   "codemirror_mode": {
    "name": "ipython",
    "version": 3
   },
   "file_extension": ".py",
   "mimetype": "text/x-python",
   "name": "python",
   "nbconvert_exporter": "python",
   "pygments_lexer": "ipython3",
   "version": "3.7.3"
  }
 },
 "nbformat": 4,
 "nbformat_minor": 2
}
