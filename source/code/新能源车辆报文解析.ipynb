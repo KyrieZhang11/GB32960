{
 "cells": [
  {
   "cell_type": "code",
   "execution_count": 1,
   "metadata": {},
   "outputs": [],
   "source": [
    "import numpy as np\n",
    "import pandas as pd\n",
    "import binascii\n",
    "import datetime"
   ]
  },
  {
   "cell_type": "code",
   "execution_count": 47,
   "metadata": {},
   "outputs": [],
   "source": [
    "# 获取原始数据\n",
    "data = \"232302fe4c45575744413333394a4e343238353938010260130b0b0e1c3001010301014a00053fca0cb3288c3c022eea5f4000020101015357a150965b0c621bfc050006cbba28015986a60601010cbc012b0c9e010e42010240070000000000000000000801010cb3288c00640001640cbc0cb20cbc0cbc0cbc0cbc0cb20cbc0cbc0cb20cbc0cbc0cbc0cbc0cbc0cbc0cbc0cb20cbc0cbc0cbc0cb20cbc0cbc0cbc0cb20cbc0cbc0cb20cb20cbc0cbc0cb20cb20cb20cbc0cbc0cb20cbc0cbc0cb20ca80c9e0ca80ca80ca80cb20cb20ca80ca80c9e0ca80c9e0ca80cb20c9e0ca80c9e0ca80ca80ca80ca80ca80cb20ca80ca80ca80c9e0ca80ca80ca80c9e0ca80ca80ca80ca80ca80ca80ca80ca80c9e0c9e0ca80ca80ca80ca80ca80ca80ca80ca80ca80ca80ca80ca80ca80cb20cb20ca80ca80ca8090101000e414040414040404040404040414282010d584c4d31320c0328d07233021c6f7502130c0428d05b533103010000f00c0528d0a00002130ba008020c0628d002136f75021c5b530cff01f3c3339328960040eb0cff02f343014601424000290cff03f3fc2198211a2c7e2c0cff04f3013e1009ffff00001c0728d00c000000430002021cff05f3810081001064030e18f00ad002000000000000001801d028000021618600000018f010d6014516560000000a18ff40f30046450000001b2018ff41f3000000000000000018ff42f3000000000000000018ff43f3000000000000000018ff44f3000000000000000018ff45f3000000000000000018ff50f34c4557574441333318ff51f3394a4e343238353918ff52f3380000000000000083001a000101460004584c4d31322d322e30332d4533430000000000005e0a\"\n",
    "# data = \"232301fe4c4450353341393330484331303839383001001e130a1a07350000d13839383630363137303330303137393339353038010023\"\n",
    "data = \"232302fe4c45575445423134374b4e3130303530340101f2130c180e04200101030101a4000387701547288931012e287419000201010443628752085215472864050006cadba0021b02cc0601020cc6011c0c94010b3e0111370700000000000000000009010100183b3c3b3c383939393b3c3e3e3b3c3b3b373939393b3c3e3e0801011547288900a80001a80cbc0cc60cc60cc60cbc0cbc0cbc0cbc0cb20cbc0cb20cb20cb20cb20ca80ca80cb20cb20ca80ca80ca80ca80ca80ca80ca80ca80c9e0c940c940c9e0c9e0c9e0c9e0c9e0c9e0c9e0c9e0c9e0c9e0c9e0c9e0c940c9e0c9e0c9e0c9e0c9e0c9e0c9e0c9e0c9e0c9e0c9e0c9e0c940c940c9e0c9e0ca80ca80ca80ca80ca80ca80ca80ca80ca80ca80ca80c9e0ca80ca80ca80ca80ca80ca80ca80ca80ca80ca80ca80ca80ca80ca80c9e0ca80ca80ca80ca80ca80ca80ca80ca80ca80ca80ca80ca80ca80ca80ca80ca80ca80ca80ca80cb20cb20cbc0cbc0cc60cc60cbc0cbc0ca80ca80ca80ca80cb20cb20cb20ca80cb20cb20cb20cb20ca80c9e0ca80ca80cb20cb20ca80ca80ca80ca80ca80ca80ca80ca80ca80ca80ca80cb20ca80ca80cb20cb20ca80ca80ca80cb20ca80ca80ca80ca80ca80cb20cb20cb20cbc0cbc0cbc0cbc0cbc0cbc0cbc0cbc0cc60cbca1c52dec85bb5565ec00000000000000003b3b0000000cbfeb000bf40a27102d08271029b11848274218482742e9\"\n",
    "\n",
    "data = \"232302fe4c4450584e42334337484631343331393201019e130c12002b160101030101360006f54a102e26eb61011e0a290056020101023e537b4d4442102e26ed050006296ee801c8522c0601080ce4010c0cbc010244010f3d07000000000000000000090101001841444340424344413f3f3f3f3f3f3d3d3f4141403f41413f080101102e26eb007e00017e0cda0cd00cda0cda0cda0cda0cda0ce40ce40ce40cda0cbc0cda0cda0cda0cda0ce40cbc0cda0ce40ce40ce40ce40cda0ce40cda0ce40cda0cda0cbc0ce40ce40ce40cda0cda0cda0cda0cda0ce40cda0ce40cda0ce40cda0ce40cda0ce40cc60cda0ce40ce40ce40cda0ce40ce40cbc0cda0ce40ce40ce40ce40ce40ce40ce40ce40cda0ce40ce40ce40ce40cbc0ce40ce40ce40ce40cda0ce40cda0cda0ce40ce40cda0ce40ce40cc60cc60cc60cda0cbc0cda0cda0ce40cbc0ce40cda0cda0cbc0cc60cc60cda0cda0cda0cda0cbc0cc60cbc0cc60cbc0cbc0cbc0cc60cda0cc60cc60cc60cd00cda0cda0cda0cc60cda0cda0cbc0cda0cda0cd0a10000000000000000000000000000000000000000000000000000000000000000000000000000000000000000d4\"\n",
    "data = \"232302fe4c4450584e42334337484631343331393201019e130c12002b160101030101360006f54a102e26eb61011e0a290056020101023e537b4d4442102e26ed050006296ee801c8522c0601080ce4010c0cbc010244010f3d07000000000000000000090101001841444340424344413f3f3f3f3f3f3d3d3f4141403f41413f080101102e26eb007e00017e0cda0cd00cda0cda0cda0cda0cda0ce40ce40ce40cda0cbc0cda0cda0cda0cda0ce40cbc0cda0ce40ce40ce40ce40cda0ce40cda0ce40cda0cda0cbc0ce40ce40ce40cda0cda0cda0cda0cda0ce40cda0ce40cda0ce40cda0ce40cda0ce40cc60cda0ce40ce40ce40cda0ce40ce40cbc0cda0ce40ce40ce40ce40ce40ce40ce40ce40cda0ce40ce40ce40ce40cbc0ce40ce40ce40ce40cda0ce40cda0cda0ce40ce40cda0ce40ce40cc60cc60cc60cda0cbc0cda0cda0ce40cbc0ce40cda0cda0cbc0cc60cc60cda0cda0cda0cda0cbc0cc60cbc0cc60cbc0cbc0cbc0cc60cda0cc60cc60cc60cd00cda0cda0cda0cc60cda0cda0cbc0cda0cda0cd0a10000000000000000000000000000000000000000000000000000000000000000000000000000000000000000d4\"\n",
    "\n",
    "\n",
    "data_dict_a = '{}'\n",
    "data_dict_b = '{}'\n",
    "data_dict_c = '{}'"
   ]
  },
  {
   "cell_type": "code",
   "execution_count": 48,
   "metadata": {},
   "outputs": [],
   "source": [
    "# 公共函数\n",
    "\n",
    "# 16进制转10进制（先乘精度，后偏移）\n",
    "def hex2dec(x, n=0, k=1):\n",
    "    output_s = int(str(x), 16)\n",
    "    output = output_s*k + n\n",
    "    return output\n",
    "\n",
    "# 16进制转字符串\n",
    "def hex2str(x):\n",
    "    output = binascii.a2b_hex(x).decode(\"utf8\")\n",
    "    return output\n",
    "\n",
    "# 字符串分割\n",
    "def str_split(data, n):\n",
    "    global data_s, data_f, data_2\n",
    "    data_s = data[:n]\n",
    "    data_f = data[n:]\n",
    "    data_2 = data_f[0:2]\n",
    "\n",
    "# 时间\n",
    "def bw_datetime(x):\n",
    "    year = hex2dec(x[0:2]) + 2000\n",
    "    month = hex2dec(x[2:4])\n",
    "    day = hex2dec(x[4:6])\n",
    "    hour = hex2dec(x[6:8])\n",
    "    minute = hex2dec(x[8:10])\n",
    "    second = hex2dec(x[10:12])\n",
    "    output = datetime.datetime(year, month, day, hour, minute, second).strftime('%Y-%m-%d %H:%M:%S')\n",
    "    return output\n",
    "\n",
    "# 位数乘2\n",
    "def hexlist(x):\n",
    "    output = [i*2 for i in x]\n",
    "    return output\n",
    "\n",
    "# 累加\n",
    "def hexlist2(data, n=1):\n",
    "    output = [0]\n",
    "    data = data * n\n",
    "    for i in range(0, len(data)):\n",
    "        output.append(output[i] + data[i])\n",
    "    output = [i*2 for i in output]\n",
    "    return output\n",
    "\n",
    "# 乘\n",
    "def n_m(n, m):\n",
    "    n_10 = hex2dec(n)\n",
    "    m_10 = hex2dec(m)\n",
    "    output = n_10 * n_10\n",
    "    return output"
   ]
  },
  {
   "cell_type": "markdown",
   "metadata": {},
   "source": [
    "# 报文拆分"
   ]
  },
  {
   "cell_type": "code",
   "execution_count": 49,
   "metadata": {},
   "outputs": [
    {
     "data": {
      "text/plain": [
       "{'起始符': '2323',\n",
       " '命令标识': '02',\n",
       " '应答标识': 'fe',\n",
       " '唯一识别码': '4c4450584e423343374846313433313932',\n",
       " '数据单元加密方式': '01',\n",
       " '数据单元长度': '019e',\n",
       " '效验码': 'd4'}"
      ]
     },
     "execution_count": 49,
     "metadata": {},
     "output_type": "execute_result"
    }
   ],
   "source": [
    "# 基础信息\n",
    "cf_jichuxinxi = [0, 2, 3, 4, 21, 22, 24]\n",
    "def fun_cf_jichuxinxi(data, cf):\n",
    "    cf_a = hexlist(cf)\n",
    "    \n",
    "    data_cf = {\n",
    "        \"起始符\":data[cf_a[0]:cf_a[1]],\n",
    "        \"命令标识\":data[cf_a[1]:cf_a[2]],\n",
    "        \"应答标识\":data[cf_a[2]:cf_a[3]],\n",
    "        \"唯一识别码\":data[cf_a[3]:cf_a[4]],\n",
    "        \"数据单元加密方式\":data[cf_a[4]:cf_a[5]],\n",
    "        \"数据单元长度\":data[cf_a[5]:cf_a[6]],\n",
    "        \"效验码\":data[-2:]\n",
    "    }\n",
    "    str_split(data, cf_a[-1])\n",
    "    return data_cf\n",
    "\n",
    "data_dict_a = fun_cf_jichuxinxi(data, cf_jichuxinxi)\n",
    "data_dict_a"
   ]
  },
  {
   "cell_type": "code",
   "execution_count": 50,
   "metadata": {},
   "outputs": [
    {
     "data": {
      "text/plain": [
       "'130c12002b16'"
      ]
     },
     "execution_count": 50,
     "metadata": {},
     "output_type": "execute_result"
    }
   ],
   "source": [
    "# 时间\n",
    "# 采集时间 登入登出时间 共用\n",
    "str_split(data_f, 12)\n",
    "data_cf_time = data_s\n",
    "data_cf_time"
   ]
  },
  {
   "cell_type": "markdown",
   "metadata": {},
   "source": [
    "## 数据单元"
   ]
  },
  {
   "cell_type": "code",
   "execution_count": 51,
   "metadata": {},
   "outputs": [
    {
     "data": {
      "text/plain": [
       "'02'"
      ]
     },
     "execution_count": 51,
     "metadata": {},
     "output_type": "execute_result"
    }
   ],
   "source": [
    "data_dict_a[\"命令标识\"]"
   ]
  },
  {
   "cell_type": "code",
   "execution_count": 52,
   "metadata": {},
   "outputs": [
    {
     "name": "stdout",
     "output_type": "stream",
     "text": [
      "命令标识：02\n"
     ]
    },
    {
     "ename": "NameError",
     "evalue": "name 'fun_cf_02' is not defined",
     "output_type": "error",
     "traceback": [
      "\u001b[1;31m---------------------------------------------------------------------------\u001b[0m",
      "\u001b[1;31mNameError\u001b[0m                                 Traceback (most recent call last)",
      "\u001b[1;32m<ipython-input-52-059371cfd2cf>\u001b[0m in \u001b[0;36m<module>\u001b[1;34m\u001b[0m\n\u001b[0;32m      6\u001b[0m \u001b[1;32melif\u001b[0m \u001b[0mdata_dict_a\u001b[0m\u001b[1;33m[\u001b[0m\u001b[1;34m\"命令标识\"\u001b[0m\u001b[1;33m]\u001b[0m \u001b[1;33m==\u001b[0m \u001b[1;34m\"02\"\u001b[0m \u001b[1;32mor\u001b[0m \u001b[0mdata_dict_a\u001b[0m\u001b[1;33m[\u001b[0m\u001b[1;34m\"命令标识\"\u001b[0m\u001b[1;33m]\u001b[0m \u001b[1;33m==\u001b[0m \u001b[1;34m\"03\"\u001b[0m\u001b[1;33m:\u001b[0m\u001b[1;33m\u001b[0m\u001b[1;33m\u001b[0m\u001b[0m\n\u001b[0;32m      7\u001b[0m     \u001b[0mdata_dict_a\u001b[0m\u001b[1;33m[\u001b[0m\u001b[1;34m'数据单元'\u001b[0m\u001b[1;33m]\u001b[0m\u001b[1;33m[\u001b[0m\u001b[1;34m'信息上报'\u001b[0m\u001b[1;33m]\u001b[0m \u001b[1;33m=\u001b[0m \u001b[1;33m{\u001b[0m\u001b[1;33m}\u001b[0m\u001b[1;33m\u001b[0m\u001b[1;33m\u001b[0m\u001b[0m\n\u001b[1;32m----> 8\u001b[1;33m     \u001b[0mdata_dict_a\u001b[0m \u001b[1;33m=\u001b[0m \u001b[0mfun_cf_02\u001b[0m\u001b[1;33m(\u001b[0m\u001b[1;33m)\u001b[0m\u001b[1;33m\u001b[0m\u001b[1;33m\u001b[0m\u001b[0m\n\u001b[0m\u001b[0;32m      9\u001b[0m \u001b[1;32melif\u001b[0m \u001b[0mdata_dict_a\u001b[0m\u001b[1;33m[\u001b[0m\u001b[1;34m\"命令标识\"\u001b[0m\u001b[1;33m]\u001b[0m \u001b[1;33m==\u001b[0m \u001b[1;34m\"03\"\u001b[0m\u001b[1;33m:\u001b[0m\u001b[1;33m\u001b[0m\u001b[1;33m\u001b[0m\u001b[0m\n\u001b[0;32m     10\u001b[0m     \u001b[0mdata_dict_a\u001b[0m \u001b[1;33m=\u001b[0m \u001b[0mfun_cf_03\u001b[0m\u001b[1;33m(\u001b[0m\u001b[0mdata_f\u001b[0m\u001b[1;33m,\u001b[0m \u001b[0mcf_03\u001b[0m\u001b[1;33m)\u001b[0m\u001b[1;33m\u001b[0m\u001b[1;33m\u001b[0m\u001b[0m\n",
      "\u001b[1;31mNameError\u001b[0m: name 'fun_cf_02' is not defined"
     ]
    }
   ],
   "source": [
    "data_dict_a['数据单元'] = {}\n",
    "print(\"命令标识：\" + data_dict_a[\"命令标识\"])\n",
    "# 从命令标识，创建\n",
    "if data_dict_a[\"命令标识\"] == \"01\":\n",
    "    data_dict_a[\"数据单元\"][\"车辆登入\"] = fun_cf_cheliangdengru(data_f, cf_cheliangdengru)\n",
    "elif data_dict_a[\"命令标识\"] == \"02\" or data_dict_a[\"命令标识\"] == \"03\":\n",
    "    data_dict_a['数据单元']['信息上报'] = {}\n",
    "    data_dict_a = fun_cf_02()\n",
    "elif data_dict_a[\"命令标识\"] == \"03\":\n",
    "    data_dict_a = fun_cf_03(data_f, cf_03)\n",
    "elif data_dict_a[\"命令标识\"] == \"04\":\n",
    "    data_dict_a = fun_cf_04(data_f, cf_04)\n",
    "elif data_dict_a[\"命令标识\"] == \"05\":\n",
    "    data_dict_a = fun_cf_05(data_f, cf_05)\n",
    "else:\n",
    "    print(\"ERROR:命令标识\")\n",
    "    "
   ]
  },
  {
   "cell_type": "code",
   "execution_count": 53,
   "metadata": {},
   "outputs": [
    {
     "ename": "KeyError",
     "evalue": "'车辆登入'",
     "output_type": "error",
     "traceback": [
      "\u001b[1;31m---------------------------------------------------------------------------\u001b[0m",
      "\u001b[1;31mKeyError\u001b[0m                                  Traceback (most recent call last)",
      "\u001b[1;32m<ipython-input-53-ea32c57777be>\u001b[0m in \u001b[0;36m<module>\u001b[1;34m\u001b[0m\n\u001b[0;32m     27\u001b[0m     \u001b[1;32mreturn\u001b[0m \u001b[0mdata_cf\u001b[0m\u001b[1;33m\u001b[0m\u001b[1;33m\u001b[0m\u001b[0m\n\u001b[0;32m     28\u001b[0m \u001b[1;33m\u001b[0m\u001b[0m\n\u001b[1;32m---> 29\u001b[1;33m \u001b[0mdata_dict_a\u001b[0m\u001b[1;33m[\u001b[0m\u001b[1;34m\"数据单元\"\u001b[0m\u001b[1;33m]\u001b[0m\u001b[1;33m[\u001b[0m\u001b[1;34m\"车辆登入\"\u001b[0m\u001b[1;33m]\u001b[0m \u001b[1;33m=\u001b[0m \u001b[0mfun_cf_cheliangdengru\u001b[0m\u001b[1;33m(\u001b[0m\u001b[0mdata_f\u001b[0m\u001b[1;33m,\u001b[0m \u001b[0mcf_cheliangdengru\u001b[0m\u001b[1;33m)\u001b[0m\u001b[1;33m\u001b[0m\u001b[1;33m\u001b[0m\u001b[0m\n\u001b[0m\u001b[0;32m     30\u001b[0m \u001b[0mdata_dict_a\u001b[0m\u001b[1;33m\u001b[0m\u001b[1;33m\u001b[0m\u001b[0m\n",
      "\u001b[1;32m<ipython-input-53-ea32c57777be>\u001b[0m in \u001b[0;36mfun_cf_cheliangdengru\u001b[1;34m(data, cf)\u001b[0m\n\u001b[0;32m     14\u001b[0m     }\n\u001b[0;32m     15\u001b[0m \u001b[1;33m\u001b[0m\u001b[0m\n\u001b[1;32m---> 16\u001b[1;33m     \u001b[0mn\u001b[0m \u001b[1;33m=\u001b[0m \u001b[0mhex2dec\u001b[0m\u001b[1;33m(\u001b[0m\u001b[0mdata_cf\u001b[0m\u001b[1;33m[\u001b[0m\u001b[1;34m\"车辆登入\"\u001b[0m\u001b[1;33m]\u001b[0m\u001b[1;33m[\u001b[0m\u001b[1;34m\"可充电储能子系统数\"\u001b[0m\u001b[1;33m]\u001b[0m\u001b[1;33m)\u001b[0m\u001b[1;33m\u001b[0m\u001b[1;33m\u001b[0m\u001b[0m\n\u001b[0m\u001b[0;32m     17\u001b[0m     \u001b[0mm\u001b[0m \u001b[1;33m=\u001b[0m \u001b[0mhex2dec\u001b[0m\u001b[1;33m(\u001b[0m\u001b[0mdata_cf\u001b[0m\u001b[1;33m[\u001b[0m\u001b[1;34m\"车辆登入\"\u001b[0m\u001b[1;33m]\u001b[0m\u001b[1;33m[\u001b[0m\u001b[1;34m\"可充电储能系统编码长度\"\u001b[0m\u001b[1;33m]\u001b[0m\u001b[1;33m)\u001b[0m\u001b[1;33m\u001b[0m\u001b[1;33m\u001b[0m\u001b[0m\n\u001b[0;32m     18\u001b[0m     \u001b[0mnm\u001b[0m \u001b[1;33m=\u001b[0m \u001b[0mn\u001b[0m\u001b[1;33m*\u001b[0m\u001b[0mm\u001b[0m\u001b[1;33m\u001b[0m\u001b[1;33m\u001b[0m\u001b[0m\n",
      "\u001b[1;31mKeyError\u001b[0m: '车辆登入'"
     ]
    }
   ],
   "source": [
    "# 车辆登入\n",
    "cf_cheliangdengru = [2, 20, 1, 1]\n",
    "\n",
    "def fun_cf_cheliangdengru(data, cf):\n",
    "    cf_a = hexlist2(cf)\n",
    "    \n",
    "    data_cf = {\n",
    "        \"数据采集时间\":data_cf_time,\n",
    "        \"登入流水号\":data[cf_a[0]:cf_a[1]],\n",
    "        \"ICCID\":data[cf_a[1]:cf_a[2]],\n",
    "        \"可充电储能子系统数\":data[cf_a[2]:cf_a[3]],\n",
    "        \"可充电储能系统编码长度\":data[cf_a[3]:cf_a[4]]\n",
    "        # \"可充电储能系统编码\":data[cf_a[4]:cf_a[5]]\n",
    "    }\n",
    "    \n",
    "    n = hex2dec(data_cf[\"车辆登入\"][\"可充电储能子系统数\"])\n",
    "    m = hex2dec(data_cf[\"车辆登入\"][\"可充电储能系统编码长度\"])\n",
    "    nm = n*m\n",
    "    # 判断\n",
    "    if(data_cf[\"车辆登入\"][\"可充电储能系统编码长度\"]=='00'):\n",
    "        data_cf[\"车辆登入\"][\"可充电储能系统编码\"] = \"NA\"\n",
    "        str_split(data, cf_a[-1])\n",
    "    else:\n",
    "        data_cf[\"车辆登入\"][\"可充电储能系统编码\"] = data[cf_a[4]:cf_a[4] + nm]\n",
    "        str_split(data, cf_a[-1]+nm)\n",
    "    \n",
    "    return data_cf\n",
    "\n",
    "data_dict_a[\"数据单元\"][\"车辆登入\"] = fun_cf_cheliangdengru(data_f, cf_cheliangdengru)\n",
    "data_dict_a"
   ]
  },
  {
   "cell_type": "code",
   "execution_count": 54,
   "metadata": {},
   "outputs": [
    {
     "data": {
      "text/plain": [
       "'0101030101360006f54a102e26eb61011e0a290056020101023e537b4d4442102e26ed050006296ee801c8522c0601080ce4010c0cbc010244010f3d07000000000000000000090101001841444340424344413f3f3f3f3f3f3d3d3f4141403f41413f080101102e26eb007e00017e0cda0cd00cda0cda0cda0cda0cda0ce40ce40ce40cda0cbc0cda0cda0cda0cda0ce40cbc0cda0ce40ce40ce40ce40cda0ce40cda0ce40cda0cda0cbc0ce40ce40ce40cda0cda0cda0cda0cda0ce40cda0ce40cda0ce40cda0ce40cda0ce40cc60cda0ce40ce40ce40cda0ce40ce40cbc0cda0ce40ce40ce40ce40ce40ce40ce40ce40cda0ce40ce40ce40ce40cbc0ce40ce40ce40ce40cda0ce40cda0cda0ce40ce40cda0ce40ce40cc60cc60cc60cda0cbc0cda0cda0ce40cbc0ce40cda0cda0cbc0cc60cc60cda0cda0cda0cda0cbc0cc60cbc0cc60cbc0cbc0cbc0cc60cda0cc60cc60cc60cd00cda0cda0cda0cc60cda0cda0cbc0cda0cda0cd0a10000000000000000000000000000000000000000000000000000000000000000000000000000000000000000d4'"
      ]
     },
     "execution_count": 54,
     "metadata": {},
     "output_type": "execute_result"
    }
   ],
   "source": [
    "data_f"
   ]
  },
  {
   "cell_type": "code",
   "execution_count": 55,
   "metadata": {},
   "outputs": [
    {
     "data": {
      "text/plain": [
       "{'起始符': '2323',\n",
       " '命令标识': '02',\n",
       " '应答标识': 'fe',\n",
       " '唯一识别码': '4c4450584e423343374846313433313932',\n",
       " '数据单元加密方式': '01',\n",
       " '数据单元长度': '019e',\n",
       " '效验码': 'd4',\n",
       " '数据单元': {'信息上报': {}}}"
      ]
     },
     "execution_count": 55,
     "metadata": {},
     "output_type": "execute_result"
    }
   ],
   "source": [
    "data_dict_a"
   ]
  },
  {
   "cell_type": "code",
   "execution_count": 56,
   "metadata": {},
   "outputs": [
    {
     "data": {
      "text/plain": [
       "{'起始符': '2323',\n",
       " '命令标识': '02',\n",
       " '应答标识': 'fe',\n",
       " '唯一识别码': '4c4450584e423343374846313433313932',\n",
       " '数据单元加密方式': '01',\n",
       " '数据单元长度': '019e',\n",
       " '效验码': 'd4',\n",
       " '数据单元': {'信息上报': {'整车数据': {'车辆状态': '01',\n",
       "    '充电状态': '03',\n",
       "    '运行模式': '01',\n",
       "    '车速': '0136',\n",
       "    '累计里程': '0006f54a',\n",
       "    '总电压': '102e',\n",
       "    '总电流': '26eb',\n",
       "    'SOC': '61',\n",
       "    'DC-DC状态': '01',\n",
       "    '挡位': '1e',\n",
       "    '绝缘电阻': '0a29',\n",
       "    '加速踏板行程值': '00',\n",
       "    '制动踏板状态': '56'}}}}"
      ]
     },
     "execution_count": 56,
     "metadata": {},
     "output_type": "execute_result"
    }
   ],
   "source": [
    "# 01 整车数据\n",
    "cf_xxsb_zhengcheshuju = [1, 1, 1, 2, 4, 2, 2, 1, 1, 1, 2, 1, 1]\n",
    "def fun_cf_xxsb_zhenogcheshuju(data, cf):\n",
    "    cf_a = hexlist2(cf)\n",
    "    # str_split(data, cf_xxsb_zhengcheshuju[-1])\n",
    "    \n",
    "    # 剔除 信息类型标志(1)\n",
    "    data = data[2:]\n",
    "    \n",
    "    data_cf_xxsb_zhengcheshuju = {\n",
    "        \"车辆状态\":data[cf_a[0]:cf_a[1]],\n",
    "        \"充电状态\":data[cf_a[1]:cf_a[2]],\n",
    "        \"运行模式\":data[cf_a[2]:cf_a[3]],\n",
    "        \"车速\":data[cf_a[3]:cf_a[4]],\n",
    "        \"累计里程\":data[cf_a[4]:cf_a[5]],\n",
    "        \"总电压\":data[cf_a[5]:cf_a[6]],\n",
    "        \"总电流\":data[cf_a[6]:cf_a[7]],\n",
    "        \"SOC\":data[cf_a[7]:cf_a[8]],\n",
    "        \"DC-DC状态\":data[cf_a[8]:cf_a[9]],\n",
    "        \"挡位\":data[cf_a[9]:cf_a[10]],\n",
    "        \"绝缘电阻\":data[cf_a[10]:cf_a[11]],\n",
    "        \"加速踏板行程值\":data[cf_a[11]:cf_a[12]],\n",
    "        \"制动踏板状态\":data[cf_a[12]:cf_a[13]]\n",
    "    }\n",
    "    str_split(data, cf_a[-1])\n",
    "    return data_cf_xxsb_zhengcheshuju\n",
    "\n",
    "data_dict_a[\"数据单元\"][\"信息上报\"][\"整车数据\"] = fun_cf_xxsb_zhenogcheshuju(data_f, cf_xxsb_zhengcheshuju)\n",
    "data_dict_a"
   ]
  },
  {
   "cell_type": "code",
   "execution_count": 57,
   "metadata": {},
   "outputs": [
    {
     "data": {
      "text/plain": [
       "'020101023e537b4d4442102e26ed050006296ee801c8522c0601080ce4010c0cbc010244010f3d07000000000000000000090101001841444340424344413f3f3f3f3f3f3d3d3f4141403f41413f080101102e26eb007e00017e0cda0cd00cda0cda0cda0cda0cda0ce40ce40ce40cda0cbc0cda0cda0cda0cda0ce40cbc0cda0ce40ce40ce40ce40cda0ce40cda0ce40cda0cda0cbc0ce40ce40ce40cda0cda0cda0cda0cda0ce40cda0ce40cda0ce40cda0ce40cda0ce40cc60cda0ce40ce40ce40cda0ce40ce40cbc0cda0ce40ce40ce40ce40ce40ce40ce40ce40cda0ce40ce40ce40ce40cbc0ce40ce40ce40ce40cda0ce40cda0cda0ce40ce40cda0ce40ce40cc60cc60cc60cda0cbc0cda0cda0ce40cbc0ce40cda0cda0cbc0cc60cc60cda0cda0cda0cda0cbc0cc60cbc0cc60cbc0cbc0cbc0cc60cda0cc60cc60cc60cd00cda0cda0cda0cc60cda0cda0cbc0cda0cda0cd0a10000000000000000000000000000000000000000000000000000000000000000000000000000000000000000d4'"
      ]
     },
     "execution_count": 57,
     "metadata": {},
     "output_type": "execute_result"
    }
   ],
   "source": [
    "data_f"
   ]
  },
  {
   "cell_type": "code",
   "execution_count": 58,
   "metadata": {},
   "outputs": [
    {
     "data": {
      "text/plain": [
       "{'起始符': '2323',\n",
       " '命令标识': '02',\n",
       " '应答标识': 'fe',\n",
       " '唯一识别码': '4c4450584e423343374846313433313932',\n",
       " '数据单元加密方式': '01',\n",
       " '数据单元长度': '019e',\n",
       " '效验码': 'd4',\n",
       " '数据单元': {'信息上报': {'整车数据': {'车辆状态': '01',\n",
       "    '充电状态': '03',\n",
       "    '运行模式': '01',\n",
       "    '车速': '0136',\n",
       "    '累计里程': '0006f54a',\n",
       "    '总电压': '102e',\n",
       "    '总电流': '26eb',\n",
       "    'SOC': '61',\n",
       "    'DC-DC状态': '01',\n",
       "    '挡位': '1e',\n",
       "    '绝缘电阻': '0a29',\n",
       "    '加速踏板行程值': '00',\n",
       "    '制动踏板状态': '56'},\n",
       "   '驱动电机数据': {'驱动电机个数': '01',\n",
       "    '驱动电机总成信息列表': {'01': {'驱动电机状态': '02',\n",
       "      '驱动电机控制器温度': '3e',\n",
       "      '驱动电机转速': '537b',\n",
       "      '驱动电机转矩': '4d44',\n",
       "      '驱动电机温度': '42',\n",
       "      '电机控制器输入电压': '102e',\n",
       "      '电机控制器直流母线电流': '26ed'}}}}}}"
      ]
     },
     "execution_count": 58,
     "metadata": {},
     "output_type": "execute_result"
    }
   ],
   "source": [
    "# 02 驱动电机数据\n",
    "cf_xxsb_qudongdianjishuju = [1, 1, 1, 2, 2, 1, 2, 2]\n",
    "\n",
    "def fun_cf_xxsb_zhengcheshuju(data, cf):\n",
    "    # 剔除 信息类型标志(1)\n",
    "    data = data[2:]\n",
    "\n",
    "    # 驱动电机个数\n",
    "    n_dianji_o = data[0:2]\n",
    "    n_dianji = hex2dec(data[0:2])\n",
    "\n",
    "    # 剔除 电机个数(1)\n",
    "    data = data[2:]\n",
    "\n",
    "    cf_a = hexlist2(cf, n_dianji)\n",
    "\n",
    "    # 个体长\n",
    "    cf_n = sum(cf)*2\n",
    "    dianjizongchengliebiao_all = {}\n",
    "    for i in range(0,n_dianji):\n",
    "        dianjizongchengliebiao_s = {\n",
    "            data[cf_a[0+cf_n*i]:cf_a[1+cf_n*i]]:{\n",
    "                    \"驱动电机状态\":data[cf_a[1+cf_n*i]:cf_a[2+cf_n*i]],\n",
    "                    \"驱动电机控制器温度\":data[cf_a[2+cf_n*i]:cf_a[3+cf_n*i]],\n",
    "                    \"驱动电机转速\":data[cf_a[3+cf_n*i]:cf_a[4+cf_n*i]],\n",
    "                    \"驱动电机转矩\":data[cf_a[4+cf_n*i]:cf_a[5+cf_n*i]],\n",
    "                    \"驱动电机温度\":data[cf_a[5+cf_n*i]:cf_a[6+cf_n*i]],\n",
    "                    \"电机控制器输入电压\":data[cf_a[6+cf_n*i]:cf_a[7+cf_n*i]],\n",
    "                    \"电机控制器直流母线电流\":data[cf_a[7+cf_n*i]:cf_a[8+cf_n*i]]\n",
    "            }\n",
    "        }\n",
    "        dianjizongchengliebiao_all = dict(dianjizongchengliebiao_all, **dianjizongchengliebiao_s)\n",
    "\n",
    "    data_cf_xxsb_zhengcheshuju = {\n",
    "        \"驱动电机个数\":n_dianji_o,\n",
    "        \"驱动电机总成信息列表\":dianjizongchengliebiao_all\n",
    "    }\n",
    "    str_split(data, cf_a[-1])\n",
    "    return data_cf_xxsb_zhengcheshuju\n",
    "\n",
    "data_dict_a[\"数据单元\"][\"信息上报\"][\"驱动电机数据\"] = fun_cf_xxsb_zhengcheshuju(data_f, cf_xxsb_qudongdianjishuju)\n",
    "data_dict_a"
   ]
  },
  {
   "cell_type": "code",
   "execution_count": 59,
   "metadata": {},
   "outputs": [
    {
     "data": {
      "text/plain": [
       "'050006296ee801c8522c0601080ce4010c0cbc010244010f3d07000000000000000000090101001841444340424344413f3f3f3f3f3f3d3d3f4141403f41413f080101102e26eb007e00017e0cda0cd00cda0cda0cda0cda0cda0ce40ce40ce40cda0cbc0cda0cda0cda0cda0ce40cbc0cda0ce40ce40ce40ce40cda0ce40cda0ce40cda0cda0cbc0ce40ce40ce40cda0cda0cda0cda0cda0ce40cda0ce40cda0ce40cda0ce40cda0ce40cc60cda0ce40ce40ce40cda0ce40ce40cbc0cda0ce40ce40ce40ce40ce40ce40ce40ce40cda0ce40ce40ce40ce40cbc0ce40ce40ce40ce40cda0ce40cda0cda0ce40ce40cda0ce40ce40cc60cc60cc60cda0cbc0cda0cda0ce40cbc0ce40cda0cda0cbc0cc60cc60cda0cda0cda0cda0cbc0cc60cbc0cc60cbc0cbc0cbc0cc60cda0cc60cc60cc60cd00cda0cda0cda0cc60cda0cda0cbc0cda0cda0cd0a10000000000000000000000000000000000000000000000000000000000000000000000000000000000000000d4'"
      ]
     },
     "execution_count": 59,
     "metadata": {},
     "output_type": "execute_result"
    }
   ],
   "source": [
    "data_f"
   ]
  },
  {
   "cell_type": "code",
   "execution_count": 60,
   "metadata": {},
   "outputs": [
    {
     "data": {
      "text/plain": [
       "{'起始符': '2323',\n",
       " '命令标识': '02',\n",
       " '应答标识': 'fe',\n",
       " '唯一识别码': '4c4450584e423343374846313433313932',\n",
       " '数据单元加密方式': '01',\n",
       " '数据单元长度': '019e',\n",
       " '效验码': 'd4',\n",
       " '数据单元': {'信息上报': {'整车数据': {'车辆状态': '01',\n",
       "    '充电状态': '03',\n",
       "    '运行模式': '01',\n",
       "    '车速': '0136',\n",
       "    '累计里程': '0006f54a',\n",
       "    '总电压': '102e',\n",
       "    '总电流': '26eb',\n",
       "    'SOC': '61',\n",
       "    'DC-DC状态': '01',\n",
       "    '挡位': '1e',\n",
       "    '绝缘电阻': '0a29',\n",
       "    '加速踏板行程值': '00',\n",
       "    '制动踏板状态': '56'},\n",
       "   '驱动电机数据': {'驱动电机个数': '01',\n",
       "    '驱动电机总成信息列表': {'01': {'驱动电机状态': '02',\n",
       "      '驱动电机控制器温度': '3e',\n",
       "      '驱动电机转速': '537b',\n",
       "      '驱动电机转矩': '4d44',\n",
       "      '驱动电机温度': '42',\n",
       "      '电机控制器输入电压': '102e',\n",
       "      '电机控制器直流母线电流': '26ed'}}},\n",
       "   '车辆位置数据': {'定位状态': '00', '经度': '06296ee8', '纬度': '01c8522c'}}}}"
      ]
     },
     "execution_count": 60,
     "metadata": {},
     "output_type": "execute_result"
    }
   ],
   "source": [
    "# 05 车辆位置数据\n",
    "cf_xxsb_cheliangweizhishuju = [1, 4, 4]\n",
    "\n",
    "def fun_cf_cheliangweizhishuju(data, cf):\n",
    "    # 剔除 信息类型标志(1)\n",
    "    data = data[2:]\n",
    "    \n",
    "    cf_a = hexlist2(cf)\n",
    "    \n",
    "    data_cf_xxsb_cheliangweizhishuju = {\n",
    "        \"定位状态\":data[cf_a[0]:cf_a[1]],\n",
    "        \"经度\":data[cf_a[1]:cf_a[2]],\n",
    "        \"纬度\":data[cf_a[2]:cf_a[3]],\n",
    "    }\n",
    "    str_split(data, cf_a[-1])\n",
    "    return data_cf_xxsb_cheliangweizhishuju\n",
    "    \n",
    "data_dict_a[\"数据单元\"][\"信息上报\"][\"车辆位置数据\"] = fun_cf_cheliangweizhishuju(data_f, cf_xxsb_cheliangweizhishuju)\n",
    "data_dict_a"
   ]
  },
  {
   "cell_type": "code",
   "execution_count": 61,
   "metadata": {},
   "outputs": [
    {
     "data": {
      "text/plain": [
       "'0601080ce4010c0cbc010244010f3d07000000000000000000090101001841444340424344413f3f3f3f3f3f3d3d3f4141403f41413f080101102e26eb007e00017e0cda0cd00cda0cda0cda0cda0cda0ce40ce40ce40cda0cbc0cda0cda0cda0cda0ce40cbc0cda0ce40ce40ce40ce40cda0ce40cda0ce40cda0cda0cbc0ce40ce40ce40cda0cda0cda0cda0cda0ce40cda0ce40cda0ce40cda0ce40cda0ce40cc60cda0ce40ce40ce40cda0ce40ce40cbc0cda0ce40ce40ce40ce40ce40ce40ce40ce40cda0ce40ce40ce40ce40cbc0ce40ce40ce40ce40cda0ce40cda0cda0ce40ce40cda0ce40ce40cc60cc60cc60cda0cbc0cda0cda0ce40cbc0ce40cda0cda0cbc0cc60cc60cda0cda0cda0cda0cbc0cc60cbc0cc60cbc0cbc0cbc0cc60cda0cc60cc60cc60cd00cda0cda0cda0cc60cda0cda0cbc0cda0cda0cd0a10000000000000000000000000000000000000000000000000000000000000000000000000000000000000000d4'"
      ]
     },
     "execution_count": 61,
     "metadata": {},
     "output_type": "execute_result"
    }
   ],
   "source": [
    "data_f"
   ]
  },
  {
   "cell_type": "code",
   "execution_count": 62,
   "metadata": {},
   "outputs": [
    {
     "data": {
      "text/plain": [
       "{'起始符': '2323',\n",
       " '命令标识': '02',\n",
       " '应答标识': 'fe',\n",
       " '唯一识别码': '4c4450584e423343374846313433313932',\n",
       " '数据单元加密方式': '01',\n",
       " '数据单元长度': '019e',\n",
       " '效验码': 'd4',\n",
       " '数据单元': {'信息上报': {'整车数据': {'车辆状态': '01',\n",
       "    '充电状态': '03',\n",
       "    '运行模式': '01',\n",
       "    '车速': '0136',\n",
       "    '累计里程': '0006f54a',\n",
       "    '总电压': '102e',\n",
       "    '总电流': '26eb',\n",
       "    'SOC': '61',\n",
       "    'DC-DC状态': '01',\n",
       "    '挡位': '1e',\n",
       "    '绝缘电阻': '0a29',\n",
       "    '加速踏板行程值': '00',\n",
       "    '制动踏板状态': '56'},\n",
       "   '驱动电机数据': {'驱动电机个数': '01',\n",
       "    '驱动电机总成信息列表': {'01': {'驱动电机状态': '02',\n",
       "      '驱动电机控制器温度': '3e',\n",
       "      '驱动电机转速': '537b',\n",
       "      '驱动电机转矩': '4d44',\n",
       "      '驱动电机温度': '42',\n",
       "      '电机控制器输入电压': '102e',\n",
       "      '电机控制器直流母线电流': '26ed'}}},\n",
       "   '车辆位置数据': {'定位状态': '00', '经度': '06296ee8', '纬度': '01c8522c'},\n",
       "   '极值数据': {'最高电压电池子系统号': '01',\n",
       "    '最高电压电池单体代号': '08',\n",
       "    '电池单体电压最高值': '0ce4',\n",
       "    '最低电压电池子系统号': '01',\n",
       "    '最低电压电池单体代号': '0c',\n",
       "    '电池单体电压最低值': '0cbc',\n",
       "    '最高温度子系统号': '01',\n",
       "    '最高温度探针序号': '02',\n",
       "    '最高温度值': '44',\n",
       "    '最低温度子系统号': '01',\n",
       "    '最低温度探针序号': '0f',\n",
       "    '最低温度值': '3d'}}}}"
      ]
     },
     "execution_count": 62,
     "metadata": {},
     "output_type": "execute_result"
    }
   ],
   "source": [
    "# 06 极值数据\n",
    "cf_xxsb_jizhishuju = [1, 1, 2, 1, 1, 2, 1, 1, 1, 1, 1, 1]\n",
    "\n",
    "def fun_cf_xxsb_jizhishuju(data, cf):\n",
    "    # 剔除 信息类型标志(1)\n",
    "    data = data[2:]\n",
    "    \n",
    "    cf_a = hexlist2(cf)\n",
    "    \n",
    "    data_cf_xxsb_jizhishuju = {\n",
    "        \"最高电压电池子系统号\":data[cf_a[0]:cf_a[1]],\n",
    "        \"最高电压电池单体代号\":data[cf_a[1]:cf_a[2]],\n",
    "        \"电池单体电压最高值\":data[cf_a[2]:cf_a[3]],\n",
    "        \"最低电压电池子系统号\":data[cf_a[3]:cf_a[4]],\n",
    "        \"最低电压电池单体代号\":data[cf_a[4]:cf_a[5]],\n",
    "        \"电池单体电压最低值\":data[cf_a[5]:cf_a[6]],\n",
    "        \"最高温度子系统号\":data[cf_a[6]:cf_a[7]],\n",
    "        \"最高温度探针序号\":data[cf_a[7]:cf_a[8]],\n",
    "        \"最高温度值\":data[cf_a[8]:cf_a[9]],\n",
    "        \"最低温度子系统号\":data[cf_a[9]:cf_a[10]],\n",
    "        \"最低温度探针序号\":data[cf_a[10]:cf_a[11]],\n",
    "        \"最低温度值\":data[cf_a[11]:cf_a[12]],\n",
    "    }\n",
    "    str_split(data, cf_a[-1])\n",
    "    return data_cf_xxsb_jizhishuju\n",
    "\n",
    "data_dict_a[\"数据单元\"][\"信息上报\"][\"极值数据\"] = fun_cf_xxsb_jizhishuju(data_f, cf_xxsb_jizhishuju)\n",
    "data_dict_a"
   ]
  },
  {
   "cell_type": "code",
   "execution_count": 41,
   "metadata": {},
   "outputs": [
    {
     "data": {
      "text/plain": [
       "'07000000000000000000090101001841444340424344413f3f3f3f3f3f3d3d3f4141403f41413f080101102e26eb007e00017e0cda0cd00cda0cda0cda0cda0cda0ce40ce40ce40cda0cbc0cda0cda0cda0cda0ce40cbc0cda0ce40ce40ce40ce40cda0ce40cda0ce40cda0cda0cbc0ce40ce40ce40cda0cda0cda0cda0cda0ce40cda0ce40cda0ce40cda0ce40cda0ce40cc60cda0ce40ce40ce40cda0ce40ce40cbc0cda0ce40ce40ce40ce40ce40ce40ce40ce40cda0ce40ce40ce40ce40cbc0ce40ce40ce40ce40cda0ce40cda0cda0ce40ce40cda0ce40ce40cc60cc60cc60cda0cbc0cda0cda0ce40cbc0ce40cda0cda0cbc0cc60cc60cda0cda0cda0cda0cbc0cc60cbc0cc60cbc0cbc0cbc0cc60cda0cc60cc60cc60cd00cda0cda0cda0cc60cda0cda0cbc0cda0cda0cd0a10000000000000000000000000000000000000000000000000000000000000000000000000000000000000000d4'"
      ]
     },
     "execution_count": 41,
     "metadata": {},
     "output_type": "execute_result"
    }
   ],
   "source": [
    "data_f"
   ]
  },
  {
   "cell_type": "code",
   "execution_count": 66,
   "metadata": {},
   "outputs": [
    {
     "data": {
      "text/plain": [
       "{'起始符': '2323',\n",
       " '命令标识': '02',\n",
       " '应答标识': 'fe',\n",
       " '唯一识别码': '4c4450584e423343374846313433313932',\n",
       " '数据单元加密方式': '01',\n",
       " '数据单元长度': '019e',\n",
       " '效验码': 'd4',\n",
       " '数据单元': {'信息上报': {'整车数据': {'车辆状态': '01',\n",
       "    '充电状态': '03',\n",
       "    '运行模式': '01',\n",
       "    '车速': '0136',\n",
       "    '累计里程': '0006f54a',\n",
       "    '总电压': '102e',\n",
       "    '总电流': '26eb',\n",
       "    'SOC': '61',\n",
       "    'DC-DC状态': '01',\n",
       "    '挡位': '1e',\n",
       "    '绝缘电阻': '0a29',\n",
       "    '加速踏板行程值': '00',\n",
       "    '制动踏板状态': '56'},\n",
       "   '驱动电机数据': {'驱动电机个数': '01',\n",
       "    '驱动电机总成信息列表': {'01': {'驱动电机状态': '02',\n",
       "      '驱动电机控制器温度': '3e',\n",
       "      '驱动电机转速': '537b',\n",
       "      '驱动电机转矩': '4d44',\n",
       "      '驱动电机温度': '42',\n",
       "      '电机控制器输入电压': '102e',\n",
       "      '电机控制器直流母线电流': '26ed'}}},\n",
       "   '车辆位置数据': {'定位状态': '00', '经度': '06296ee8', '纬度': '01c8522c'},\n",
       "   '极值数据': {'最高电压电池子系统号': '01',\n",
       "    '最高电压电池单体代号': '08',\n",
       "    '电池单体电压最高值': '0ce4',\n",
       "    '最低电压电池子系统号': '01',\n",
       "    '最低电压电池单体代号': '0c',\n",
       "    '电池单体电压最低值': '0cbc',\n",
       "    '最高温度子系统号': '01',\n",
       "    '最高温度探针序号': '02',\n",
       "    '最高温度值': '44',\n",
       "    '最低温度子系统号': '01',\n",
       "    '最低温度探针序号': '0f',\n",
       "    '最低温度值': '3d'},\n",
       "   '可充电储能装置电压数据': {'可充电储能子系统个数': '00', '可充电储能子系统电压信息列表': {}},\n",
       "   '报警数据': {'最高报警等级': '00',\n",
       "    '通用报警标志': '00000000',\n",
       "    '可充电储能装置故障总数N1': '00',\n",
       "    '驱动电机故障总数N2': '00',\n",
       "    '发动机故障总数N3': '00',\n",
       "    '其他故障总数N4': '00'}}}}"
      ]
     },
     "execution_count": 66,
     "metadata": {},
     "output_type": "execute_result"
    }
   ],
   "source": [
    "# 07 报警数据\n",
    "# 此栏子故障数未使用\n",
    "\n",
    "cf_xxsb_baojingshuju = [1, 4, 1, 1, 1, 1]\n",
    "\n",
    "def fun_cf_xxsb_baojingshuju(data, cf):\n",
    "    # 剔除 信息类型标志(1)\n",
    "    data = data[2:]\n",
    "    \n",
    "    cf_a = hexlist2(cf)\n",
    "\n",
    "    data_cf_xxsb_baojingshuju = {\n",
    "        \"最高报警等级\":data[cf_a[0]:cf_a[1]],\n",
    "        \"通用报警标志\":data[cf_a[1]:cf_a[2]],\n",
    "        \"可充电储能装置故障总数N1\":data[cf_a[2]:cf_a[3]],\n",
    "        \"驱动电机故障总数N2\":data[cf_a[3]:cf_a[4]],\n",
    "        \"发动机故障总数N3\":data[cf_a[4]:cf_a[5]],\n",
    "        \"其他故障总数N4\":data[cf_a[5]:cf_a[6]],\n",
    "    }\n",
    "    str_split(data, cf_a[-1])\n",
    "    return data_cf_xxsb_baojingshuju\n",
    "\n",
    "data_dict_a[\"数据单元\"][\"信息上报\"][\"报警数据\"] = fun_cf_xxsb_baojingshuju(data_f, cf_xxsb_baojingshuju)\n",
    "data_dict_a"
   ]
  },
  {
   "cell_type": "code",
   "execution_count": 71,
   "metadata": {},
   "outputs": [
    {
     "data": {
      "text/plain": [
       "'a10000000000000000000000000000000000000000000000000000000000000000000000000000000000000000d4'"
      ]
     },
     "execution_count": 71,
     "metadata": {},
     "output_type": "execute_result"
    }
   ],
   "source": [
    "data_f"
   ]
  },
  {
   "cell_type": "code",
   "execution_count": 70,
   "metadata": {},
   "outputs": [
    {
     "data": {
      "text/plain": [
       "{'起始符': '2323',\n",
       " '命令标识': '02',\n",
       " '应答标识': 'fe',\n",
       " '唯一识别码': '4c4450584e423343374846313433313932',\n",
       " '数据单元加密方式': '01',\n",
       " '数据单元长度': '019e',\n",
       " '效验码': 'd4',\n",
       " '数据单元': {'信息上报': {'整车数据': {'车辆状态': '01',\n",
       "    '充电状态': '03',\n",
       "    '运行模式': '01',\n",
       "    '车速': '0136',\n",
       "    '累计里程': '0006f54a',\n",
       "    '总电压': '102e',\n",
       "    '总电流': '26eb',\n",
       "    'SOC': '61',\n",
       "    'DC-DC状态': '01',\n",
       "    '挡位': '1e',\n",
       "    '绝缘电阻': '0a29',\n",
       "    '加速踏板行程值': '00',\n",
       "    '制动踏板状态': '56'},\n",
       "   '驱动电机数据': {'驱动电机个数': '01',\n",
       "    '驱动电机总成信息列表': {'01': {'驱动电机状态': '02',\n",
       "      '驱动电机控制器温度': '3e',\n",
       "      '驱动电机转速': '537b',\n",
       "      '驱动电机转矩': '4d44',\n",
       "      '驱动电机温度': '42',\n",
       "      '电机控制器输入电压': '102e',\n",
       "      '电机控制器直流母线电流': '26ed'}}},\n",
       "   '车辆位置数据': {'定位状态': '00', '经度': '06296ee8', '纬度': '01c8522c'},\n",
       "   '极值数据': {'最高电压电池子系统号': '01',\n",
       "    '最高电压电池单体代号': '08',\n",
       "    '电池单体电压最高值': '0ce4',\n",
       "    '最低电压电池子系统号': '01',\n",
       "    '最低电压电池单体代号': '0c',\n",
       "    '电池单体电压最低值': '0cbc',\n",
       "    '最高温度子系统号': '01',\n",
       "    '最高温度探针序号': '02',\n",
       "    '最高温度值': '44',\n",
       "    '最低温度子系统号': '01',\n",
       "    '最低温度探针序号': '0f',\n",
       "    '最低温度值': '3d'},\n",
       "   '可充电储能装置电压数据': {'可充电储能子系统个数': '01',\n",
       "    '可充电储能子系统电压信息列表': {'01': {'可充电储能装置电压': '102e',\n",
       "      '可充电储能装置电流': '26eb',\n",
       "      '单体电池总数': '007e',\n",
       "      '本帧起始电池序号': '0001',\n",
       "      '本帧单体电池总数': '7e',\n",
       "      '单体电池电压': '0cda0cd00cda0cda0cda0cda0cda0ce40ce40ce40cda0cbc0cda0cda0cda0cda0ce40cbc0cda0ce40ce40ce40ce40cda0ce40cda0ce40cda0cda0cbc0ce40ce40ce40cda0cda0cda0cda0cda0ce40cda0ce40cda0ce40cda0ce40cda0ce40cc60cda0ce40ce40ce40cda0ce40ce40cbc0cda0ce40ce40ce40ce40ce40ce40ce40ce40cda0ce40ce40ce40ce40cbc0ce40ce40ce40ce40cda0ce40cda0cda0ce40ce40cda0ce40ce40cc60cc60cc60cda0cbc0cda0cda0ce40cbc0ce40cda0cda0cbc0cc60cc60cda0cda0cda0cda0cbc0cc60cbc0cc60cbc0cbc0cbc0cc60cda0cc60cc60cc60cd00cda0cda0cda0cc60cda0cda0cbc0cda0cda0cd0'}}},\n",
       "   '报警数据': {'最高报警等级': '00',\n",
       "    '通用报警标志': '00000000',\n",
       "    '可充电储能装置故障总数N1': '00',\n",
       "    '驱动电机故障总数N2': '00',\n",
       "    '发动机故障总数N3': '00',\n",
       "    '其他故障总数N4': '00'},\n",
       "   '可充电储能装置温度数据': {'可充电储能子系统个数': '01',\n",
       "    '可充电储能子系统温度信息列表': {'01': {'可充电储能温度探针个数': '0018',\n",
       "      '可充电储能子系统各温度探针检测到的温度值': '41444340424344413f3f3f3f3f3f3d3d3f4141403f41413f'}}}}}}"
      ]
     },
     "execution_count": 70,
     "metadata": {},
     "output_type": "execute_result"
    }
   ],
   "source": [
    "# 08 可充电储能装置电压数据\n",
    "cf_xxsb_dianyashuju = [1, 2, 2, 2, 2, 1]\n",
    "\n",
    "def fun_cf_xxsb_dianyashuju(data, cf):\n",
    "    # 剔除 信息类型标志(1)\n",
    "    data = data[2:]\n",
    "\n",
    "    # 充电储能装置个数\n",
    "    n_dianchi_o = data[0:2]\n",
    "    n_dianchi = hex2dec(data[0:2])\n",
    "\n",
    "    # 剔除 充电储能装置个数(1)\n",
    "    data = data[2:]\n",
    "    \n",
    "    dianjizongchengliebiao_all = {}\n",
    "    for i in range(0,n_dianchi):\n",
    "        \n",
    "        cf_a = hexlist2(cf, n_dianchi)\n",
    "        n_dianchi_s = hex2dec(data[cf_a[5]:cf_a[6]])\n",
    "        cf_b = cf.copy()\n",
    "        cf_b.append(n_dianchi_s*2)\n",
    "        cf_a1 = hexlist2(cf_b, n_dianchi)\n",
    "        dianjizongchengliebiao_s = {\n",
    "            data[cf_a1[0]:cf_a1[1]]:{\n",
    "                    \"可充电储能装置电压\":data[cf_a1[1]:cf_a1[2]],\n",
    "                    \"可充电储能装置电流\":data[cf_a1[2]:cf_a1[3]],\n",
    "                    \"单体电池总数\":data[cf_a1[3]:cf_a1[4]],\n",
    "                    \"本帧起始电池序号\":data[cf_a1[4]:cf_a1[5]],\n",
    "                    \"本帧单体电池总数\":data[cf_a1[5]:cf_a1[6]],\n",
    "                    \"单体电池电压\":data[cf_a1[6]:cf_a1[7]],\n",
    "            }\n",
    "        }\n",
    "        dianjizongchengliebiao_all = dict(dianjizongchengliebiao_all, **dianjizongchengliebiao_s)\n",
    "        # 截取\n",
    "        str_split(data, cf_a1[-1])\n",
    "        data = data[cf_a1[-1]:]\n",
    "        \n",
    "    data_cf_xxsb_zhengcheshuju = {\n",
    "        \"可充电储能子系统个数\":n_dianchi_o,\n",
    "        \"可充电储能子系统电压信息列表\":dianjizongchengliebiao_all\n",
    "    }\n",
    "    return data_cf_xxsb_zhengcheshuju\n",
    "    \n",
    "data_dict_a[\"数据单元\"][\"信息上报\"][\"可充电储能装置电压数据\"] = fun_cf_xxsb_dianyashuju(data_f, cf_xxsb_dianyashuju)\n",
    "data_dict_a"
   ]
  },
  {
   "cell_type": "code",
   "execution_count": 69,
   "metadata": {},
   "outputs": [
    {
     "data": {
      "text/plain": [
       "'080101102e26eb007e00017e0cda0cd00cda0cda0cda0cda0cda0ce40ce40ce40cda0cbc0cda0cda0cda0cda0ce40cbc0cda0ce40ce40ce40ce40cda0ce40cda0ce40cda0cda0cbc0ce40ce40ce40cda0cda0cda0cda0cda0ce40cda0ce40cda0ce40cda0ce40cda0ce40cc60cda0ce40ce40ce40cda0ce40ce40cbc0cda0ce40ce40ce40ce40ce40ce40ce40ce40cda0ce40ce40ce40ce40cbc0ce40ce40ce40ce40cda0ce40cda0cda0ce40ce40cda0ce40ce40cc60cc60cc60cda0cbc0cda0cda0ce40cbc0ce40cda0cda0cbc0cc60cc60cda0cda0cda0cda0cbc0cc60cbc0cc60cbc0cbc0cbc0cc60cda0cc60cc60cc60cd00cda0cda0cda0cc60cda0cda0cbc0cda0cda0cd0a10000000000000000000000000000000000000000000000000000000000000000000000000000000000000000d4'"
      ]
     },
     "execution_count": 69,
     "metadata": {},
     "output_type": "execute_result"
    }
   ],
   "source": [
    "data_f"
   ]
  },
  {
   "cell_type": "code",
   "execution_count": 68,
   "metadata": {},
   "outputs": [
    {
     "data": {
      "text/plain": [
       "{'起始符': '2323',\n",
       " '命令标识': '02',\n",
       " '应答标识': 'fe',\n",
       " '唯一识别码': '4c4450584e423343374846313433313932',\n",
       " '数据单元加密方式': '01',\n",
       " '数据单元长度': '019e',\n",
       " '效验码': 'd4',\n",
       " '数据单元': {'信息上报': {'整车数据': {'车辆状态': '01',\n",
       "    '充电状态': '03',\n",
       "    '运行模式': '01',\n",
       "    '车速': '0136',\n",
       "    '累计里程': '0006f54a',\n",
       "    '总电压': '102e',\n",
       "    '总电流': '26eb',\n",
       "    'SOC': '61',\n",
       "    'DC-DC状态': '01',\n",
       "    '挡位': '1e',\n",
       "    '绝缘电阻': '0a29',\n",
       "    '加速踏板行程值': '00',\n",
       "    '制动踏板状态': '56'},\n",
       "   '驱动电机数据': {'驱动电机个数': '01',\n",
       "    '驱动电机总成信息列表': {'01': {'驱动电机状态': '02',\n",
       "      '驱动电机控制器温度': '3e',\n",
       "      '驱动电机转速': '537b',\n",
       "      '驱动电机转矩': '4d44',\n",
       "      '驱动电机温度': '42',\n",
       "      '电机控制器输入电压': '102e',\n",
       "      '电机控制器直流母线电流': '26ed'}}},\n",
       "   '车辆位置数据': {'定位状态': '00', '经度': '06296ee8', '纬度': '01c8522c'},\n",
       "   '极值数据': {'最高电压电池子系统号': '01',\n",
       "    '最高电压电池单体代号': '08',\n",
       "    '电池单体电压最高值': '0ce4',\n",
       "    '最低电压电池子系统号': '01',\n",
       "    '最低电压电池单体代号': '0c',\n",
       "    '电池单体电压最低值': '0cbc',\n",
       "    '最高温度子系统号': '01',\n",
       "    '最高温度探针序号': '02',\n",
       "    '最高温度值': '44',\n",
       "    '最低温度子系统号': '01',\n",
       "    '最低温度探针序号': '0f',\n",
       "    '最低温度值': '3d'},\n",
       "   '可充电储能装置电压数据': {'可充电储能子系统个数': '00', '可充电储能子系统电压信息列表': {}},\n",
       "   '报警数据': {'最高报警等级': '00',\n",
       "    '通用报警标志': '00000000',\n",
       "    '可充电储能装置故障总数N1': '00',\n",
       "    '驱动电机故障总数N2': '00',\n",
       "    '发动机故障总数N3': '00',\n",
       "    '其他故障总数N4': '00'},\n",
       "   '可充电储能装置温度数据': {'可充电储能子系统个数': '01',\n",
       "    '可充电储能子系统温度信息列表': {'01': {'可充电储能温度探针个数': '0018',\n",
       "      '可充电储能子系统各温度探针检测到的温度值': '41444340424344413f3f3f3f3f3f3d3d3f4141403f41413f'}}}}}}"
      ]
     },
     "execution_count": 68,
     "metadata": {},
     "output_type": "execute_result"
    }
   ],
   "source": [
    "# 09 可充电储能装置温度数据\n",
    "cf_xxsb_wendushuju = [1, 2]\n",
    "\n",
    "def fun_cf_xxsb_wendushuju(data, cf):\n",
    "    # 剔除 信息类型标志(1)\n",
    "    data = data[2:]\n",
    "\n",
    "    # 充电储能装置个数\n",
    "    n_dianchi_o = data[0:2]\n",
    "    n_dianchi = hex2dec(data[0:2])\n",
    "\n",
    "    # 剔除 充电储能装置个数(1)\n",
    "    data = data[2:]\n",
    "    \n",
    "    dianjizongchengliebiao_all = {}\n",
    "    for i in range(0,n_dianchi):\n",
    "        \n",
    "        cf_a = hexlist2(cf, n_dianchi)\n",
    "        n_dianchi_s = hex2dec(data[cf_a[1]:cf_a[2]])\n",
    "        cf_b = cf.copy()\n",
    "        cf_b.append(n_dianchi_s)\n",
    "        cf_a1 = hexlist2(cf_b, n_dianchi)\n",
    "        dianjizongchengliebiao_s = {\n",
    "            data[cf_a1[0]:cf_a1[1]]:{\n",
    "                    \"可充电储能温度探针个数\":data[cf_a1[1]:cf_a1[2]],\n",
    "                    \"可充电储能子系统各温度探针检测到的温度值\":data[cf_a1[2]:cf_a1[3]],\n",
    "            }\n",
    "        }\n",
    "        dianjizongchengliebiao_all = dict(dianjizongchengliebiao_all, **dianjizongchengliebiao_s)\n",
    "        # 截取\n",
    "        str_split(data, cf_a1[-1])\n",
    "        data = data[cf_a1[-1]:]\n",
    "        \n",
    "    data_cf_xxsb_zhengcheshuju = {\n",
    "        \"可充电储能子系统个数\":n_dianchi_o,\n",
    "        \"可充电储能子系统温度信息列表\":dianjizongchengliebiao_all\n",
    "    }\n",
    "    return data_cf_xxsb_zhengcheshuju\n",
    "    \n",
    "data_dict_a[\"数据单元\"][\"信息上报\"][\"可充电储能装置温度数据\"] = fun_cf_xxsb_wendushuju(data_f, cf_xxsb_wendushuju)\n",
    "data_dict_a\n",
    "    "
   ]
  },
  {
   "cell_type": "code",
   "execution_count": 107,
   "metadata": {},
   "outputs": [
    {
     "data": {
      "text/plain": [
       "'4D'"
      ]
     },
     "execution_count": 107,
     "metadata": {},
     "output_type": "execute_result"
    }
   ],
   "source": [
    "data_f"
   ]
  },
  {
   "cell_type": "code",
   "execution_count": null,
   "metadata": {},
   "outputs": [],
   "source": [
    "# 03车辆登出\n",
    "cf_03 = [2]\n",
    "\n",
    "def fun_cf_03(data, cf):\n",
    "    cf_a = hexlist2(cf)\n",
    "    \n",
    "    data_cf = {\n",
    "        \"数据采集时间\":data_cf_time,\n",
    "        \"登出流水号\":data[cf_a[0]:cf_a[1]],\n",
    "    }\n",
    "    return data_cf\n",
    "\n",
    "data_dict_a[\"数据单元\"][\"车辆登出\"] = fun_cf_03(data_f, cf_03)"
   ]
  },
  {
   "cell_type": "code",
   "execution_count": null,
   "metadata": {},
   "outputs": [],
   "source": [
    "# 平台登入\n",
    "cf_04 = [2, 12, 20, 1]\n",
    "\n",
    "def fun_cf_04(data, cf):\n",
    "    cf_a = hexlist2(cf)\n",
    "    \n",
    "    data_cf = {\n",
    "        \"数据采集时间\":data_cf_time,\n",
    "        \"登出流水号\":data[cf_a[0]:cf_a[1]],\n",
    "    }\n",
    "    return data_cf\n",
    "\n",
    "data_dict_a[\"数据单元\"][\"车辆登出\"] = fun_cf_03(data_f, cf_03)"
   ]
  },
  {
   "cell_type": "code",
   "execution_count": null,
   "metadata": {},
   "outputs": [],
   "source": []
  },
  {
   "cell_type": "code",
   "execution_count": null,
   "metadata": {},
   "outputs": [],
   "source": [
    "# 平台登出\n",
    "cf_pingtaidengchu = [2]"
   ]
  },
  {
   "cell_type": "code",
   "execution_count": null,
   "metadata": {},
   "outputs": [],
   "source": []
  },
  {
   "cell_type": "markdown",
   "metadata": {},
   "source": [
    "# 报文解析"
   ]
  },
  {
   "cell_type": "code",
   "execution_count": null,
   "metadata": {},
   "outputs": [],
   "source": [
    "# \n",
    "def fun_qishifu():\n",
    "    # \n",
    "    return \n",
    "\n",
    "# \n",
    "def fun_"
   ]
  },
  {
   "cell_type": "code",
   "execution_count": null,
   "metadata": {},
   "outputs": [],
   "source": [
    "# 报文采集时间\n",
    "def bw_datetime(x):\n",
    "    year = hex2dec(x[0:2]) + 2000\n",
    "    month = hex2dec(x[2:4])\n",
    "    day = hex2dec(x[4:6])\n",
    "    hour = hex2dec(x[6:8])\n",
    "    minute = hex2dec(x[8:10])\n",
    "    second = hex2dec(x[10:12])\n",
    "    output = datetime.datetime(year, month, day, hour, minute, second).strftime('%Y-%m-%d %H:%M:%S')\n",
    "    return output"
   ]
  },
  {
   "cell_type": "code",
   "execution_count": null,
   "metadata": {},
   "outputs": [],
   "source": []
  },
  {
   "cell_type": "code",
   "execution_count": null,
   "metadata": {},
   "outputs": [],
   "source": []
  },
  {
   "cell_type": "markdown",
   "metadata": {},
   "source": [
    "# 报文分析"
   ]
  },
  {
   "cell_type": "code",
   "execution_count": null,
   "metadata": {},
   "outputs": [],
   "source": [
    "# 报文解析\n",
    "def bw_resolver():"
   ]
  }
 ],
 "metadata": {
  "kernelspec": {
   "display_name": "Python 3",
   "language": "python",
   "name": "python3"
  },
  "language_info": {
   "codemirror_mode": {
    "name": "ipython",
    "version": 3
   },
   "file_extension": ".py",
   "mimetype": "text/x-python",
   "name": "python",
   "nbconvert_exporter": "python",
   "pygments_lexer": "ipython3",
   "version": "3.7.3"
  }
 },
 "nbformat": 4,
 "nbformat_minor": 2
}
