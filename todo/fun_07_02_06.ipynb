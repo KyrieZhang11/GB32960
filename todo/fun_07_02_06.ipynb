{
 "cells": [
  {
   "cell_type": "markdown",
   "metadata": {},
   "source": [
    "## 说明\n",
    "\n",
    "```\n",
    "\"极值数据\":{\n",
    "    \"最高电压电池子系统号\":\"\",\n",
    "    \"最高电压电池单体代号\":\"\",\n",
    "    \"电池单体电压最高值\":\"\",\n",
    "    \"最低电压电池子系统号\":\"\",\n",
    "    \"最低电压电池单体代号\":\"\",\n",
    "    \"电池单体电压最低值\":\"\",\n",
    "    \"最高温度子系统号\":\"\",\n",
    "    \"最高温度探针序号\":\"\",\n",
    "    \"最高温度值\":\"\",\n",
    "    \"最低温度子系统号\":\"\",\n",
    "    \"最低温度探针序号\":\"\",\n",
    "    \"最低温度值\":\"\"\n",
    "},\n",
    "```"
   ]
  },
  {
   "cell_type": "markdown",
   "metadata": {},
   "source": [
    "## 导入工具包和公共函数"
   ]
  },
  {
   "cell_type": "code",
   "execution_count": 1,
   "metadata": {},
   "outputs": [
    {
     "name": "stdout",
     "output_type": "stream",
     "text": [
      "importing Jupyter notebook from public_fun.ipynb\n"
     ]
    }
   ],
   "source": [
    "import Ipynb_importer\n",
    "from public_fun import *"
   ]
  },
  {
   "cell_type": "markdown",
   "metadata": {},
   "source": [
    "## 类主体"
   ]
  },
  {
   "cell_type": "code",
   "execution_count": 2,
   "metadata": {},
   "outputs": [],
   "source": [
    "class fun_07_02_06(object):\n",
    "    def __init__(self, data):\n",
    "        self.cf = [1, 1, 2, 1, 1, 2, 1, 1, 1, 1, 1, 1]\n",
    "        self.cf_a = hexlist2(self.cf)\n",
    "        data = data[2:]\n",
    "        self.o = data[0:self.cf_a[-1]]\n",
    "        self.list_o = [\n",
    "            \"最高电压电池子系统号\",\n",
    "            \"最高电压电池单体代号\",\n",
    "            \"电池单体电压最高值\",\n",
    "            \"最低电压电池子系统号\",\n",
    "            \"最低电压电池单体代号\",\n",
    "            \"电池单体电压最低值\",\n",
    "            \"最高温度子系统号\",\n",
    "            \"最高温度探针序号\",\n",
    "            \"最高温度值\",\n",
    "            \"最低温度子系统号\",\n",
    "            \"最低温度探针序号\",\n",
    "            \"最低温度值\",\n",
    "        ]\n",
    "        self.oj = list2dict(self.o, self.list_o, self.cf_a)\n",
    "        self.oj2 = {'极值数据':self.oj}\n",
    "        self.ol = pd.DataFrame([self.oj]).reindex(columns=self.list_o)\n",
    "        self.pj = {\n",
    "            '最高电压电池子系统号' : hex2dec(self.oj['最高电压电池子系统号'], e=True),\n",
    "            '最高电压电池单体代号' : hex2dec(self.oj['最高电压电池单体代号'], e=True),\n",
    "            '电池单体电压最高值' : hex2dec(self.oj['电池单体电压最高值'], k=0.001, e=True),\n",
    "            '最低电压电池子系统号' : hex2dec(self.oj['最低电压电池子系统号'], e=True),\n",
    "            '最低电压电池单体代号' : hex2dec(self.oj['最低电压电池单体代号'], e=True),\n",
    "            '电池单体电压最低值' : hex2dec(self.oj['电池单体电压最低值'], k=0.001, e=True),\n",
    "            '最高温度子系统号' : hex2dec(self.oj['最高温度子系统号'], e=True),\n",
    "            '最高温度探针序号' : hex2dec(self.oj['最高温度探针序号'], e=True),\n",
    "            '最高温度值' : hex2dec(self.oj['最高温度值'], n=-40, e=True),\n",
    "            '最低温度子系统号' : hex2dec(self.oj['最低温度子系统号'], e=True),\n",
    "            '最低温度探针序号' : hex2dec(self.oj['最低温度探针序号'], e=True),\n",
    "            '最低温度值' : hex2dec(self.oj['最低温度值'], n=-40, e=True),\n",
    "        }\n",
    "        self.pj2 = {'极值数据':self.pj}\n",
    "        self.pl = pd.DataFrame([self.pj]).reindex(columns=self.list_o)\n",
    "        \n",
    "        self.next = data[len(self.o):]\n",
    "        self.nextMark = data[len(self.o):len(self.o)+2]\n",
    "        "
   ]
  },
  {
   "cell_type": "markdown",
   "metadata": {},
   "source": [
    "## 执行"
   ]
  },
  {
   "cell_type": "code",
   "execution_count": 3,
   "metadata": {
    "scrolled": true
   },
   "outputs": [],
   "source": [
    "data = \"060179100E010D0FC801013C01043A0700000000000000000009010100483C3B3C3A3B3B3C3A3B3B3B3A3B3B3B3A3B3B3B3B3B3A3B3C3B3B3C3B3C3A3B3C3B3A3B3B3B3B3B3A3C3B3C3A3B3B3B3A3B3B3B3A3B3B3B3B3B3A3B3C3B3A3B3B3C3A3B3B3B3A3B3B0801011706273C00900001900FFA10040FFA0FFA0FFA0FFA10040FFA1004100410040FFA0FC8100410041004100410041004100410040FFA10041004100410041004100410040FFA10040FFA0FFA0FFA10040FFA0FFA0FFA0FFA100410040FFA0FFA100410040FFA0FFA10040FFA0FFA0FFA10040FFA0FFA0FFA0FFA0FFA0FFA0FF00FFA0FFA0FFA10040FFA0FFA100410040FF010040FFA0FFA0FFA0FFA0FFA10040FFA0FFA0FFA100410040FFA0FF00FFA0FFA0FFA0FFA0FFA0FFA0FFA10040FFA0FFA10041004100410040FFA0FFA0FFA0FFA0FFA0FFA0FFA0FFA0FFA100410040FFA0FFA1004100410040FFA0FFA0FFA0FFA0FFA0FFA0FFA0FFA100E0FF00FFA0FFA0FFA0FFA100410040FFA100410040FFA10040FFA10040FFA100410040FFA10041004100410040FFAAB\"\n",
    "\n",
    "fun_07_02_06 = fun_07_02_06(data)"
   ]
  },
  {
   "cell_type": "markdown",
   "metadata": {},
   "source": [
    "## 结果"
   ]
  },
  {
   "cell_type": "code",
   "execution_count": 5,
   "metadata": {},
   "outputs": [
    {
     "data": {
      "text/plain": [
       "'0179100E010D0FC801013C01043A'"
      ]
     },
     "execution_count": 5,
     "metadata": {},
     "output_type": "execute_result"
    }
   ],
   "source": [
    "fun_07_02_06.o"
   ]
  },
  {
   "cell_type": "code",
   "execution_count": 6,
   "metadata": {},
   "outputs": [
    {
     "data": {
      "text/plain": [
       "{'最高电压电池子系统号': '01',\n",
       " '最高电压电池单体代号': '79',\n",
       " '电池单体电压最高值': '100E',\n",
       " '最低电压电池子系统号': '01',\n",
       " '最低电压电池单体代号': '0D',\n",
       " '电池单体电压最低值': '0FC8',\n",
       " '最高温度子系统号': '01',\n",
       " '最高温度探针序号': '01',\n",
       " '最高温度值': '3C',\n",
       " '最低温度子系统号': '01',\n",
       " '最低温度探针序号': '04',\n",
       " '最低温度值': '3A'}"
      ]
     },
     "execution_count": 6,
     "metadata": {},
     "output_type": "execute_result"
    }
   ],
   "source": [
    "fun_07_02_06.oj"
   ]
  },
  {
   "cell_type": "code",
   "execution_count": 7,
   "metadata": {},
   "outputs": [
    {
     "data": {
      "text/html": [
       "<div>\n",
       "<style scoped>\n",
       "    .dataframe tbody tr th:only-of-type {\n",
       "        vertical-align: middle;\n",
       "    }\n",
       "\n",
       "    .dataframe tbody tr th {\n",
       "        vertical-align: top;\n",
       "    }\n",
       "\n",
       "    .dataframe thead th {\n",
       "        text-align: right;\n",
       "    }\n",
       "</style>\n",
       "<table border=\"1\" class=\"dataframe\">\n",
       "  <thead>\n",
       "    <tr style=\"text-align: right;\">\n",
       "      <th></th>\n",
       "      <th>最高电压电池子系统号</th>\n",
       "      <th>最高电压电池单体代号</th>\n",
       "      <th>电池单体电压最高值</th>\n",
       "      <th>最低电压电池子系统号</th>\n",
       "      <th>最低电压电池单体代号</th>\n",
       "      <th>电池单体电压最低值</th>\n",
       "      <th>最高温度子系统号</th>\n",
       "      <th>最高温度探针序号</th>\n",
       "      <th>最高温度值</th>\n",
       "      <th>最低温度子系统号</th>\n",
       "      <th>最低温度探针序号</th>\n",
       "      <th>最低温度值</th>\n",
       "    </tr>\n",
       "  </thead>\n",
       "  <tbody>\n",
       "    <tr>\n",
       "      <th>0</th>\n",
       "      <td>01</td>\n",
       "      <td>79</td>\n",
       "      <td>100E</td>\n",
       "      <td>01</td>\n",
       "      <td>0D</td>\n",
       "      <td>0FC8</td>\n",
       "      <td>01</td>\n",
       "      <td>01</td>\n",
       "      <td>3C</td>\n",
       "      <td>01</td>\n",
       "      <td>04</td>\n",
       "      <td>3A</td>\n",
       "    </tr>\n",
       "  </tbody>\n",
       "</table>\n",
       "</div>"
      ],
      "text/plain": [
       "  最高电压电池子系统号 最高电压电池单体代号 电池单体电压最高值 最低电压电池子系统号 最低电压电池单体代号 电池单体电压最低值 最高温度子系统号  \\\n",
       "0         01         79      100E         01         0D      0FC8       01   \n",
       "\n",
       "  最高温度探针序号 最高温度值 最低温度子系统号 最低温度探针序号 最低温度值  \n",
       "0       01    3C       01       04    3A  "
      ]
     },
     "execution_count": 7,
     "metadata": {},
     "output_type": "execute_result"
    }
   ],
   "source": [
    "fun_07_02_06.ol"
   ]
  },
  {
   "cell_type": "code",
   "execution_count": 8,
   "metadata": {},
   "outputs": [
    {
     "data": {
      "text/plain": [
       "{'最高电压电池子系统号': 1,\n",
       " '最高电压电池单体代号': 121,\n",
       " '电池单体电压最高值': 4.11,\n",
       " '最低电压电池子系统号': 1,\n",
       " '最低电压电池单体代号': 13,\n",
       " '电池单体电压最低值': 4.04,\n",
       " '最高温度子系统号': 1,\n",
       " '最高温度探针序号': 1,\n",
       " '最高温度值': 20,\n",
       " '最低温度子系统号': 1,\n",
       " '最低温度探针序号': 4,\n",
       " '最低温度值': 18}"
      ]
     },
     "execution_count": 8,
     "metadata": {},
     "output_type": "execute_result"
    }
   ],
   "source": [
    "fun_07_02_06.pj"
   ]
  },
  {
   "cell_type": "code",
   "execution_count": 9,
   "metadata": {},
   "outputs": [
    {
     "data": {
      "text/html": [
       "<div>\n",
       "<style scoped>\n",
       "    .dataframe tbody tr th:only-of-type {\n",
       "        vertical-align: middle;\n",
       "    }\n",
       "\n",
       "    .dataframe tbody tr th {\n",
       "        vertical-align: top;\n",
       "    }\n",
       "\n",
       "    .dataframe thead th {\n",
       "        text-align: right;\n",
       "    }\n",
       "</style>\n",
       "<table border=\"1\" class=\"dataframe\">\n",
       "  <thead>\n",
       "    <tr style=\"text-align: right;\">\n",
       "      <th></th>\n",
       "      <th>最高电压电池子系统号</th>\n",
       "      <th>最高电压电池单体代号</th>\n",
       "      <th>电池单体电压最高值</th>\n",
       "      <th>最低电压电池子系统号</th>\n",
       "      <th>最低电压电池单体代号</th>\n",
       "      <th>电池单体电压最低值</th>\n",
       "      <th>最高温度子系统号</th>\n",
       "      <th>最高温度探针序号</th>\n",
       "      <th>最高温度值</th>\n",
       "      <th>最低温度子系统号</th>\n",
       "      <th>最低温度探针序号</th>\n",
       "      <th>最低温度值</th>\n",
       "    </tr>\n",
       "  </thead>\n",
       "  <tbody>\n",
       "    <tr>\n",
       "      <th>0</th>\n",
       "      <td>1</td>\n",
       "      <td>121</td>\n",
       "      <td>4.11</td>\n",
       "      <td>1</td>\n",
       "      <td>13</td>\n",
       "      <td>4.04</td>\n",
       "      <td>1</td>\n",
       "      <td>1</td>\n",
       "      <td>20</td>\n",
       "      <td>1</td>\n",
       "      <td>4</td>\n",
       "      <td>18</td>\n",
       "    </tr>\n",
       "  </tbody>\n",
       "</table>\n",
       "</div>"
      ],
      "text/plain": [
       "   最高电压电池子系统号  最高电压电池单体代号  电池单体电压最高值  最低电压电池子系统号  最低电压电池单体代号  电池单体电压最低值  \\\n",
       "0           1         121       4.11           1          13       4.04   \n",
       "\n",
       "   最高温度子系统号  最高温度探针序号  最高温度值  最低温度子系统号  最低温度探针序号  最低温度值  \n",
       "0         1         1     20         1         4     18  "
      ]
     },
     "execution_count": 9,
     "metadata": {},
     "output_type": "execute_result"
    }
   ],
   "source": [
    "fun_07_02_06.pl"
   ]
  },
  {
   "cell_type": "code",
   "execution_count": 10,
   "metadata": {},
   "outputs": [
    {
     "data": {
      "text/plain": [
       "'0700000000000000000009010100483C3B3C3A3B3B3C3A3B3B3B3A3B3B3B3A3B3B3B3B3B3A3B3C3B3B3C3B3C3A3B3C3B3A3B3B3B3B3B3A3C3B3C3A3B3B3B3A3B3B3B3A3B3B3B3B3B3A3B3C3B3A3B3B3C3A3B3B3B3A3B3B0801011706273C00900001900FFA10040FFA0FFA0FFA0FFA10040FFA1004100410040FFA0FC8100410041004100410041004100410040FFA10041004100410041004100410040FFA10040FFA0FFA0FFA10040FFA0FFA0FFA0FFA100410040FFA0FFA100410040FFA0FFA10040FFA0FFA0FFA10040FFA0FFA0FFA0FFA0FFA0FFA0FF00FFA0FFA0FFA10040FFA0FFA100410040FF010040FFA0FFA0FFA0FFA0FFA10040FFA0FFA0FFA100410040FFA0FF00FFA0FFA0FFA0FFA0FFA0FFA0FFA10040FFA0FFA10041004100410040FFA0FFA0FFA0FFA0FFA0FFA0FFA0FFA0FFA100410040FFA0FFA1004100410040FFA0FFA0FFA0FFA0FFA0FFA0FFA0FFA100E0FF00FFA0FFA0FFA0FFA100410040FFA100410040FFA10040FFA10040FFA100410040FFA10041004100410040FFAAB'"
      ]
     },
     "execution_count": 10,
     "metadata": {},
     "output_type": "execute_result"
    }
   ],
   "source": [
    "fun_07_02_06.next"
   ]
  },
  {
   "cell_type": "code",
   "execution_count": 11,
   "metadata": {},
   "outputs": [
    {
     "data": {
      "text/plain": [
       "'07'"
      ]
     },
     "execution_count": 11,
     "metadata": {},
     "output_type": "execute_result"
    }
   ],
   "source": [
    "fun_07_02_06.nextMark"
   ]
  },
  {
   "cell_type": "code",
   "execution_count": null,
   "metadata": {},
   "outputs": [],
   "source": []
  }
 ],
 "metadata": {
  "kernelspec": {
   "display_name": "Python 3",
   "language": "python",
   "name": "python3"
  },
  "language_info": {
   "codemirror_mode": {
    "name": "ipython",
    "version": 3
   },
   "file_extension": ".py",
   "mimetype": "text/x-python",
   "name": "python",
   "nbconvert_exporter": "python",
   "pygments_lexer": "ipython3",
   "version": "3.7.3"
  }
 },
 "nbformat": 4,
 "nbformat_minor": 2
}
