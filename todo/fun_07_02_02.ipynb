{
 "cells": [
  {
   "cell_type": "markdown",
   "metadata": {},
   "source": [
    "## 说明\n",
    "\n",
    "整车数据：\n",
    "- 车辆状态\n",
    "- 充电状态\n",
    "- 运行模式\n",
    "- 车速\n",
    "- 累计里程\n",
    "- 总电压\n",
    "- 总电流\n",
    "- SOC\n",
    "- DC-DC状态\n",
    "- 挡位\n",
    "- 绝缘电阻\n",
    "- 加速踏板行程值\n",
    "- 制动踏板状态"
   ]
  },
  {
   "cell_type": "markdown",
   "metadata": {},
   "source": [
    "## 导入工具包和公共函数"
   ]
  },
  {
   "cell_type": "code",
   "execution_count": 1,
   "metadata": {},
   "outputs": [
    {
     "name": "stdout",
     "output_type": "stream",
     "text": [
      "importing Jupyter notebook from public_fun.ipynb\n"
     ]
    }
   ],
   "source": [
    "import Ipynb_importer\n",
    "from public_fun import *"
   ]
  },
  {
   "cell_type": "markdown",
   "metadata": {},
   "source": [
    "## 类主体"
   ]
  },
  {
   "cell_type": "code",
   "execution_count": 4,
   "metadata": {},
   "outputs": [],
   "source": [
    "class fun_07_02_02(object):\n",
    "    def __init__(self, data):\n",
    "        cf = [1, 1, 1, 2, 4, 2, 2, 1, 1, 1, 2, 1, 1]\n",
    "        cf_a = hexlist2(cf)\n",
    "        data = data[2:]\n",
    "        self.o = data[0:cf_a[-1]]\n",
    "        list_o = ['车辆状态','充电状态','运行模式','车速','累计里程','总电压','总电流','SOC','DC-DC状态','挡位','绝缘电阻','加速踏板行程值','制动踏板状态']\n",
    "        self.oj = list2dict(self.o, list_o, cf_a)\n",
    "        self.ol = pd.DataFrame.from_dict(self.oj,orient='index').T\n",
    "        self.pj = {\n",
    "            '车辆状态' : dict_list_replace(\"07_02_01_01\", self.oj['车辆状态']),\n",
    "            '充电状态' : dict_list_replace(\"07_02_01_02\", self.oj['充电状态']),\n",
    "            '运行模式' : dict_list_replace(\"07_02_01_03\", self.oj['运行模式']),\n",
    "            '车速' : hex2dec(self.oj['车速'], k=0.1),\n",
    "            '累计里程' : hex2dec(self.oj['累计里程'], k=0.1),\n",
    "            '总电压' : hex2dec(self.oj['总电压'], k=0.1),\n",
    "            '总电流' : hex2dec(self.oj['总电流'], n=-1000, k=0.1),\n",
    "            'SOC' : hex2dec(self.oj['SOC']),\n",
    "            'DC-DC状态' : dict_list_replace(\"07_02_01_06\", self.oj['DC-DC状态']),\n",
    "            '挡位' : fun_07_02_01.fun_10(self.oj['挡位']),\n",
    "            '绝缘电阻' : hex2dec(self.oj['绝缘电阻']),\n",
    "            '加速踏板行程值' : fun_07_02_01.fun_12(self.oj['加速踏板行程值']),\n",
    "            '制动踏板状态' : fun_07_02_01.fun_13(self.oj['制动踏板状态']),\n",
    "        }\n",
    "        self.pl = pd.DataFrame.from_dict(self.pj,orient='index').T\n",
    "        \n",
    "        self.next = data[cf_a[-1]:]\n",
    "        self.nextMark = data[cf_a[-1]:cf_a[-1]+2]\n",
    "    \n",
    "    # 02_01_10 挡位\n",
    "    def fun_10(data):\n",
    "        n = '{:08b}'.format(int(data, 16))\n",
    "        dangwei = n[-4:]\n",
    "        zhidongli = n[-5]\n",
    "        qudongli = n[-6]\n",
    "        \n",
    "        # 挡位\n",
    "        if dangwei == '0000':\n",
    "            dangwei_s = '空挡'\n",
    "        elif dangwei == '1101':\n",
    "            dangwei_s = '倒挡'\n",
    "        elif dangwei == '1110':\n",
    "            dangwei_s = '自动D挡'\n",
    "        elif dangwei == '1111':\n",
    "            dangwei_s = '停车P挡'\n",
    "        else :\n",
    "            dangwei_s = (str(int(dangwei, 2)) + \"档\" )\n",
    "            \n",
    "        # 制动力\n",
    "        if zhidongli == \"1\":\n",
    "            zhidongli_s = \"有制动力\"\n",
    "        else :\n",
    "            zhidongli_s = \"无制动力\" \n",
    "            \n",
    "        # 驱动力\n",
    "        if qudongli == \"1\":\n",
    "            qudongli_s = \"有驱动力\"\n",
    "        else :\n",
    "            qudongli_s = \"无驱动力\"\n",
    "\n",
    "        output = [n, dangwei_s, zhidongli_s, qudongli_s]\n",
    "        return output\n",
    "\n",
    "    # 02_01_12 加速踏板行程值\n",
    "    def fun_12(data):\n",
    "        data = data.upper()\n",
    "        if data == 'FE':\n",
    "            return \"异常\"\n",
    "        elif data == \"FF\":\n",
    "            return \"无效\"\n",
    "        else :\n",
    "            return hex2dec(data)\n",
    "\n",
    "    # 02_01_13 制动踏板状态\n",
    "    def fun_13(data):\n",
    "        data = data.upper()\n",
    "        if data == 'FE':\n",
    "            return \"异常\"\n",
    "        elif data == \"FF\":\n",
    "            return \"无效\"\n",
    "        elif data == \"65\":\n",
    "            return \"制动有效\"\n",
    "        else :\n",
    "            return hex2dec(data)"
   ]
  },
  {
   "cell_type": "markdown",
   "metadata": {},
   "source": [
    "## 执行"
   ]
  },
  {
   "cell_type": "code",
   "execution_count": 5,
   "metadata": {},
   "outputs": [],
   "source": [
    "data = \"020101043451AA4E8437170627270500072035A801EAC74A060179100E010D0FC801013C01043A0700000000000000000009010100483C3B3C3A3B3B3C3A3B3B3B3A3B3B3B3A3B3B3B3B3B3A3B3C3B3B3C3B3C3A3B3C3B3A3B3B3B3B3B3A3C3B3C3A3B3B3B3A3B3B3B3A3B3B3B3B3B3A3B3C3B3A3B3B3C3A3B3B3B3A3B3B0801011706273C00900001900FFA10040FFA0FFA0FFA0FFA10040FFA1004100410040FFA0FC8100410041004100410041004100410040FFA10041004100410041004100410040FFA10040FFA0FFA0FFA10040FFA0FFA0FFA0FFA100410040FFA0FFA100410040FFA0FFA10040FFA0FFA0FFA10040FFA0FFA0FFA0FFA0FFA0FFA0FF00FFA0FFA0FFA10040FFA0FFA100410040FF010040FFA0FFA0FFA0FFA0FFA10040FFA0FFA0FFA100410040FFA0FF00FFA0FFA0FFA0FFA0FFA0FFA0FFA10040FFA0FFA10041004100410040FFA0FFA0FFA0FFA0FFA0FFA0FFA0FFA0FFA100410040FFA0FFA1004100410040FFA0FFA0FFA0FFA0FFA0FFA0FFA0FFA100E0FF00FFA0FFA0FFA0FFA100410040FFA100410040FFA10040FFA10040FFA100410040FFA10041004100410040FFAAB\"\n",
    "\n",
    "fun_07_02_01 = fun_07_02_01(data)"
   ]
  },
  {
   "cell_type": "markdown",
   "metadata": {},
   "source": [
    "## 结果"
   ]
  },
  {
   "cell_type": "code",
   "execution_count": 6,
   "metadata": {},
   "outputs": [
    {
     "data": {
      "text/plain": [
       "'01030100FA00000B361706273C64011E82DA0065'"
      ]
     },
     "execution_count": 6,
     "metadata": {},
     "output_type": "execute_result"
    }
   ],
   "source": [
    "fun_07_02_01.o"
   ]
  },
  {
   "cell_type": "code",
   "execution_count": 7,
   "metadata": {},
   "outputs": [
    {
     "data": {
      "text/plain": [
       "{'车辆状态': '01',\n",
       " '充电状态': '03',\n",
       " '运行模式': '01',\n",
       " '车速': '00FA',\n",
       " '累计里程': '00000B36',\n",
       " '总电压': '1706',\n",
       " '总电流': '273C',\n",
       " 'SOC': '64',\n",
       " 'DC-DC状态': '01',\n",
       " '挡位': '1E',\n",
       " '绝缘电阻': '82DA',\n",
       " '加速踏板行程值': '00',\n",
       " '制动踏板状态': '65'}"
      ]
     },
     "execution_count": 7,
     "metadata": {},
     "output_type": "execute_result"
    }
   ],
   "source": [
    "fun_07_02_01.oj"
   ]
  },
  {
   "cell_type": "code",
   "execution_count": 8,
   "metadata": {},
   "outputs": [
    {
     "data": {
      "text/html": [
       "<div>\n",
       "<style scoped>\n",
       "    .dataframe tbody tr th:only-of-type {\n",
       "        vertical-align: middle;\n",
       "    }\n",
       "\n",
       "    .dataframe tbody tr th {\n",
       "        vertical-align: top;\n",
       "    }\n",
       "\n",
       "    .dataframe thead th {\n",
       "        text-align: right;\n",
       "    }\n",
       "</style>\n",
       "<table border=\"1\" class=\"dataframe\">\n",
       "  <thead>\n",
       "    <tr style=\"text-align: right;\">\n",
       "      <th></th>\n",
       "      <th>车辆状态</th>\n",
       "      <th>充电状态</th>\n",
       "      <th>运行模式</th>\n",
       "      <th>车速</th>\n",
       "      <th>累计里程</th>\n",
       "      <th>总电压</th>\n",
       "      <th>总电流</th>\n",
       "      <th>SOC</th>\n",
       "      <th>DC-DC状态</th>\n",
       "      <th>挡位</th>\n",
       "      <th>绝缘电阻</th>\n",
       "      <th>加速踏板行程值</th>\n",
       "      <th>制动踏板状态</th>\n",
       "    </tr>\n",
       "  </thead>\n",
       "  <tbody>\n",
       "    <tr>\n",
       "      <th>0</th>\n",
       "      <td>01</td>\n",
       "      <td>03</td>\n",
       "      <td>01</td>\n",
       "      <td>00FA</td>\n",
       "      <td>00000B36</td>\n",
       "      <td>1706</td>\n",
       "      <td>273C</td>\n",
       "      <td>64</td>\n",
       "      <td>01</td>\n",
       "      <td>1E</td>\n",
       "      <td>82DA</td>\n",
       "      <td>00</td>\n",
       "      <td>65</td>\n",
       "    </tr>\n",
       "  </tbody>\n",
       "</table>\n",
       "</div>"
      ],
      "text/plain": [
       "  车辆状态 充电状态 运行模式    车速      累计里程   总电压   总电流 SOC DC-DC状态  挡位  绝缘电阻 加速踏板行程值  \\\n",
       "0   01   03   01  00FA  00000B36  1706  273C  64      01  1E  82DA      00   \n",
       "\n",
       "  制动踏板状态  \n",
       "0     65  "
      ]
     },
     "execution_count": 8,
     "metadata": {},
     "output_type": "execute_result"
    }
   ],
   "source": [
    "fun_07_02_01.ol"
   ]
  },
  {
   "cell_type": "code",
   "execution_count": 9,
   "metadata": {},
   "outputs": [
    {
     "data": {
      "text/plain": [
       "{'车辆状态': '启动',\n",
       " '充电状态': '未充电',\n",
       " '运行模式': '纯电',\n",
       " '车速': 25.0,\n",
       " '累计里程': 287.0,\n",
       " '总电压': 589.4,\n",
       " '总电流': 4.4,\n",
       " 'SOC': 100,\n",
       " 'DC-DC状态': '工作',\n",
       " '挡位': ['00011110', '自动D挡', '有制动力', '无驱动力'],\n",
       " '绝缘电阻': 33498,\n",
       " '加速踏板行程值': 0,\n",
       " '制动踏板状态': '制动有效'}"
      ]
     },
     "execution_count": 9,
     "metadata": {},
     "output_type": "execute_result"
    }
   ],
   "source": [
    "fun_07_02_01.pj"
   ]
  },
  {
   "cell_type": "code",
   "execution_count": 10,
   "metadata": {},
   "outputs": [
    {
     "data": {
      "text/html": [
       "<div>\n",
       "<style scoped>\n",
       "    .dataframe tbody tr th:only-of-type {\n",
       "        vertical-align: middle;\n",
       "    }\n",
       "\n",
       "    .dataframe tbody tr th {\n",
       "        vertical-align: top;\n",
       "    }\n",
       "\n",
       "    .dataframe thead th {\n",
       "        text-align: right;\n",
       "    }\n",
       "</style>\n",
       "<table border=\"1\" class=\"dataframe\">\n",
       "  <thead>\n",
       "    <tr style=\"text-align: right;\">\n",
       "      <th></th>\n",
       "      <th>车辆状态</th>\n",
       "      <th>充电状态</th>\n",
       "      <th>运行模式</th>\n",
       "      <th>车速</th>\n",
       "      <th>累计里程</th>\n",
       "      <th>总电压</th>\n",
       "      <th>总电流</th>\n",
       "      <th>SOC</th>\n",
       "      <th>DC-DC状态</th>\n",
       "      <th>挡位</th>\n",
       "      <th>绝缘电阻</th>\n",
       "      <th>加速踏板行程值</th>\n",
       "      <th>制动踏板状态</th>\n",
       "    </tr>\n",
       "  </thead>\n",
       "  <tbody>\n",
       "    <tr>\n",
       "      <th>0</th>\n",
       "      <td>启动</td>\n",
       "      <td>未充电</td>\n",
       "      <td>纯电</td>\n",
       "      <td>25</td>\n",
       "      <td>287</td>\n",
       "      <td>589.4</td>\n",
       "      <td>4.4</td>\n",
       "      <td>100</td>\n",
       "      <td>工作</td>\n",
       "      <td>[00011110, 自动D挡, 有制动力, 无驱动力]</td>\n",
       "      <td>33498</td>\n",
       "      <td>0</td>\n",
       "      <td>制动有效</td>\n",
       "    </tr>\n",
       "  </tbody>\n",
       "</table>\n",
       "</div>"
      ],
      "text/plain": [
       "  车辆状态 充电状态 运行模式  车速 累计里程    总电压  总电流  SOC DC-DC状态  \\\n",
       "0   启动  未充电   纯电  25  287  589.4  4.4  100      工作   \n",
       "\n",
       "                             挡位   绝缘电阻 加速踏板行程值 制动踏板状态  \n",
       "0  [00011110, 自动D挡, 有制动力, 无驱动力]  33498       0   制动有效  "
      ]
     },
     "execution_count": 10,
     "metadata": {},
     "output_type": "execute_result"
    }
   ],
   "source": [
    "fun_07_02_01.pl"
   ]
  },
  {
   "cell_type": "code",
   "execution_count": 11,
   "metadata": {},
   "outputs": [
    {
     "data": {
      "text/plain": [
       "'020101043451AA4E8437170627270500072035A801EAC74A060179100E010D0FC801013C01043A0700000000000000000009010100483C3B3C3A3B3B3C3A3B3B3B3A3B3B3B3A3B3B3B3B3B3A3B3C3B3B3C3B3C3A3B3C3B3A3B3B3B3B3B3A3C3B3C3A3B3B3B3A3B3B3B3A3B3B3B3B3B3A3B3C3B3A3B3B3C3A3B3B3B3A3B3B0801011706273C00900001900FFA10040FFA0FFA0FFA0FFA10040FFA1004100410040FFA0FC8100410041004100410041004100410040FFA10041004100410041004100410040FFA10040FFA0FFA0FFA10040FFA0FFA0FFA0FFA100410040FFA0FFA100410040FFA0FFA10040FFA0FFA0FFA10040FFA0FFA0FFA0FFA0FFA0FFA0FF00FFA0FFA0FFA10040FFA0FFA100410040FF010040FFA0FFA0FFA0FFA0FFA10040FFA0FFA0FFA100410040FFA0FF00FFA0FFA0FFA0FFA0FFA0FFA0FFA10040FFA0FFA10041004100410040FFA0FFA0FFA0FFA0FFA0FFA0FFA0FFA0FFA100410040FFA0FFA1004100410040FFA0FFA0FFA0FFA0FFA0FFA0FFA0FFA100E0FF00FFA0FFA0FFA0FFA100410040FFA100410040FFA10040FFA10040FFA100410040FFA10041004100410040FFAAB'"
      ]
     },
     "execution_count": 11,
     "metadata": {},
     "output_type": "execute_result"
    }
   ],
   "source": [
    "fun_07_02_01.next"
   ]
  },
  {
   "cell_type": "code",
   "execution_count": 12,
   "metadata": {},
   "outputs": [
    {
     "data": {
      "text/plain": [
       "'02'"
      ]
     },
     "execution_count": 12,
     "metadata": {},
     "output_type": "execute_result"
    }
   ],
   "source": [
    "fun_07_02_01.nextMark"
   ]
  },
  {
   "cell_type": "code",
   "execution_count": null,
   "metadata": {},
   "outputs": [],
   "source": []
  },
  {
   "cell_type": "code",
   "execution_count": null,
   "metadata": {},
   "outputs": [],
   "source": []
  }
 ],
 "metadata": {
  "kernelspec": {
   "display_name": "Python 3",
   "language": "python",
   "name": "python3"
  },
  "language_info": {
   "codemirror_mode": {
    "name": "ipython",
    "version": 3
   },
   "file_extension": ".py",
   "mimetype": "text/x-python",
   "name": "python",
   "nbconvert_exporter": "python",
   "pygments_lexer": "ipython3",
   "version": "3.7.3"
  }
 },
 "nbformat": 4,
 "nbformat_minor": 2
}
