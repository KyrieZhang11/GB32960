{
 "cells": [
  {
   "cell_type": "code",
   "execution_count": 1,
   "metadata": {},
   "outputs": [],
   "source": [
    "# 载入模块\n",
    "import numpy as np\n",
    "import pandas as pd\n",
    "import binascii\n",
    "import math\n",
    "import datetime\n",
    "import json"
   ]
  },
  {
   "cell_type": "code",
   "execution_count": 2,
   "metadata": {},
   "outputs": [],
   "source": [
    "# 公共函数\n",
    "# 8进制转10进制\n",
    "def oct2dec(x):\n",
    "    output = int(str(x), 8)\n",
    "    return output\n",
    "\n",
    "# 16进制转10进制（先乘精度，后偏移）\n",
    "def hex2dec(x, n=0, k=1, e=False):\n",
    "    x = x.upper()\n",
    "    k_n = 0 if k>=1 else int(math.log10(k))\n",
    "    if e:\n",
    "        if x == \"EF\" or x == \"FFFE\" or x == \"FFFFFFFE\":\n",
    "            return \"异常\"\n",
    "        elif x == \"FF\" or x == \"FFFF\" or x == \"FFFFFFFF\":\n",
    "            return \"无效\"\n",
    "        else:\n",
    "            output_s = int(str(x), 16)\n",
    "            output = output_s*k + n\n",
    "            return round(output, -k_n)\n",
    "    else :\n",
    "        output_s = int(str(x), 16)\n",
    "        output = output_s*k + n\n",
    "        return round(output, -k_n)    \n",
    "\n",
    "# 16进制转字符串\n",
    "def hex2str(x):\n",
    "    output = binascii.a2b_hex(x).decode(\"utf8\")\n",
    "    return output\n",
    "\n",
    "# 累加\n",
    "def hexlist2(data, n=1):\n",
    "    output = [0]\n",
    "    data = data * n\n",
    "    for i in range(0, len(data)):\n",
    "        output.append(output[i] + data[i])\n",
    "    output = [i*2 for i in output]\n",
    "    return output"
   ]
  },
  {
   "cell_type": "code",
   "execution_count": 17,
   "metadata": {},
   "outputs": [],
   "source": [
    "def dict_list_replace(n, x):\n",
    "    x = x.upper()\n",
    "    index = jx_dict_o[n].index(x)\n",
    "    output = jx_dict[n][index]\n",
    "    return output\n",
    "\n",
    "jx_dict_o = {\n",
    "    \"02\":[\"01\", \"02\", \"03\", \"04\", \"05\", \"06\"],\n",
    "    \"03\":[\"01\", \"02\", \"03\", \"FE\"],\n",
    "    \"05\":[\"01\", \"02\", \"03\", \"FE\", \"FF\"],\n",
    "    \"07_02_01_01\":[\"01\", \"02\", \"03\", \"FE\", \"FF\"],\n",
    "    \"07_02_01_02\":[\"01\", \"02\", \"03\", \"04\", \"FE\", \"FF\"],\n",
    "    \"07_02_01_03\":[\"01\", \"02\", \"03\", \"FE\", \"FF\"],\n",
    "    \"07_02_01_06\":[\"01\", \"02\", \"FE\", \"FF\"],\n",
    "    \"07_02_02_01\":[\"01\", \"02\", \"03\", \"04\", \"FE\", \"FF\"],\n",
    "    \"07_02_03_12\":[\"01\", \"02\", \"FE\", \"FF\"],\n",
    "    \"07_02_04_01\":[\"01\", \"02\", \"FE\", \"FF\"],\n",
    "    \"07_05_05\":[\"01\", \"02\", \"03\", \"FE\", \"FF\"],\n",
    "}\n",
    "\n",
    "jx_dict = {\n",
    "    \"02\":[\"车辆登入\", \"实时信息上报\", \"补发信息上报\", \"车辆登出\", \"平台登入\", \"平台登出\"],\n",
    "    \"03\":[\"成功\", \"错误\", \"VIN重复\", \"命令\"],\n",
    "    \"05\":[\"不加密\", \"RSA加密\", \"AES128位加密\", \"异常\", \"无效\"],\n",
    "    \"07_02_01_01\":[\"启动\", \"熄火\", \"其他\", \"异常\", \"无效\"],\n",
    "    \"07_02_01_02\":[\"停车充电\", \"行驶充电\", \"未充电\", \"充电完成\", \"异常\", \"无效\"],\n",
    "    \"07_02_01_03\":[\"纯电\", \"混动\", \"燃油\", \"异常\", \"无效\"],\n",
    "    \"07_02_01_06\":[\"工作\", \"断开\", \"异常\", \"无效\"],\n",
    "    \"07_02_02_01\":[\"耗电\", \"发电\", \"关闭\", \"准备\", \"异常\", \"无效\"],\n",
    "    \"07_02_03_12\":[\"工作\", \"断开\", \"异常\", \"无效\"],\n",
    "    \"07_02_04_01\":[\"启动\", \"关闭\", \"异常\", \"无效\"],\n",
    "    \"07_05_05\":[\"不加密\", \"RSA加密\", \"AES128位加密\", \"异常\", \"无效\"],\n",
    "}"
   ]
  },
  {
   "cell_type": "code",
   "execution_count": 20,
   "metadata": {},
   "outputs": [],
   "source": [
    "class fun_01to06(object):\n",
    "    def __init__(self, data):\n",
    "        cf = [2, 1, 1, 17, 1, 2]\n",
    "        cf_a = hexlist2(cf)\n",
    "        self.o = data[0:cf_a[-1]]\n",
    "        self.oj = {\n",
    "            \"起始符\":self.o[cf_a[0]:cf_a[1]],\n",
    "            \"命令标识\":self.o[cf_a[1]:cf_a[2]],\n",
    "            \"应答标志\":self.o[cf_a[2]:cf_a[3]],\n",
    "            \"唯一识别码\":self.o[cf_a[3]:cf_a[4]],\n",
    "            \"数据单元加密方式\":self.o[cf_a[4]:cf_a[5]],\n",
    "            \"数据单元长度\":self.o[cf_a[5]:cf_a[6]],\n",
    "        }\n",
    "        self.ol = pd.DataFrame.from_dict(self.oj,orient='index').T\n",
    "        self.pj = {\n",
    "            \"起始符\":hex2str(self.oj[\"起始符\"]),\n",
    "            \"命令标识\":dict_list_replace('02', self.oj['命令标识']),\n",
    "            \"应答标志\":dict_list_replace('03', self.oj['应答标志']),\n",
    "            \"唯一识别码\":hex2str(self.oj[\"唯一识别码\"]),\n",
    "            \"数据单元加密方式\":dict_list_replace('05', self.oj['数据单元加密方式']),\n",
    "            \"数据单元长度\":hex2dec(self.oj[\"数据单元长度\"]),\n",
    "        }\n",
    "        self.pl = pd.DataFrame.from_dict(self.pj,orient='index').T\n",
    "        "
   ]
  },
  {
   "cell_type": "code",
   "execution_count": 21,
   "metadata": {},
   "outputs": [
    {
     "data": {
      "text/plain": [
       "{'起始符': '2323',\n",
       " '命令标识': '03',\n",
       " '应答标志': 'FE',\n",
       " '唯一识别码': '4C44504741424143374A4E323030363633',\n",
       " '数据单元加密方式': '01',\n",
       " '数据单元长度': '01C5'}"
      ]
     },
     "execution_count": 21,
     "metadata": {},
     "output_type": "execute_result"
    }
   ],
   "source": [
    "# \n",
    "data = \"232303FE4C44504741424143374A4E3230303636330101C5130C1E10020A0101030100FA00000B361706273C64011E82DA0065020101043451AA4E8437170627270500072035A801EAC74A060179100E010D0FC801013C01043A0700000000000000000009010100483C3B3C3A3B3B3C3A3B3B3B3A3B3B3B3A3B3B3B3B3B3A3B3C3B3B3C3B3C3A3B3C3B3A3B3B3B3B3B3A3C3B3C3A3B3B3B3A3B3B3B3A3B3B3B3B3B3A3B3C3B3A3B3B3C3A3B3B3B3A3B3B0801011706273C00900001900FFA10040FFA0FFA0FFA0FFA10040FFA1004100410040FFA0FC8100410041004100410041004100410040FFA10041004100410041004100410040FFA10040FFA0FFA0FFA10040FFA0FFA0FFA0FFA100410040FFA0FFA100410040FFA0FFA10040FFA0FFA0FFA10040FFA0FFA0FFA0FFA0FFA0FFA0FF00FFA0FFA0FFA10040FFA0FFA100410040FF010040FFA0FFA0FFA0FFA0FFA10040FFA0FFA0FFA100410040FFA0FF00FFA0FFA0FFA0FFA0FFA0FFA0FFA10040FFA0FFA10041004100410040FFA0FFA0FFA0FFA0FFA0FFA0FFA0FFA0FFA100410040FFA0FFA1004100410040FFA0FFA0FFA0FFA0FFA0FFA0FFA0FFA100E0FF00FFA0FFA0FFA0FFA100410040FFA100410040FFA10040FFA10040FFA100410040FFA10041004100410040FFAAB\"\n",
    "fun_07_02_01 = fun_07_02_01(data)\n",
    "fun_07_02_01.oj\n"
   ]
  },
  {
   "cell_type": "code",
   "execution_count": 22,
   "metadata": {},
   "outputs": [
    {
     "data": {
      "text/html": [
       "<div>\n",
       "<style scoped>\n",
       "    .dataframe tbody tr th:only-of-type {\n",
       "        vertical-align: middle;\n",
       "    }\n",
       "\n",
       "    .dataframe tbody tr th {\n",
       "        vertical-align: top;\n",
       "    }\n",
       "\n",
       "    .dataframe thead th {\n",
       "        text-align: right;\n",
       "    }\n",
       "</style>\n",
       "<table border=\"1\" class=\"dataframe\">\n",
       "  <thead>\n",
       "    <tr style=\"text-align: right;\">\n",
       "      <th></th>\n",
       "      <th>起始符</th>\n",
       "      <th>命令标识</th>\n",
       "      <th>应答标志</th>\n",
       "      <th>唯一识别码</th>\n",
       "      <th>数据单元加密方式</th>\n",
       "      <th>数据单元长度</th>\n",
       "    </tr>\n",
       "  </thead>\n",
       "  <tbody>\n",
       "    <tr>\n",
       "      <th>0</th>\n",
       "      <td>2323</td>\n",
       "      <td>03</td>\n",
       "      <td>FE</td>\n",
       "      <td>4C44504741424143374A4E323030363633</td>\n",
       "      <td>01</td>\n",
       "      <td>01C5</td>\n",
       "    </tr>\n",
       "  </tbody>\n",
       "</table>\n",
       "</div>"
      ],
      "text/plain": [
       "    起始符 命令标识 应答标志                               唯一识别码 数据单元加密方式 数据单元长度\n",
       "0  2323   03   FE  4C44504741424143374A4E323030363633       01   01C5"
      ]
     },
     "execution_count": 22,
     "metadata": {},
     "output_type": "execute_result"
    }
   ],
   "source": [
    "fun_07_02_01.ol"
   ]
  },
  {
   "cell_type": "code",
   "execution_count": 23,
   "metadata": {},
   "outputs": [
    {
     "data": {
      "text/plain": [
       "{'起始符': '##',\n",
       " '命令标识': '补发信息上报',\n",
       " '应答标志': '命令',\n",
       " '唯一识别码': 'LDPGABAC7JN200663',\n",
       " '数据单元加密方式': '不加密',\n",
       " '数据单元长度': 453}"
      ]
     },
     "execution_count": 23,
     "metadata": {},
     "output_type": "execute_result"
    }
   ],
   "source": [
    "fun_07_02_01.pj"
   ]
  },
  {
   "cell_type": "code",
   "execution_count": 24,
   "metadata": {},
   "outputs": [
    {
     "data": {
      "text/html": [
       "<div>\n",
       "<style scoped>\n",
       "    .dataframe tbody tr th:only-of-type {\n",
       "        vertical-align: middle;\n",
       "    }\n",
       "\n",
       "    .dataframe tbody tr th {\n",
       "        vertical-align: top;\n",
       "    }\n",
       "\n",
       "    .dataframe thead th {\n",
       "        text-align: right;\n",
       "    }\n",
       "</style>\n",
       "<table border=\"1\" class=\"dataframe\">\n",
       "  <thead>\n",
       "    <tr style=\"text-align: right;\">\n",
       "      <th></th>\n",
       "      <th>起始符</th>\n",
       "      <th>命令标识</th>\n",
       "      <th>应答标志</th>\n",
       "      <th>唯一识别码</th>\n",
       "      <th>数据单元加密方式</th>\n",
       "      <th>数据单元长度</th>\n",
       "    </tr>\n",
       "  </thead>\n",
       "  <tbody>\n",
       "    <tr>\n",
       "      <th>0</th>\n",
       "      <td>##</td>\n",
       "      <td>补发信息上报</td>\n",
       "      <td>命令</td>\n",
       "      <td>LDPGABAC7JN200663</td>\n",
       "      <td>不加密</td>\n",
       "      <td>453</td>\n",
       "    </tr>\n",
       "  </tbody>\n",
       "</table>\n",
       "</div>"
      ],
      "text/plain": [
       "  起始符    命令标识 应答标志              唯一识别码 数据单元加密方式 数据单元长度\n",
       "0  ##  补发信息上报   命令  LDPGABAC7JN200663      不加密    453"
      ]
     },
     "execution_count": 24,
     "metadata": {},
     "output_type": "execute_result"
    }
   ],
   "source": [
    "fun_07_02_01.pl"
   ]
  },
  {
   "cell_type": "code",
   "execution_count": null,
   "metadata": {},
   "outputs": [],
   "source": []
  }
 ],
 "metadata": {
  "kernelspec": {
   "display_name": "Python 3",
   "language": "python",
   "name": "python3"
  },
  "language_info": {
   "codemirror_mode": {
    "name": "ipython",
    "version": 3
   },
   "file_extension": ".py",
   "mimetype": "text/x-python",
   "name": "python",
   "nbconvert_exporter": "python",
   "pygments_lexer": "ipython3",
   "version": "3.7.3"
  }
 },
 "nbformat": 4,
 "nbformat_minor": 2
}
