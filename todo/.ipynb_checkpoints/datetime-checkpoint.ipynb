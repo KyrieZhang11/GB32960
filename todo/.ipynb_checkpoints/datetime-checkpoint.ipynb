{
 "cells": [
  {
   "cell_type": "code",
   "execution_count": 1,
   "metadata": {},
   "outputs": [],
   "source": [
    "# 载入模块\n",
    "import numpy as np\n",
    "import pandas as pd\n",
    "import binascii\n",
    "import math\n",
    "import datetime\n",
    "import json"
   ]
  },
  {
   "cell_type": "code",
   "execution_count": 2,
   "metadata": {},
   "outputs": [],
   "source": [
    "# 公共函数\n",
    "# 8进制转10进制\n",
    "def oct2dec(x):\n",
    "    output = int(str(x), 8)\n",
    "    return output\n",
    "\n",
    "# 16进制转10进制（先乘精度，后偏移）\n",
    "def hex2dec(x, n=0, k=1, e=False):\n",
    "    x = x.upper()\n",
    "    k_n = 0 if k>=1 else int(math.log10(k))\n",
    "    if e:\n",
    "        if x == \"EF\" or x == \"FFFE\" or x == \"FFFFFFFE\":\n",
    "            return \"异常\"\n",
    "        elif x == \"FF\" or x == \"FFFF\" or x == \"FFFFFFFF\":\n",
    "            return \"无效\"\n",
    "        else:\n",
    "            output_s = int(str(x), 16)\n",
    "            output = output_s*k + n\n",
    "            return round(output, -k_n)\n",
    "    else :\n",
    "        output_s = int(str(x), 16)\n",
    "        output = output_s*k + n\n",
    "        return round(output, -k_n)    \n",
    "\n",
    "# 16进制转字符串\n",
    "def hex2str(x):\n",
    "    output = binascii.a2b_hex(x).decode(\"utf8\")\n",
    "    return output\n",
    "\n",
    "# 累加\n",
    "def hexlist2(data, n=1):\n",
    "    output = [0]\n",
    "    data = data * n\n",
    "    for i in range(0, len(data)):\n",
    "        output.append(output[i] + data[i])\n",
    "    output = [i*2 for i in output]\n",
    "    return output\n",
    "\n",
    "def bw_datetime(x):\n",
    "    year = hex2dec(x[0:2]) + 2000\n",
    "    month = hex2dec(x[2:4])\n",
    "    day = hex2dec(x[4:6])\n",
    "    hour = hex2dec(x[6:8])\n",
    "    minute = hex2dec(x[8:10])\n",
    "    second = hex2dec(x[10:12])\n",
    "    output = datetime.datetime(year, month, day, hour, minute, second).strftime('%Y-%m-%d %H:%M:%S')\n",
    "    return output"
   ]
  },
  {
   "cell_type": "code",
   "execution_count": 12,
   "metadata": {},
   "outputs": [],
   "source": [
    "class datatime(object):\n",
    "    def __init__(self, datetime):\n",
    "        self.s = bw_datetime(datetime)\n",
    "        print(self.s)\n",
    "        print(type(self.s))\n",
    "        self.t = datetime.datetime.strptime(self.s)"
   ]
  },
  {
   "cell_type": "code",
   "execution_count": 13,
   "metadata": {},
   "outputs": [
    {
     "name": "stdout",
     "output_type": "stream",
     "text": [
      "2019-12-30 16:02:10\n",
      "<class 'str'>\n"
     ]
    },
    {
     "ename": "AttributeError",
     "evalue": "'str' object has no attribute 'datetime'",
     "output_type": "error",
     "traceback": [
      "\u001b[1;31m---------------------------------------------------------------------------\u001b[0m",
      "\u001b[1;31mAttributeError\u001b[0m                            Traceback (most recent call last)",
      "\u001b[1;32m<ipython-input-13-81916fd4cfcb>\u001b[0m in \u001b[0;36m<module>\u001b[1;34m\u001b[0m\n\u001b[0;32m      1\u001b[0m \u001b[0mdata\u001b[0m \u001b[1;33m=\u001b[0m \u001b[1;34m\"130C1E10020A\"\u001b[0m\u001b[1;33m\u001b[0m\u001b[1;33m\u001b[0m\u001b[0m\n\u001b[0;32m      2\u001b[0m \u001b[1;33m\u001b[0m\u001b[0m\n\u001b[1;32m----> 3\u001b[1;33m \u001b[0mbw_datetime\u001b[0m \u001b[1;33m=\u001b[0m \u001b[0mdatatime\u001b[0m\u001b[1;33m(\u001b[0m\u001b[0mdata\u001b[0m\u001b[1;33m)\u001b[0m\u001b[1;33m\u001b[0m\u001b[1;33m\u001b[0m\u001b[0m\n\u001b[0m\u001b[0;32m      4\u001b[0m \u001b[0mbw_datetime\u001b[0m\u001b[1;33m.\u001b[0m\u001b[0ms\u001b[0m\u001b[1;33m\u001b[0m\u001b[1;33m\u001b[0m\u001b[0m\n",
      "\u001b[1;32m<ipython-input-12-d500f9561169>\u001b[0m in \u001b[0;36m__init__\u001b[1;34m(self, datetime)\u001b[0m\n\u001b[0;32m      4\u001b[0m         \u001b[0mprint\u001b[0m\u001b[1;33m(\u001b[0m\u001b[0mself\u001b[0m\u001b[1;33m.\u001b[0m\u001b[0ms\u001b[0m\u001b[1;33m)\u001b[0m\u001b[1;33m\u001b[0m\u001b[1;33m\u001b[0m\u001b[0m\n\u001b[0;32m      5\u001b[0m         \u001b[0mprint\u001b[0m\u001b[1;33m(\u001b[0m\u001b[0mtype\u001b[0m\u001b[1;33m(\u001b[0m\u001b[0mself\u001b[0m\u001b[1;33m.\u001b[0m\u001b[0ms\u001b[0m\u001b[1;33m)\u001b[0m\u001b[1;33m)\u001b[0m\u001b[1;33m\u001b[0m\u001b[1;33m\u001b[0m\u001b[0m\n\u001b[1;32m----> 6\u001b[1;33m         \u001b[0mself\u001b[0m\u001b[1;33m.\u001b[0m\u001b[0mt\u001b[0m \u001b[1;33m=\u001b[0m \u001b[0mdatetime\u001b[0m\u001b[1;33m.\u001b[0m\u001b[0mdatetime\u001b[0m\u001b[1;33m.\u001b[0m\u001b[0mstrptime\u001b[0m\u001b[1;33m(\u001b[0m\u001b[0mself\u001b[0m\u001b[1;33m.\u001b[0m\u001b[0ms\u001b[0m\u001b[1;33m)\u001b[0m\u001b[1;33m\u001b[0m\u001b[1;33m\u001b[0m\u001b[0m\n\u001b[0m",
      "\u001b[1;31mAttributeError\u001b[0m: 'str' object has no attribute 'datetime'"
     ]
    }
   ],
   "source": [
    "data = \"130C1E10020A\"\n",
    "\n",
    "bw_datetime = datatime(data)\n",
    "bw_datetime.s"
   ]
  },
  {
   "cell_type": "code",
   "execution_count": 3,
   "metadata": {},
   "outputs": [
    {
     "data": {
      "text/plain": [
       "'2019-12-30 16:02:10'"
      ]
     },
     "execution_count": 3,
     "metadata": {},
     "output_type": "execute_result"
    }
   ],
   "source": [
    "data = \"130C1E10020A\"\n",
    "bw_datetime(data)"
   ]
  },
  {
   "cell_type": "code",
   "execution_count": null,
   "metadata": {},
   "outputs": [],
   "source": []
  }
 ],
 "metadata": {
  "kernelspec": {
   "display_name": "Python 3",
   "language": "python",
   "name": "python3"
  },
  "language_info": {
   "codemirror_mode": {
    "name": "ipython",
    "version": 3
   },
   "file_extension": ".py",
   "mimetype": "text/x-python",
   "name": "python",
   "nbconvert_exporter": "python",
   "pygments_lexer": "ipython3",
   "version": "3.7.3"
  }
 },
 "nbformat": 4,
 "nbformat_minor": 2
}
