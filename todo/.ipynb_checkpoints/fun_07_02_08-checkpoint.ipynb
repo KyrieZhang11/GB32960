{
 "cells": [
  {
   "cell_type": "markdown",
   "metadata": {},
   "source": [
    "## 说明\n",
    "\n",
    "```\n",
    "\"可充电储能装置电压数据\":{\n",
    "    \"可充电储能子系统个数\":\"\",\n",
    "    \"可充电储能子系统电压信息列表\":[\n",
    "        {\n",
    "            \"可充电储能子系统号\":\"1\",\n",
    "            \"可充电储能装置电压\":\"\",\n",
    "            \"可充电储能装置电流\":\"\",\n",
    "            \"单体电池总数\":\"\",\n",
    "            \"本帧起始电池序号\":\"\",\n",
    "            \"本帧单体电池总数n\":\"\",\n",
    "            \"单体电池电压\":\"[n*2]\"\n",
    "        },\n",
    "        {}\n",
    "    ]\n",
    "},\n",
    "\n",
    "\"可充电储能装置电压数据\":{\n",
    "    \"可充电储能子系统个数\":\"1\",\n",
    "    \"可充电储能子系统号\":\"1\"[],\n",
    "    \"可充电储能装置电压\":\"2\"[],\n",
    "    \"可充电储能装置电流\":\"2\"[],\n",
    "    \"单体电池总数\":\"2\"[],\n",
    "    \"本帧起始电池序号\":\"2\"[],\n",
    "    \"本帧单体电池总数n\":\"1\"[],\n",
    "    \"单体电池电压\":\"[n*2][[],[]]\"\n",
    "},\n",
    "\n",
    "```"
   ]
  },
  {
   "cell_type": "markdown",
   "metadata": {},
   "source": [
    "## 导入工具包和公共函数"
   ]
  },
  {
   "cell_type": "code",
   "execution_count": 1,
   "metadata": {},
   "outputs": [
    {
     "name": "stdout",
     "output_type": "stream",
     "text": [
      "importing Jupyter notebook from public_fun.ipynb\n"
     ]
    }
   ],
   "source": [
    "import Ipynb_importer\n",
    "from public_fun import *"
   ]
  },
  {
   "cell_type": "markdown",
   "metadata": {},
   "source": [
    "## 类主体"
   ]
  },
  {
   "cell_type": "code",
   "execution_count": 2,
   "metadata": {},
   "outputs": [],
   "source": [
    "class fun_07_02_08(object):\n",
    "    def __init__(self, data):\n",
    "        data = data[2:]\n",
    "        self.o = data\n",
    "        self.dj_n_o = data[0:2]\n",
    "        self.dj_n_j = hex2dec(self.dj_n_o) # 电池个数\n",
    "        \n",
    "        self.cf_u = [1, 1]\n",
    "        self.cf = fun_07_02_08.fun_cf(self)\n",
    "        self.cf_a = hexlist2(self.cf)\n",
    "        self.o = data[0:self.cf_a[-1]]\n",
    "        self.list_o = [            \n",
    "            \"可充电储能子系统个数\",\n",
    "            \"可充电储能子系统号\",\n",
    "            \"可充电储能装置电压\",\n",
    "            \"可充电储能装置电流\",\n",
    "            \"单体电池总数\",\n",
    "            \"本帧起始电池序号\",\n",
    "            \"本帧单体电池总数\",\n",
    "            \"单体电池电压\",\n",
    "        ]\n",
    "        \n",
    "        self.oj = fun_07_02_08.fun_oj(self)\n",
    "        self.oj2 = {'可充电储能装置电压数据':self.oj}  \n",
    "        self.ol = pd.DataFrame([self.oj]).reindex(columns=self.list_o)\n",
    "        self.pj = {\n",
    "            \"可充电储能子系统个数\":self.dj_n_j,\n",
    "            \"可充电储能子系统号\":[hex2dec(i) for i in self.oj['可充电储能子系统号']],\n",
    "            \"可充电储能装置电压\":[hex2dec(i, k=0.1) for i in self.oj['可充电储能装置电压']],\n",
    "            \"可充电储能装置电流\":[hex2dec(i, k=0.1, n=-1000) for i in self.oj['可充电储能装置电流']],\n",
    "            \"单体电池总数\":[hex2dec(i) for i in self.oj['单体电池总数']],\n",
    "            \"本帧起始电池序号\":[hex2dec(i) for i in self.oj['本帧起始电池序号']],\n",
    "            \"本帧单体电池总数\":[hex2dec(i) for i in self.oj['本帧单体电池总数']],\n",
    "            \"单体电池电压\":[hex2list(i, num=2, kk=0.01) for i in self.oj['单体电池电压']],    \n",
    "        }\n",
    "        self.pj2 = {'可充电储能装置电压数据':self.pj}\n",
    "        self.pl = pd.DataFrame([self.pj]).reindex(columns=self.list_o)\n",
    "        \n",
    "        self.next = data[len(self.o):]\n",
    "        self.nextMark = data[len(self.o):len(self.o)+2]\n",
    "        \n",
    "        \n",
    "        \n",
    "    \n",
    "    def fun_cf(self):\n",
    "        cf_u=[1,2,2,2,2,1,None]\n",
    "        self.c = [] \n",
    "        data = self.o\n",
    "        for i in range(self.dj_n_j):\n",
    "            cf_u[6] = hex2dec(data[20:22]) * 2\n",
    "            self.c = self.c + cf_u\n",
    "            \n",
    "            cf_a = hexlist2(self.c)\n",
    "            data = data[cf_a[-1]:]\n",
    "            \n",
    "        self.c = [1] + self.c\n",
    "            \n",
    "        return self.c\n",
    "    \n",
    "    \n",
    "    def fun_oj(self):\n",
    "        data = self.o[2:]\n",
    "        cf_a = hexlist2(self.cf[1:])\n",
    "        dict_oj = {\n",
    "            \"可充电储能子系统个数\":self.dj_n_o,\n",
    "        }\n",
    "        \n",
    "        list_o = [\n",
    "            \"可充电储能子系统号\",\n",
    "            \"可充电储能装置电压\",\n",
    "            \"可充电储能装置电流\",\n",
    "            \"单体电池总数\",\n",
    "            \"本帧起始电池序号\",\n",
    "            \"本帧单体电池总数\",\n",
    "            \"单体电池电压\",\n",
    "        ]\n",
    "        \n",
    "        dict_oj_u = {\n",
    "            \"可充电储能子系统号\":[],\n",
    "            \"可充电储能装置电压\":[],\n",
    "            \"可充电储能装置电流\":[],\n",
    "            \"单体电池总数\":[],\n",
    "            \"本帧起始电池序号\":[],\n",
    "            \"本帧单体电池总数\":[],\n",
    "            \"单体电池电压\":[],\n",
    "        }\n",
    "        \n",
    "        for i in range(self.dj_n_j):\n",
    "            for j in range(len(dict_oj_u)):\n",
    "                data_unit = data[cf_a[i * len(dict_oj_u) + j]:cf_a[i * len(dict_oj_u) + j +1]]\n",
    "                dict_oj_u[list_o[j]].append(data_unit)\n",
    "        \n",
    "        dict_all = dict(dict_oj, **dict_oj_u)\n",
    "        return dict_all\n",
    "    "
   ]
  },
  {
   "cell_type": "markdown",
   "metadata": {},
   "source": [
    "## 执行"
   ]
  },
  {
   "cell_type": "code",
   "execution_count": 3,
   "metadata": {
    "scrolled": true
   },
   "outputs": [
    {
     "name": "stdout",
     "output_type": "stream",
     "text": [
      "[1, 1, 2, 2, 2, 2, 1, 288]\n",
      "[0, 2, 4, 8, 12, 16, 20, 22, 598]\n",
      "01011706273C00900001900FFA10040FFA0FFA0FFA0FFA10040FFA1004100410040FFA0FC8100410041004100410041004100410040FFA10041004100410041004100410040FFA10040FFA0FFA0FFA10040FFA0FFA0FFA0FFA100410040FFA0FFA100410040FFA0FFA10040FFA0FFA0FFA10040FFA0FFA0FFA0FFA0FFA0FFA0FF00FFA0FFA0FFA10040FFA0FFA100410040FF010040FFA0FFA0FFA0FFA0FFA10040FFA0FFA0FFA100410040FFA0FF00FFA0FFA0FFA0FFA0FFA0FFA0FFA10040FFA0FFA10041004100410040FFA0FFA0FFA0FFA0FFA0FFA0FFA0FFA0FFA100410040FFA0FFA1004100410040FFA0FFA0FFA0FFA0FFA0FFA0FFA0FFA100E0FF00FFA0FFA0FFA0FFA100410040FFA100410040FFA10040FFA10040FFA100410040FFA10041004100410040FFA\n",
      "01\n",
      "1706\n",
      "273C\n",
      "0090\n",
      "0001\n",
      "90\n",
      "0FFA10040FFA0FFA0FFA0FFA10040FFA1004100410040FFA0FC8100410041004100410041004100410040FFA10041004100410041004100410040FFA10040FFA0FFA0FFA10040FFA0FFA0FFA0FFA100410040FFA0FFA100410040FFA0FFA10040FFA0FFA0FFA10040FFA0FFA0FFA0FFA0FFA0FFA0FF00FFA0FFA0FFA10040FFA0FFA100410040FF010040FFA0FFA0FFA0FFA0FFA10040FFA0FFA0FFA100410040FFA0FF00FFA0FFA0FFA0FFA0FFA0FFA0FFA10040FFA0FFA10041004100410040FFA0FFA0FFA0FFA0FFA0FFA0FFA0FFA0FFA100410040FFA0FFA1004100410040FFA0FFA0FFA0FFA0FFA0FFA0FFA0FFA100E0FF00FFA0FFA0FFA0FFA100410040FFA100410040FFA10040FFA10040FFA100410040FFA10041004100410040FFA\n"
     ]
    }
   ],
   "source": [
    "data = \"0801011706273C00900001900FFA10040FFA0FFA0FFA0FFA10040FFA1004100410040FFA0FC8100410041004100410041004100410040FFA10041004100410041004100410040FFA10040FFA0FFA0FFA10040FFA0FFA0FFA0FFA100410040FFA0FFA100410040FFA0FFA10040FFA0FFA0FFA10040FFA0FFA0FFA0FFA0FFA0FFA0FF00FFA0FFA0FFA10040FFA0FFA100410040FF010040FFA0FFA0FFA0FFA0FFA10040FFA0FFA0FFA100410040FFA0FF00FFA0FFA0FFA0FFA0FFA0FFA0FFA10040FFA0FFA10041004100410040FFA0FFA0FFA0FFA0FFA0FFA0FFA0FFA0FFA100410040FFA0FFA1004100410040FFA0FFA0FFA0FFA0FFA0FFA0FFA0FFA100E0FF00FFA0FFA0FFA0FFA100410040FFA100410040FFA10040FFA10040FFA100410040FFA10041004100410040FFAAB\"\n",
    "\n",
    "fun_07_02_08 = fun_07_02_08(data)"
   ]
  },
  {
   "cell_type": "markdown",
   "metadata": {},
   "source": [
    "## 结果"
   ]
  },
  {
   "cell_type": "code",
   "execution_count": 4,
   "metadata": {},
   "outputs": [
    {
     "data": {
      "text/plain": [
       "'01011706273C00900001900FFA10040FFA0FFA0FFA0FFA10040FFA1004100410040FFA0FC8100410041004100410041004100410040FFA10041004100410041004100410040FFA10040FFA0FFA0FFA10040FFA0FFA0FFA0FFA100410040FFA0FFA100410040FFA0FFA10040FFA0FFA0FFA10040FFA0FFA0FFA0FFA0FFA0FFA0FF00FFA0FFA0FFA10040FFA0FFA100410040FF010040FFA0FFA0FFA0FFA0FFA10040FFA0FFA0FFA100410040FFA0FF00FFA0FFA0FFA0FFA0FFA0FFA0FFA10040FFA0FFA10041004100410040FFA0FFA0FFA0FFA0FFA0FFA0FFA0FFA0FFA100410040FFA0FFA1004100410040FFA0FFA0FFA0FFA0FFA0FFA0FFA0FFA100E0FF00FFA0FFA0FFA0FFA100410040FFA100410040FFA10040FFA10040FFA100410040FFA10041004100410040FFA'"
      ]
     },
     "execution_count": 4,
     "metadata": {},
     "output_type": "execute_result"
    }
   ],
   "source": [
    "fun_07_02_08.o"
   ]
  },
  {
   "cell_type": "code",
   "execution_count": 5,
   "metadata": {},
   "outputs": [
    {
     "data": {
      "text/plain": [
       "{'可充电储能子系统个数': '01',\n",
       " '可充电储能子系统号': ['01'],\n",
       " '可充电储能装置电压': ['1706'],\n",
       " '可充电储能装置电流': ['273C'],\n",
       " '单体电池总数': ['0090'],\n",
       " '本帧起始电池序号': ['0001'],\n",
       " '本帧单体电池总数': ['90'],\n",
       " '单体电池电压': ['0FFA10040FFA0FFA0FFA0FFA10040FFA1004100410040FFA0FC8100410041004100410041004100410040FFA10041004100410041004100410040FFA10040FFA0FFA0FFA10040FFA0FFA0FFA0FFA100410040FFA0FFA100410040FFA0FFA10040FFA0FFA0FFA10040FFA0FFA0FFA0FFA0FFA0FFA0FF00FFA0FFA0FFA10040FFA0FFA100410040FF010040FFA0FFA0FFA0FFA0FFA10040FFA0FFA0FFA100410040FFA0FF00FFA0FFA0FFA0FFA0FFA0FFA0FFA10040FFA0FFA10041004100410040FFA0FFA0FFA0FFA0FFA0FFA0FFA0FFA0FFA100410040FFA0FFA1004100410040FFA0FFA0FFA0FFA0FFA0FFA0FFA0FFA100E0FF00FFA0FFA0FFA0FFA100410040FFA100410040FFA10040FFA10040FFA100410040FFA10041004100410040FFA']}"
      ]
     },
     "execution_count": 5,
     "metadata": {},
     "output_type": "execute_result"
    }
   ],
   "source": [
    "fun_07_02_08.oj"
   ]
  },
  {
   "cell_type": "code",
   "execution_count": 6,
   "metadata": {},
   "outputs": [
    {
     "data": {
      "text/html": [
       "<div>\n",
       "<style scoped>\n",
       "    .dataframe tbody tr th:only-of-type {\n",
       "        vertical-align: middle;\n",
       "    }\n",
       "\n",
       "    .dataframe tbody tr th {\n",
       "        vertical-align: top;\n",
       "    }\n",
       "\n",
       "    .dataframe thead th {\n",
       "        text-align: right;\n",
       "    }\n",
       "</style>\n",
       "<table border=\"1\" class=\"dataframe\">\n",
       "  <thead>\n",
       "    <tr style=\"text-align: right;\">\n",
       "      <th></th>\n",
       "      <th>可充电储能子系统个数</th>\n",
       "      <th>可充电储能子系统号</th>\n",
       "      <th>可充电储能装置电压</th>\n",
       "      <th>可充电储能装置电流</th>\n",
       "      <th>单体电池总数</th>\n",
       "      <th>本帧起始电池序号</th>\n",
       "      <th>本帧单体电池总数</th>\n",
       "      <th>单体电池电压</th>\n",
       "    </tr>\n",
       "  </thead>\n",
       "  <tbody>\n",
       "    <tr>\n",
       "      <th>0</th>\n",
       "      <td>01</td>\n",
       "      <td>[01]</td>\n",
       "      <td>[1706]</td>\n",
       "      <td>[273C]</td>\n",
       "      <td>[0090]</td>\n",
       "      <td>[0001]</td>\n",
       "      <td>[90]</td>\n",
       "      <td>[0FFA10040FFA0FFA0FFA0FFA10040FFA1004100410040...</td>\n",
       "    </tr>\n",
       "  </tbody>\n",
       "</table>\n",
       "</div>"
      ],
      "text/plain": [
       "  可充电储能子系统个数 可充电储能子系统号 可充电储能装置电压 可充电储能装置电流  单体电池总数 本帧起始电池序号 本帧单体电池总数  \\\n",
       "0         01      [01]    [1706]    [273C]  [0090]   [0001]     [90]   \n",
       "\n",
       "                                              单体电池电压  \n",
       "0  [0FFA10040FFA0FFA0FFA0FFA10040FFA1004100410040...  "
      ]
     },
     "execution_count": 6,
     "metadata": {},
     "output_type": "execute_result"
    }
   ],
   "source": [
    "fun_07_02_08.ol"
   ]
  },
  {
   "cell_type": "code",
   "execution_count": 7,
   "metadata": {
    "scrolled": true
   },
   "outputs": [
    {
     "data": {
      "text/plain": [
       "{'可充电储能子系统个数': 1,\n",
       " '可充电储能子系统号': [1],\n",
       " '可充电储能装置电压': [589.4],\n",
       " '可充电储能装置电流': [4.4],\n",
       " '单体电池总数': [144],\n",
       " '本帧起始电池序号': [1],\n",
       " '本帧单体电池总数': [144],\n",
       " '单体电池电压': [[40.9,\n",
       "   41.0,\n",
       "   40.9,\n",
       "   40.9,\n",
       "   40.9,\n",
       "   40.9,\n",
       "   41.0,\n",
       "   40.9,\n",
       "   41.0,\n",
       "   41.0,\n",
       "   41.0,\n",
       "   40.9,\n",
       "   40.4,\n",
       "   41.0,\n",
       "   41.0,\n",
       "   41.0,\n",
       "   41.0,\n",
       "   41.0,\n",
       "   41.0,\n",
       "   41.0,\n",
       "   41.0,\n",
       "   40.9,\n",
       "   41.0,\n",
       "   41.0,\n",
       "   41.0,\n",
       "   41.0,\n",
       "   41.0,\n",
       "   41.0,\n",
       "   41.0,\n",
       "   40.9,\n",
       "   41.0,\n",
       "   40.9,\n",
       "   40.9,\n",
       "   40.9,\n",
       "   41.0,\n",
       "   40.9,\n",
       "   40.9,\n",
       "   40.9,\n",
       "   40.9,\n",
       "   41.0,\n",
       "   41.0,\n",
       "   40.9,\n",
       "   40.9,\n",
       "   41.0,\n",
       "   41.0,\n",
       "   40.9,\n",
       "   40.9,\n",
       "   41.0,\n",
       "   40.9,\n",
       "   40.9,\n",
       "   40.9,\n",
       "   41.0,\n",
       "   40.9,\n",
       "   40.9,\n",
       "   40.9,\n",
       "   40.9,\n",
       "   40.9,\n",
       "   40.9,\n",
       "   40.8,\n",
       "   40.9,\n",
       "   40.9,\n",
       "   40.9,\n",
       "   41.0,\n",
       "   40.9,\n",
       "   40.9,\n",
       "   41.0,\n",
       "   41.0,\n",
       "   40.8,\n",
       "   41.0,\n",
       "   40.9,\n",
       "   40.9,\n",
       "   40.9,\n",
       "   40.9,\n",
       "   40.9,\n",
       "   41.0,\n",
       "   40.9,\n",
       "   40.9,\n",
       "   40.9,\n",
       "   41.0,\n",
       "   41.0,\n",
       "   40.9,\n",
       "   40.8,\n",
       "   40.9,\n",
       "   40.9,\n",
       "   40.9,\n",
       "   40.9,\n",
       "   40.9,\n",
       "   40.9,\n",
       "   40.9,\n",
       "   41.0,\n",
       "   40.9,\n",
       "   40.9,\n",
       "   41.0,\n",
       "   41.0,\n",
       "   41.0,\n",
       "   41.0,\n",
       "   40.9,\n",
       "   40.9,\n",
       "   40.9,\n",
       "   40.9,\n",
       "   40.9,\n",
       "   40.9,\n",
       "   40.9,\n",
       "   40.9,\n",
       "   40.9,\n",
       "   41.0,\n",
       "   41.0,\n",
       "   40.9,\n",
       "   40.9,\n",
       "   41.0,\n",
       "   41.0,\n",
       "   41.0,\n",
       "   40.9,\n",
       "   40.9,\n",
       "   40.9,\n",
       "   40.9,\n",
       "   40.9,\n",
       "   40.9,\n",
       "   40.9,\n",
       "   40.9,\n",
       "   41.1,\n",
       "   40.8,\n",
       "   40.9,\n",
       "   40.9,\n",
       "   40.9,\n",
       "   40.9,\n",
       "   41.0,\n",
       "   41.0,\n",
       "   40.9,\n",
       "   41.0,\n",
       "   41.0,\n",
       "   40.9,\n",
       "   41.0,\n",
       "   40.9,\n",
       "   41.0,\n",
       "   40.9,\n",
       "   41.0,\n",
       "   41.0,\n",
       "   40.9,\n",
       "   41.0,\n",
       "   41.0,\n",
       "   41.0,\n",
       "   41.0,\n",
       "   40.9]]}"
      ]
     },
     "execution_count": 7,
     "metadata": {},
     "output_type": "execute_result"
    }
   ],
   "source": [
    "fun_07_02_08.pj"
   ]
  },
  {
   "cell_type": "code",
   "execution_count": 8,
   "metadata": {},
   "outputs": [
    {
     "data": {
      "text/html": [
       "<div>\n",
       "<style scoped>\n",
       "    .dataframe tbody tr th:only-of-type {\n",
       "        vertical-align: middle;\n",
       "    }\n",
       "\n",
       "    .dataframe tbody tr th {\n",
       "        vertical-align: top;\n",
       "    }\n",
       "\n",
       "    .dataframe thead th {\n",
       "        text-align: right;\n",
       "    }\n",
       "</style>\n",
       "<table border=\"1\" class=\"dataframe\">\n",
       "  <thead>\n",
       "    <tr style=\"text-align: right;\">\n",
       "      <th></th>\n",
       "      <th>可充电储能子系统个数</th>\n",
       "      <th>可充电储能子系统号</th>\n",
       "      <th>可充电储能装置电压</th>\n",
       "      <th>可充电储能装置电流</th>\n",
       "      <th>单体电池总数</th>\n",
       "      <th>本帧起始电池序号</th>\n",
       "      <th>本帧单体电池总数</th>\n",
       "      <th>单体电池电压</th>\n",
       "    </tr>\n",
       "  </thead>\n",
       "  <tbody>\n",
       "    <tr>\n",
       "      <th>0</th>\n",
       "      <td>1</td>\n",
       "      <td>[1]</td>\n",
       "      <td>[589.4]</td>\n",
       "      <td>[4.4]</td>\n",
       "      <td>[144]</td>\n",
       "      <td>[1]</td>\n",
       "      <td>[144]</td>\n",
       "      <td>[[40.9, 41.0, 40.9, 40.9, 40.9, 40.9, 41.0, 40...</td>\n",
       "    </tr>\n",
       "  </tbody>\n",
       "</table>\n",
       "</div>"
      ],
      "text/plain": [
       "   可充电储能子系统个数 可充电储能子系统号 可充电储能装置电压 可充电储能装置电流 单体电池总数 本帧起始电池序号 本帧单体电池总数  \\\n",
       "0           1       [1]   [589.4]     [4.4]  [144]      [1]    [144]   \n",
       "\n",
       "                                              单体电池电压  \n",
       "0  [[40.9, 41.0, 40.9, 40.9, 40.9, 40.9, 41.0, 40...  "
      ]
     },
     "execution_count": 8,
     "metadata": {},
     "output_type": "execute_result"
    }
   ],
   "source": [
    "fun_07_02_08.pl"
   ]
  },
  {
   "cell_type": "code",
   "execution_count": 9,
   "metadata": {},
   "outputs": [
    {
     "data": {
      "text/plain": [
       "'AB'"
      ]
     },
     "execution_count": 9,
     "metadata": {},
     "output_type": "execute_result"
    }
   ],
   "source": [
    "fun_07_02_08.next"
   ]
  },
  {
   "cell_type": "code",
   "execution_count": 10,
   "metadata": {},
   "outputs": [
    {
     "data": {
      "text/plain": [
       "'AB'"
      ]
     },
     "execution_count": 10,
     "metadata": {},
     "output_type": "execute_result"
    }
   ],
   "source": [
    "fun_07_02_08.nextMark"
   ]
  },
  {
   "cell_type": "code",
   "execution_count": null,
   "metadata": {},
   "outputs": [],
   "source": []
  }
 ],
 "metadata": {
  "kernelspec": {
   "display_name": "Python 3",
   "language": "python",
   "name": "python3"
  },
  "language_info": {
   "codemirror_mode": {
    "name": "ipython",
    "version": 3
   },
   "file_extension": ".py",
   "mimetype": "text/x-python",
   "name": "python",
   "nbconvert_exporter": "python",
   "pygments_lexer": "ipython3",
   "version": "3.7.3"
  }
 },
 "nbformat": 4,
 "nbformat_minor": 2
}
