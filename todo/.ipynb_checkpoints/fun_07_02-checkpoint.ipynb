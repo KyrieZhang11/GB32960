{
 "cells": [
  {
   "cell_type": "markdown",
   "metadata": {},
   "source": [
    "## 说明\n",
    "```\n",
    "\"信息上报\":{\n",
    "    \"数据采集时间\":\"6\",\n",
    "    \"整车数据\":{},\n",
    "    \"驱动电机数据\":{},\n",
    "    \"燃料电池数据\":{},\n",
    "    \"发动机数据\":{},\n",
    "    \"车辆位置数据\":{},\n",
    "    \"极值数据\":{},\n",
    "    \"报警数据\":{},\n",
    "    \"可充电储能装置电压数据\":{},\n",
    "    \"可充电储能装置温度数据\":{},\n",
    "}\n",
    "```"
   ]
  },
  {
   "cell_type": "markdown",
   "metadata": {},
   "source": [
    "## 导入工具包和公共函数"
   ]
  },
  {
   "cell_type": "code",
   "execution_count": 1,
   "metadata": {},
   "outputs": [
    {
     "name": "stdout",
     "output_type": "stream",
     "text": [
      "importing Jupyter notebook from public_fun.ipynb\n",
      "importing Jupyter notebook from fun_07_02_01.ipynb\n",
      "importing Jupyter notebook from fun_07_02_02.ipynb\n"
     ]
    },
    {
     "ename": "NameError",
     "evalue": "name 'fun_07_02_03' is not defined",
     "output_type": "error",
     "traceback": [
      "\u001b[1;31m---------------------------------------------------------------------------\u001b[0m",
      "\u001b[1;31mNameError\u001b[0m                                 Traceback (most recent call last)",
      "\u001b[1;32m<ipython-input-1-0919607163d9>\u001b[0m in \u001b[0;36m<module>\u001b[1;34m\u001b[0m\n\u001b[0;32m      2\u001b[0m \u001b[1;32mfrom\u001b[0m \u001b[0mpublic_fun\u001b[0m \u001b[1;32mimport\u001b[0m \u001b[1;33m*\u001b[0m\u001b[1;33m\u001b[0m\u001b[1;33m\u001b[0m\u001b[0m\n\u001b[0;32m      3\u001b[0m \u001b[1;32mfrom\u001b[0m \u001b[0mfun_07_02_01\u001b[0m \u001b[1;32mimport\u001b[0m \u001b[1;33m*\u001b[0m\u001b[1;33m\u001b[0m\u001b[1;33m\u001b[0m\u001b[0m\n\u001b[1;32m----> 4\u001b[1;33m \u001b[1;32mfrom\u001b[0m \u001b[0mfun_07_02_02\u001b[0m \u001b[1;32mimport\u001b[0m \u001b[1;33m*\u001b[0m\u001b[1;33m\u001b[0m\u001b[1;33m\u001b[0m\u001b[0m\n\u001b[0m\u001b[0;32m      5\u001b[0m \u001b[1;32mfrom\u001b[0m \u001b[0mfun_07_02_03\u001b[0m \u001b[1;32mimport\u001b[0m \u001b[1;33m*\u001b[0m\u001b[1;33m\u001b[0m\u001b[1;33m\u001b[0m\u001b[0m\n\u001b[0;32m      6\u001b[0m \u001b[1;32mfrom\u001b[0m \u001b[0mfun_07_02_04\u001b[0m \u001b[1;32mimport\u001b[0m \u001b[1;33m*\u001b[0m\u001b[1;33m\u001b[0m\u001b[1;33m\u001b[0m\u001b[0m\n",
      "\u001b[1;32mD:\\Program Files\\anaconda3\\lib\\importlib\\_bootstrap.py\u001b[0m in \u001b[0;36m_find_and_load\u001b[1;34m(name, import_)\u001b[0m\n",
      "\u001b[1;32mD:\\Program Files\\anaconda3\\lib\\importlib\\_bootstrap.py\u001b[0m in \u001b[0;36m_find_and_load_unlocked\u001b[1;34m(name, import_)\u001b[0m\n",
      "\u001b[1;32mD:\\Program Files\\anaconda3\\lib\\importlib\\_bootstrap.py\u001b[0m in \u001b[0;36m_load_unlocked\u001b[1;34m(spec)\u001b[0m\n",
      "\u001b[1;32mD:\\Program Files\\anaconda3\\lib\\importlib\\_bootstrap.py\u001b[0m in \u001b[0;36m_load_backward_compatible\u001b[1;34m(spec)\u001b[0m\n",
      "\u001b[1;32mD:\\My work\\github\\GB32960\\todo\\Ipynb_importer.py\u001b[0m in \u001b[0;36mload_module\u001b[1;34m(self, fullname)\u001b[0m\n\u001b[0;32m     62\u001b[0m                 \u001b[0mcode\u001b[0m \u001b[1;33m=\u001b[0m \u001b[0mself\u001b[0m\u001b[1;33m.\u001b[0m\u001b[0mshell\u001b[0m\u001b[1;33m.\u001b[0m\u001b[0minput_transformer_manager\u001b[0m\u001b[1;33m.\u001b[0m\u001b[0mtransform_cell\u001b[0m\u001b[1;33m(\u001b[0m\u001b[0mcell\u001b[0m\u001b[1;33m.\u001b[0m\u001b[0msource\u001b[0m\u001b[1;33m)\u001b[0m\u001b[1;33m\u001b[0m\u001b[1;33m\u001b[0m\u001b[0m\n\u001b[0;32m     63\u001b[0m                 \u001b[1;31m# run the code in themodule\u001b[0m\u001b[1;33m\u001b[0m\u001b[1;33m\u001b[0m\u001b[1;33m\u001b[0m\u001b[0m\n\u001b[1;32m---> 64\u001b[1;33m                 \u001b[0mexec\u001b[0m\u001b[1;33m(\u001b[0m\u001b[0mcode\u001b[0m\u001b[1;33m,\u001b[0m \u001b[0mmod\u001b[0m\u001b[1;33m.\u001b[0m\u001b[0m__dict__\u001b[0m\u001b[1;33m)\u001b[0m\u001b[1;33m\u001b[0m\u001b[1;33m\u001b[0m\u001b[0m\n\u001b[0m\u001b[0;32m     65\u001b[0m         \u001b[1;32mfinally\u001b[0m\u001b[1;33m:\u001b[0m\u001b[1;33m\u001b[0m\u001b[1;33m\u001b[0m\u001b[0m\n\u001b[0;32m     66\u001b[0m             \u001b[0mself\u001b[0m\u001b[1;33m.\u001b[0m\u001b[0mshell\u001b[0m\u001b[1;33m.\u001b[0m\u001b[0muser_ns\u001b[0m \u001b[1;33m=\u001b[0m \u001b[0msave_user_ns\u001b[0m\u001b[1;33m\u001b[0m\u001b[1;33m\u001b[0m\u001b[0m\n",
      "\u001b[1;32mD:\\My work\\github\\GB32960\\todo\\fun_07_02_02.ipynb\u001b[0m in \u001b[0;36m<module>\u001b[1;34m\u001b[0m\n",
      "\u001b[1;31mNameError\u001b[0m: name 'fun_07_02_03' is not defined"
     ]
    }
   ],
   "source": [
    "import Ipynb_importer\n",
    "from public_fun import *\n",
    "from fun_07_02_01 import *\n",
    "from fun_07_02_02 import *\n",
    "from fun_07_02_03 import *\n",
    "from fun_07_02_04 import *\n",
    "from fun_07_02_05 import *\n",
    "from fun_07_02_06 import *\n",
    "from fun_07_02_07 import *\n",
    "from fun_07_02_08 import *\n",
    "from fun_07_02_09 import *\n",
    "\n",
    "\n",
    "\n",
    "\n",
    "import pandas as pd"
   ]
  },
  {
   "cell_type": "code",
   "execution_count": null,
   "metadata": {},
   "outputs": [],
   "source": [
    "import sys\n",
    "import globalVar as glv"
   ]
  },
  {
   "cell_type": "code",
   "execution_count": null,
   "metadata": {},
   "outputs": [],
   "source": [
    "class fun_07_02:\n",
    "    def __init__(self, data):\n",
    "        self.o = data\n",
    "        self.oj = {'信息上报': None}\n",
    "        self.ol = pd.DataFrame({'01':['01']})\n",
    "        self.pj = {'信息上报': None}\n",
    "        self.pl = pd.DataFrame({'01':['01']})\n",
    "        \n",
    "        self.datetime = get_datetime(self.o[0:12])\n",
    "        glv.set_value('data_f', data[0:12])\n",
    "        glv.set_value('m_07_02', data[12:14])\n",
    "        \n",
    "        self.mo_list = ['01','02','03','04','05','06','07','08','09']\n",
    "        self.do_list = []\n",
    "        \n",
    "        while(glv.get_value('m_07_02') in mo_list):\n",
    "            if glv.get_value('m_07_02') == '01':\n",
    "                self.f_01 = fun_07_02_01(glv.get_value('data_f'))\n",
    "            elif glv.get_value('m_07_02') == '02':\n",
    "                self.f_02 = fun_07_02_02(glv.get_value('data_f'))\n",
    "            elif glv.get_value('m_07_02') == '03':\n",
    "                self.f_03 = fun_07_02_03(glv.get_value('data_f'))\n",
    "            elif glv.get_value('m_07_02') == '04':\n",
    "                self.f_04 = fun_07_02_04(glv.get_value('data_f'))\n",
    "            elif glv.get_value('m_07_02') == '05':\n",
    "                self.f_05 = fun_07_02_05(glv.get_value('data_f'))\n",
    "            elif glv.get_value('m_07_02') == '06':\n",
    "                self.f_06 = fun_07_02_06(glv.get_value('data_f'))\n",
    "            elif glv.get_value('m_07_02') == '07':\n",
    "                self.f_07 = fun_07_02_07(glv.get_value('data_f'))\n",
    "            elif glv.get_value('m_07_02') == '08':\n",
    "                self.f_08 = fun_07_02_08(glv.get_value('data_f'))\n",
    "            elif glv.get_value('m_07_02') == '09':\n",
    "                self.f_09 = fun_07_02_09(glv.get_value('data_f'))\n",
    "            else:\n",
    "                print(\"fun_07_02 done\")\n",
    "                print(glv.get_value('data_f'))\n",
    "            \n",
    "            # 记录已执行的\n",
    "            self.do_list.append(glv.get_value('m_07_02'))\n",
    "            # 删除已执行的\n",
    "            self.mo_list.remove(glv.get_value('m_07_02'))\n",
    "            \n",
    "#             fun_07_02.do()    \n",
    "    \n",
    "#     def do(self):\n",
    "        do_list = self.do_list.sort()\n",
    "        for i in self.do_list:\n",
    "            if i == '01':\n",
    "                self.oj = dict(self.oj,**self.f_01.oj2)\n",
    "                self.ol = pd.merge(self.ol, self.f_01.ol, left_index=True, right_index=True)\n",
    "                self.pj = dict(self.oj,**self.f_01.pj2)\n",
    "                self.pl = pd.merge(self.pl, self.f_01.pl, left_index=True, right_index=True)\n",
    "            elif i == '02':\n",
    "                self.oj = dict(self.oj,**self.f_02.oj2)\n",
    "                self.ol = pd.merge(self.ol, self.f_02.ol, left_index=True, right_index=True)\n",
    "                self.pj = dict(self.oj,**self.f_02.pj2)\n",
    "                self.pl = pd.merge(self.pl, self.f_02.pl, left_index=True, right_index=True)\n",
    "            elif i == '03':\n",
    "                self.oj = dict(self.oj,**self.f_03.oj2)\n",
    "                self.ol = pd.merge(self.ol, self.f_03.ol, left_index=True, right_index=True)\n",
    "                self.pj = dict(self.oj,**self.f_03.pj2)\n",
    "                self.pl = pd.merge(self.pl, self.f_03.pl, left_index=True, right_index=True)\n",
    "            elif i == '04':\n",
    "                self.oj = dict(self.oj,**self.f_04.oj2)\n",
    "                self.ol = pd.merge(self.ol, self.f_04.ol, left_index=True, right_index=True)\n",
    "                self.pj = dict(self.oj,**self.f_04.pj2)\n",
    "                self.pl = pd.merge(self.pl, self.f_04.pl, left_index=True, right_index=True)\n",
    "            elif i == '05':\n",
    "                self.oj = dict(self.oj,**self.f_05.oj2)\n",
    "                self.ol = pd.merge(self.ol, self.f_05.ol, left_index=True, right_index=True)\n",
    "                self.pj = dict(self.oj,**self.f_05.pj2)\n",
    "                self.pl = pd.merge(self.pl, self.f_05.pl, left_index=True, right_index=True)\n",
    "            elif i == '06':\n",
    "                self.oj = dict(self.oj,**self.f_06.oj2)\n",
    "                self.ol = pd.merge(self.ol, self.f_06.ol, left_index=True, right_index=True)\n",
    "                self.pj = dict(self.oj,**self.f_06.pj2)\n",
    "                self.pl = pd.merge(self.pl, self.f_06.pl, left_index=True, right_index=True)\n",
    "            elif i == '07':\n",
    "                self.oj = dict(self.oj,**self.f_07.oj2)\n",
    "                self.ol = pd.merge(self.ol, self.f_07.ol, left_index=True, right_index=True)\n",
    "                self.pj = dict(self.oj,**self.f_07.pj2)\n",
    "                self.pl = pd.merge(self.pl, self.f_07.pl, left_index=True, right_index=True)\n",
    "            elif i == '08':\n",
    "                self.oj = dict(self.oj,**self.f_08.oj2)\n",
    "                self.ol = pd.merge(self.ol, self.f_08.ol, left_index=True, right_index=True)\n",
    "                self.pj = dict(self.oj,**self.f_08.pj2)\n",
    "                self.pl = pd.merge(self.pl, self.f_08.pl, left_index=True, right_index=True)\n",
    "            elif i == '09':\n",
    "                self.oj = dict(self.oj,**self.f_09.oj2)\n",
    "                self.ol = pd.merge(self.ol, self.f_09.ol, left_index=True, right_index=True)\n",
    "                self.pj = dict(self.oj,**self.f_09.pj2)\n",
    "                self.pl = pd.merge(self.pl, self.f_09.pl, left_index=True, right_index=True)\n",
    "                "
   ]
  },
  {
   "cell_type": "markdown",
   "metadata": {},
   "source": [
    "## 测试"
   ]
  },
  {
   "cell_type": "code",
   "execution_count": null,
   "metadata": {},
   "outputs": [],
   "source": [
    "data = \"01020101000000000b3615f52428440100435800000500072035f001eac6f60601020f46010d0f1401023b0104390700000000000000000009010100483a3b3a393a3b3a3a3a3a3a393a3a3a393a3a3a3a3a3a3a3b3a3a3a3a3a3a3a3a3a39393a3a3a3a393a3a3a39393a3a393a3a3a3a3a3a3a3a3a3a3a3a3a3a3a3a3a3a3a3a3a393a3a08010115f5242800900001900f3c0f460f3c0f3c0f3c0f3c0f3c0f3c0f460f3c0f3c0f3c0f140f460f3c0f460f460f460f460f460f460f3c0f460f460f460f460f460f460f460f460f3c0f3c0f460f3c0f3c0f3c0f3c0f3c0f3c0f460f460f3c0f3c0f460f3c0f3c0f3c0f3c0f3c0f3c0f3c0f460f3c0f3c0f3c0f3c0f460f3c0f320f3c0f3c0f3c0f3c0f3c0f460f460f3c0f320f460f3c0f3c0f3c0f460f3c0f3c0f460f3c0f3c0f3c0f460f460f3c0f3c0f460f3c0f3c0f3c0f3c0f460f460f3c0f3c0f3c0f460f3c0f3c0f3c0f3c0f3c0f3c0f3c0f3c0f3c0f3c0f460f460f460f3c0f460f460f460f460f460f3c0f3c0f3c0f3c0f3c0f3c0f460f460f320f460f460f460f460f460f460f460f460f460f460f460f460f460f460f460f460f460f460f460f460f460f4604\"\n",
    "\n",
    "fun_07_02_01 = fun_07_02_01(data)"
   ]
  },
  {
   "cell_type": "code",
   "execution_count": 3,
   "metadata": {},
   "outputs": [
    {
     "data": {
      "text/plain": [
       "'020101043451AA4E8437170627270500072035A801EAC74A060179100E010D0FC801013C01043A0700000000000000000009010100483C3B3C3A3B3B3C3A3B3B3B3A3B3B3B3A3B3B3B3B3B3A3B3C3B3B3C3B3C3A3B3C3B3A3B3B3B3B3B3A3C3B3C3A3B3B3B3A3B3B3B3A3B3B3B3B3B3A3B3C3B3A3B3B3C3A3B3B3B3A3B3B0801011706273C00900001900FFA10040FFA0FFA0FFA0FFA10040FFA1004100410040FFA0FC8100410041004100410041004100410040FFA10041004100410041004100410040FFA10040FFA0FFA0FFA10040FFA0FFA0FFA0FFA100410040FFA0FFA100410040FFA0FFA10040FFA0FFA0FFA10040FFA0FFA0FFA0FFA0FFA0FFA0FF00FFA0FFA0FFA10040FFA0FFA100410040FF010040FFA0FFA0FFA0FFA0FFA10040FFA0FFA0FFA100410040FFA0FF00FFA0FFA0FFA0FFA0FFA0FFA0FFA10040FFA0FFA10041004100410040FFA0FFA0FFA0FFA0FFA0FFA0FFA0FFA0FFA100410040FFA0FFA1004100410040FFA0FFA0FFA0FFA0FFA0FFA0FFA0FFA100E0FF00FFA0FFA0FFA0FFA100410040FFA100410040FFA10040FFA10040FFA100410040FFA10041004100410040FFAAB'"
      ]
     },
     "execution_count": 3,
     "metadata": {},
     "output_type": "execute_result"
    }
   ],
   "source": [
    "fun_07_02_01.next"
   ]
  },
  {
   "cell_type": "code",
   "execution_count": null,
   "metadata": {},
   "outputs": [],
   "source": []
  }
 ],
 "metadata": {
  "kernelspec": {
   "display_name": "Python 3",
   "language": "python",
   "name": "python3"
  },
  "language_info": {
   "codemirror_mode": {
    "name": "ipython",
    "version": 3
   },
   "file_extension": ".py",
   "mimetype": "text/x-python",
   "name": "python",
   "nbconvert_exporter": "python",
   "pygments_lexer": "ipython3",
   "version": "3.7.3"
  }
 },
 "nbformat": 4,
 "nbformat_minor": 2
}
