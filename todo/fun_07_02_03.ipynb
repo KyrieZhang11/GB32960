{
 "cells": [
  {
   "cell_type": "markdown",
   "metadata": {},
   "source": [
    "## 说明\n",
    "\n",
    "``` JSON\n",
    "\"驱动电机数据\":{\n",
    "    \"驱动电机个数\":\"1\",\n",
    "    \"驱动电机总成信息列表\":[\n",
    "        {\n",
    "            \"驱动电机序号\":1,\n",
    "            \"驱动电机状态\":\"1\",\n",
    "            \"驱动电机控制器温度\":\"1\",\n",
    "            \"驱动电机转速\":\"2\",\n",
    "            \"驱动电机转矩\":\"2\",\n",
    "            \"驱动电机温度\":\"1\",\n",
    "            \"电机控制器输入电压\":\"2\",\n",
    "            \"电机控制器直流母线电流\":\"2\",\n",
    "        },\n",
    "        {\n",
    "            \n",
    "        \n",
    "        },\n",
    "}\n",
    "```"
   ]
  },
  {
   "cell_type": "markdown",
   "metadata": {},
   "source": [
    "## 导入工具包和公共函数"
   ]
  },
  {
   "cell_type": "code",
   "execution_count": 1,
   "metadata": {},
   "outputs": [
    {
     "name": "stdout",
     "output_type": "stream",
     "text": [
      "importing Jupyter notebook from public_fun.ipynb\n"
     ]
    }
   ],
   "source": [
    "import Ipynb_importer\n",
    "from public_fun import *"
   ]
  },
  {
   "cell_type": "markdown",
   "metadata": {},
   "source": [
    "## 类主体"
   ]
  },
  {
   "cell_type": "code",
   "execution_count": 2,
   "metadata": {},
   "outputs": [],
   "source": [
    "class fun_07_02_02(object):\n",
    "    def __init__(self, data):\n",
    "        self.cf = [1, 1, 1, 2, 2, 1, 2, 2]\n",
    "        self.cf_a = hexlist2(self.cf)\n",
    "        data = data[2:]\n",
    "        self.dj_n_o = data[0:2]\n",
    "        self.dj_n_j = hex2dec(self.dj_n_o) # 电机个数\n",
    "        self.o = data[0:self.dj_n_j * self.cf_a[-1] + 2]\n",
    "        self.ou = self.o[2:]\n",
    "        self.list_o = [\n",
    "            \"驱动电机序号\",\n",
    "            \"驱动电机状态\",\n",
    "            \"驱动电机控制器温度\",\n",
    "            \"驱动电机转速\",\n",
    "            \"驱动电机转矩\",\n",
    "            \"驱动电机温度\",\n",
    "            \"电机控制器输入电压\",\n",
    "            \"电机控制器直流母线电流\",\n",
    "        ]\n",
    "        self.oj = fun_07_02_02.fun_oj(self, self.ou)\n",
    "#         self.ol = fun_07_02_02.fun_ol(self, self.oj)\n",
    "#         self.pj = fun_07_02_02.fun_pj(self, self.oj)\n",
    "#         self.pl = fun_07_02_02.fun_pl(self, self.pj)\n",
    "        \n",
    "        self.next = data[len(self.o):]\n",
    "        self.nextMark = data[len(self.o):len(self.o)+2]\n",
    "        \n",
    "        \n",
    "    #  oj\n",
    "    def fun_oj(self, data):\n",
    "        dict_oj = {\n",
    "            \"驱动电机个数\":self.dj_n_o,\n",
    "            \"驱动电机总成信息列表\":[],\n",
    "        }\n",
    "        \n",
    "        for i in range(self.dj_n_j):\n",
    "            dict_unit = list2dict(data, self.list_o, self.cf_a)\n",
    "            dict_oj[\"驱动电机总成信息列表\"].append(dict_unit)\n",
    "        \n",
    "        print(dict_oj)\n",
    "        return dict_oj\n",
    "    \n",
    "    \n",
    "    # ol \n",
    "    def fun_ol(self):\n",
    "        df_ol = pd.DataFrame({\"驱动电机个数\":[a[\"驱动电机个数\"]]})\n",
    "        \n",
    "        \n",
    "        \n",
    "        \n",
    "        return pd.DataFrame.from_dict(self.oj,orient='index').T\n",
    "    \n",
    "    # pj \n",
    "    def fun_pj(self):\n",
    "        pass\n",
    "    \n",
    "    # pl\n",
    "    def fun_pl(self):\n",
    "        return pd.DataFrame.from_dict(self.pj,orient='index').T"
   ]
  },
  {
   "cell_type": "markdown",
   "metadata": {},
   "source": [
    "## 执行"
   ]
  },
  {
   "cell_type": "code",
   "execution_count": 3,
   "metadata": {},
   "outputs": [
    {
     "name": "stdout",
     "output_type": "stream",
     "text": [
      "{'驱动电机个数': '01', '驱动电机总成信息列表': [{'驱动电机序号': '01', '驱动电机状态': '04', '驱动电机控制器温度': '34', '驱动电机转速': '51AA', '驱动电机转矩': '4E84', '驱动电机温度': '37', '电机控制器输入电压': '1706', '电机控制器直流母线电流': '2727'}]}\n"
     ]
    }
   ],
   "source": [
    "data = \"020101043451AA4E8437170627270500072035A801EAC74A060179100E010D0FC801013C01043A0700000000000000000009010100483C3B3C3A3B3B3C3A3B3B3B3A3B3B3B3A3B3B3B3B3B3A3B3C3B3B3C3B3C3A3B3C3B3A3B3B3B3B3B3A3C3B3C3A3B3B3B3A3B3B3B3A3B3B3B3B3B3A3B3C3B3A3B3B3C3A3B3B3B3A3B3B0801011706273C00900001900FFA10040FFA0FFA0FFA0FFA10040FFA1004100410040FFA0FC8100410041004100410041004100410040FFA10041004100410041004100410040FFA10040FFA0FFA0FFA10040FFA0FFA0FFA0FFA100410040FFA0FFA100410040FFA0FFA10040FFA0FFA0FFA10040FFA0FFA0FFA0FFA0FFA0FFA0FF00FFA0FFA0FFA10040FFA0FFA100410040FF010040FFA0FFA0FFA0FFA0FFA10040FFA0FFA0FFA100410040FFA0FF00FFA0FFA0FFA0FFA0FFA0FFA0FFA10040FFA0FFA10041004100410040FFA0FFA0FFA0FFA0FFA0FFA0FFA0FFA0FFA100410040FFA0FFA1004100410040FFA0FFA0FFA0FFA0FFA0FFA0FFA0FFA100E0FF00FFA0FFA0FFA0FFA100410040FFA100410040FFA10040FFA10040FFA100410040FFA10041004100410040FFAAB\"\n",
    "\n",
    "fun_07_02_02 = fun_07_02_02(data)"
   ]
  },
  {
   "cell_type": "markdown",
   "metadata": {},
   "source": [
    "## 结果"
   ]
  },
  {
   "cell_type": "code",
   "execution_count": 4,
   "metadata": {},
   "outputs": [
    {
     "data": {
      "text/plain": [
       "'0101043451AA4E843717062727'"
      ]
     },
     "execution_count": 4,
     "metadata": {},
     "output_type": "execute_result"
    }
   ],
   "source": [
    "fun_07_02_02.o"
   ]
  },
  {
   "cell_type": "code",
   "execution_count": 5,
   "metadata": {},
   "outputs": [
    {
     "data": {
      "text/plain": [
       "{'驱动电机个数': '01',\n",
       " '驱动电机总成信息列表': [{'驱动电机序号': '01',\n",
       "   '驱动电机状态': '04',\n",
       "   '驱动电机控制器温度': '34',\n",
       "   '驱动电机转速': '51AA',\n",
       "   '驱动电机转矩': '4E84',\n",
       "   '驱动电机温度': '37',\n",
       "   '电机控制器输入电压': '1706',\n",
       "   '电机控制器直流母线电流': '2727'}]}"
      ]
     },
     "execution_count": 5,
     "metadata": {},
     "output_type": "execute_result"
    }
   ],
   "source": [
    "fun_07_02_02.oj"
   ]
  },
  {
   "cell_type": "code",
   "execution_count": 8,
   "metadata": {},
   "outputs": [
    {
     "data": {
      "text/html": [
       "<div>\n",
       "<style scoped>\n",
       "    .dataframe tbody tr th:only-of-type {\n",
       "        vertical-align: middle;\n",
       "    }\n",
       "\n",
       "    .dataframe tbody tr th {\n",
       "        vertical-align: top;\n",
       "    }\n",
       "\n",
       "    .dataframe thead th {\n",
       "        text-align: right;\n",
       "    }\n",
       "</style>\n",
       "<table border=\"1\" class=\"dataframe\">\n",
       "  <thead>\n",
       "    <tr style=\"text-align: right;\">\n",
       "      <th></th>\n",
       "      <th>车辆状态</th>\n",
       "      <th>充电状态</th>\n",
       "      <th>运行模式</th>\n",
       "      <th>车速</th>\n",
       "      <th>累计里程</th>\n",
       "      <th>总电压</th>\n",
       "      <th>总电流</th>\n",
       "      <th>SOC</th>\n",
       "      <th>DC-DC状态</th>\n",
       "      <th>挡位</th>\n",
       "      <th>绝缘电阻</th>\n",
       "      <th>加速踏板行程值</th>\n",
       "      <th>制动踏板状态</th>\n",
       "    </tr>\n",
       "  </thead>\n",
       "  <tbody>\n",
       "    <tr>\n",
       "      <th>0</th>\n",
       "      <td>01</td>\n",
       "      <td>03</td>\n",
       "      <td>01</td>\n",
       "      <td>00FA</td>\n",
       "      <td>00000B36</td>\n",
       "      <td>1706</td>\n",
       "      <td>273C</td>\n",
       "      <td>64</td>\n",
       "      <td>01</td>\n",
       "      <td>1E</td>\n",
       "      <td>82DA</td>\n",
       "      <td>00</td>\n",
       "      <td>65</td>\n",
       "    </tr>\n",
       "  </tbody>\n",
       "</table>\n",
       "</div>"
      ],
      "text/plain": [
       "  车辆状态 充电状态 运行模式    车速      累计里程   总电压   总电流 SOC DC-DC状态  挡位  绝缘电阻 加速踏板行程值  \\\n",
       "0   01   03   01  00FA  00000B36  1706  273C  64      01  1E  82DA      00   \n",
       "\n",
       "  制动踏板状态  \n",
       "0     65  "
      ]
     },
     "execution_count": 8,
     "metadata": {},
     "output_type": "execute_result"
    }
   ],
   "source": [
    "fun_07_02_02.ol"
   ]
  },
  {
   "cell_type": "code",
   "execution_count": 9,
   "metadata": {},
   "outputs": [
    {
     "data": {
      "text/plain": [
       "{'车辆状态': '启动',\n",
       " '充电状态': '未充电',\n",
       " '运行模式': '纯电',\n",
       " '车速': 25.0,\n",
       " '累计里程': 287.0,\n",
       " '总电压': 589.4,\n",
       " '总电流': 4.4,\n",
       " 'SOC': 100,\n",
       " 'DC-DC状态': '工作',\n",
       " '挡位': ['00011110', '自动D挡', '有制动力', '无驱动力'],\n",
       " '绝缘电阻': 33498,\n",
       " '加速踏板行程值': 0,\n",
       " '制动踏板状态': '制动有效'}"
      ]
     },
     "execution_count": 9,
     "metadata": {},
     "output_type": "execute_result"
    }
   ],
   "source": [
    "fun_07_02_02.pj"
   ]
  },
  {
   "cell_type": "code",
   "execution_count": 10,
   "metadata": {},
   "outputs": [
    {
     "data": {
      "text/html": [
       "<div>\n",
       "<style scoped>\n",
       "    .dataframe tbody tr th:only-of-type {\n",
       "        vertical-align: middle;\n",
       "    }\n",
       "\n",
       "    .dataframe tbody tr th {\n",
       "        vertical-align: top;\n",
       "    }\n",
       "\n",
       "    .dataframe thead th {\n",
       "        text-align: right;\n",
       "    }\n",
       "</style>\n",
       "<table border=\"1\" class=\"dataframe\">\n",
       "  <thead>\n",
       "    <tr style=\"text-align: right;\">\n",
       "      <th></th>\n",
       "      <th>车辆状态</th>\n",
       "      <th>充电状态</th>\n",
       "      <th>运行模式</th>\n",
       "      <th>车速</th>\n",
       "      <th>累计里程</th>\n",
       "      <th>总电压</th>\n",
       "      <th>总电流</th>\n",
       "      <th>SOC</th>\n",
       "      <th>DC-DC状态</th>\n",
       "      <th>挡位</th>\n",
       "      <th>绝缘电阻</th>\n",
       "      <th>加速踏板行程值</th>\n",
       "      <th>制动踏板状态</th>\n",
       "    </tr>\n",
       "  </thead>\n",
       "  <tbody>\n",
       "    <tr>\n",
       "      <th>0</th>\n",
       "      <td>启动</td>\n",
       "      <td>未充电</td>\n",
       "      <td>纯电</td>\n",
       "      <td>25</td>\n",
       "      <td>287</td>\n",
       "      <td>589.4</td>\n",
       "      <td>4.4</td>\n",
       "      <td>100</td>\n",
       "      <td>工作</td>\n",
       "      <td>[00011110, 自动D挡, 有制动力, 无驱动力]</td>\n",
       "      <td>33498</td>\n",
       "      <td>0</td>\n",
       "      <td>制动有效</td>\n",
       "    </tr>\n",
       "  </tbody>\n",
       "</table>\n",
       "</div>"
      ],
      "text/plain": [
       "  车辆状态 充电状态 运行模式  车速 累计里程    总电压  总电流  SOC DC-DC状态  \\\n",
       "0   启动  未充电   纯电  25  287  589.4  4.4  100      工作   \n",
       "\n",
       "                             挡位   绝缘电阻 加速踏板行程值 制动踏板状态  \n",
       "0  [00011110, 自动D挡, 有制动力, 无驱动力]  33498       0   制动有效  "
      ]
     },
     "execution_count": 10,
     "metadata": {},
     "output_type": "execute_result"
    }
   ],
   "source": [
    "fun_07_02_01.pl"
   ]
  },
  {
   "cell_type": "code",
   "execution_count": 6,
   "metadata": {},
   "outputs": [
    {
     "data": {
      "text/plain": [
       "'0500072035A801EAC74A060179100E010D0FC801013C01043A0700000000000000000009010100483C3B3C3A3B3B3C3A3B3B3B3A3B3B3B3A3B3B3B3B3B3A3B3C3B3B3C3B3C3A3B3C3B3A3B3B3B3B3B3A3C3B3C3A3B3B3B3A3B3B3B3A3B3B3B3B3B3A3B3C3B3A3B3B3C3A3B3B3B3A3B3B0801011706273C00900001900FFA10040FFA0FFA0FFA0FFA10040FFA1004100410040FFA0FC8100410041004100410041004100410040FFA10041004100410041004100410040FFA10040FFA0FFA0FFA10040FFA0FFA0FFA0FFA100410040FFA0FFA100410040FFA0FFA10040FFA0FFA0FFA10040FFA0FFA0FFA0FFA0FFA0FFA0FF00FFA0FFA0FFA10040FFA0FFA100410040FF010040FFA0FFA0FFA0FFA0FFA10040FFA0FFA0FFA100410040FFA0FF00FFA0FFA0FFA0FFA0FFA0FFA0FFA10040FFA0FFA10041004100410040FFA0FFA0FFA0FFA0FFA0FFA0FFA0FFA0FFA100410040FFA0FFA1004100410040FFA0FFA0FFA0FFA0FFA0FFA0FFA0FFA100E0FF00FFA0FFA0FFA0FFA100410040FFA100410040FFA10040FFA10040FFA100410040FFA10041004100410040FFAAB'"
      ]
     },
     "execution_count": 6,
     "metadata": {},
     "output_type": "execute_result"
    }
   ],
   "source": [
    "fun_07_02_02.next"
   ]
  },
  {
   "cell_type": "code",
   "execution_count": 7,
   "metadata": {},
   "outputs": [
    {
     "data": {
      "text/plain": [
       "'05'"
      ]
     },
     "execution_count": 7,
     "metadata": {},
     "output_type": "execute_result"
    }
   ],
   "source": [
    "fun_07_02_02.nextMark"
   ]
  },
  {
   "cell_type": "markdown",
   "metadata": {},
   "source": [
    "## 测试"
   ]
  },
  {
   "cell_type": "code",
   "execution_count": 25,
   "metadata": {},
   "outputs": [],
   "source": [
    "a = {'驱动电机个数': '01', '驱动电机总成信息列表': [{'驱动电机序号': '01', '驱动电机状态': '04', '驱动电机控制器温度': '34', '驱动电机转速': '51AA', '驱动电机转矩': '4E84', '驱动电机温度': '37', '电机控制器输入电压': '1706', '电机控制器直流母线电流': '2727'}]}"
   ]
  },
  {
   "cell_type": "code",
   "execution_count": 26,
   "metadata": {},
   "outputs": [
    {
     "data": {
      "text/plain": [
       "{'驱动电机个数': '01',\n",
       " '驱动电机总成信息列表': [{'驱动电机序号': '01',\n",
       "   '驱动电机状态': '04',\n",
       "   '驱动电机控制器温度': '34',\n",
       "   '驱动电机转速': '51AA',\n",
       "   '驱动电机转矩': '4E84',\n",
       "   '驱动电机温度': '37',\n",
       "   '电机控制器输入电压': '1706',\n",
       "   '电机控制器直流母线电流': '2727'}]}"
      ]
     },
     "execution_count": 26,
     "metadata": {},
     "output_type": "execute_result"
    }
   ],
   "source": [
    "a"
   ]
  },
  {
   "cell_type": "code",
   "execution_count": 17,
   "metadata": {},
   "outputs": [
    {
     "data": {
      "text/plain": [
       "{'驱动电机序号': '01',\n",
       " '驱动电机状态': '04',\n",
       " '驱动电机控制器温度': '34',\n",
       " '驱动电机转速': '51AA',\n",
       " '驱动电机转矩': '4E84',\n",
       " '驱动电机温度': '37',\n",
       " '电机控制器输入电压': '1706',\n",
       " '电机控制器直流母线电流': '2727'}"
      ]
     },
     "execution_count": 17,
     "metadata": {},
     "output_type": "execute_result"
    }
   ],
   "source": [
    "a[\"驱动电机总成信息列表\"][0]"
   ]
  },
  {
   "cell_type": "code",
   "execution_count": 18,
   "metadata": {},
   "outputs": [
    {
     "data": {
      "text/html": [
       "<div>\n",
       "<style scoped>\n",
       "    .dataframe tbody tr th:only-of-type {\n",
       "        vertical-align: middle;\n",
       "    }\n",
       "\n",
       "    .dataframe tbody tr th {\n",
       "        vertical-align: top;\n",
       "    }\n",
       "\n",
       "    .dataframe thead th {\n",
       "        text-align: right;\n",
       "    }\n",
       "</style>\n",
       "<table border=\"1\" class=\"dataframe\">\n",
       "  <thead>\n",
       "    <tr style=\"text-align: right;\">\n",
       "      <th></th>\n",
       "      <th>驱动电机序号</th>\n",
       "      <th>驱动电机状态</th>\n",
       "      <th>驱动电机控制器温度</th>\n",
       "      <th>驱动电机转速</th>\n",
       "      <th>驱动电机转矩</th>\n",
       "      <th>驱动电机温度</th>\n",
       "      <th>电机控制器输入电压</th>\n",
       "      <th>电机控制器直流母线电流</th>\n",
       "    </tr>\n",
       "  </thead>\n",
       "  <tbody>\n",
       "    <tr>\n",
       "      <th>0</th>\n",
       "      <td>01</td>\n",
       "      <td>04</td>\n",
       "      <td>34</td>\n",
       "      <td>51AA</td>\n",
       "      <td>4E84</td>\n",
       "      <td>37</td>\n",
       "      <td>1706</td>\n",
       "      <td>2727</td>\n",
       "    </tr>\n",
       "  </tbody>\n",
       "</table>\n",
       "</div>"
      ],
      "text/plain": [
       "  驱动电机序号 驱动电机状态 驱动电机控制器温度 驱动电机转速 驱动电机转矩 驱动电机温度 电机控制器输入电压 电机控制器直流母线电流\n",
       "0     01     04        34   51AA   4E84     37      1706        2727"
      ]
     },
     "execution_count": 18,
     "metadata": {},
     "output_type": "execute_result"
    }
   ],
   "source": [
    "pd.DataFrame.from_dict(a[\"驱动电机总成信息列表\"][0],orient='index').T"
   ]
  },
  {
   "cell_type": "code",
   "execution_count": 27,
   "metadata": {},
   "outputs": [
    {
     "data": {
      "text/plain": [
       "'01'"
      ]
     },
     "execution_count": 27,
     "metadata": {},
     "output_type": "execute_result"
    }
   ],
   "source": [
    "a[\"驱动电机个数\"]"
   ]
  },
  {
   "cell_type": "code",
   "execution_count": 33,
   "metadata": {},
   "outputs": [
    {
     "data": {
      "text/plain": [
       "{'驱动电机个数': ['01']}"
      ]
     },
     "execution_count": 33,
     "metadata": {},
     "output_type": "execute_result"
    }
   ],
   "source": [
    "b = {\"驱动电机个数\":[a[\"驱动电机个数\"]]}\n",
    "b"
   ]
  },
  {
   "cell_type": "code",
   "execution_count": 34,
   "metadata": {},
   "outputs": [
    {
     "data": {
      "text/html": [
       "<div>\n",
       "<style scoped>\n",
       "    .dataframe tbody tr th:only-of-type {\n",
       "        vertical-align: middle;\n",
       "    }\n",
       "\n",
       "    .dataframe tbody tr th {\n",
       "        vertical-align: top;\n",
       "    }\n",
       "\n",
       "    .dataframe thead th {\n",
       "        text-align: right;\n",
       "    }\n",
       "</style>\n",
       "<table border=\"1\" class=\"dataframe\">\n",
       "  <thead>\n",
       "    <tr style=\"text-align: right;\">\n",
       "      <th></th>\n",
       "      <th>驱动电机个数</th>\n",
       "    </tr>\n",
       "  </thead>\n",
       "  <tbody>\n",
       "    <tr>\n",
       "      <th>0</th>\n",
       "      <td>01</td>\n",
       "    </tr>\n",
       "  </tbody>\n",
       "</table>\n",
       "</div>"
      ],
      "text/plain": [
       "  驱动电机个数\n",
       "0     01"
      ]
     },
     "execution_count": 34,
     "metadata": {},
     "output_type": "execute_result"
    }
   ],
   "source": [
    "pd.DataFrame(b)"
   ]
  },
  {
   "cell_type": "code",
   "execution_count": null,
   "metadata": {},
   "outputs": [],
   "source": []
  },
  {
   "cell_type": "code",
   "execution_count": null,
   "metadata": {},
   "outputs": [],
   "source": []
  },
  {
   "cell_type": "code",
   "execution_count": 25,
   "metadata": {},
   "outputs": [
    {
     "ename": "TypeError",
     "evalue": "can only concatenate list (not \"str\") to list",
     "output_type": "error",
     "traceback": [
      "\u001b[1;31m---------------------------------------------------------------------------\u001b[0m",
      "\u001b[1;31mTypeError\u001b[0m                                 Traceback (most recent call last)",
      "\u001b[1;32m<ipython-input-25-0b3323839d2d>\u001b[0m in \u001b[0;36m<module>\u001b[1;34m\u001b[0m\n\u001b[0;32m      9\u001b[0m             \u001b[1;34m\"电机控制器直流母线电流\"\u001b[0m\u001b[1;33m,\u001b[0m\u001b[1;33m\u001b[0m\u001b[1;33m\u001b[0m\u001b[0m\n\u001b[0;32m     10\u001b[0m         ]\n\u001b[1;32m---> 11\u001b[1;33m \u001b[0mlist_o\u001b[0m \u001b[1;33m+\u001b[0m \u001b[1;34m\"_1\"\u001b[0m\u001b[1;33m\u001b[0m\u001b[1;33m\u001b[0m\u001b[0m\n\u001b[0m",
      "\u001b[1;31mTypeError\u001b[0m: can only concatenate list (not \"str\") to list"
     ]
    }
   ],
   "source": [
    "list_o = [\n",
    "            \"驱动电机序号\",\n",
    "            \"驱动电机状态\",\n",
    "            \"驱动电机控制器温度\",\n",
    "            \"驱动电机转速\",\n",
    "            \"驱动电机转矩\",\n",
    "            \"驱动电机温度\",\n",
    "            \"电机控制器输入电压\",\n",
    "            \"电机控制器直流母线电流\",\n",
    "        ]\n",
    "list_o + \"_1\""
   ]
  },
  {
   "cell_type": "code",
   "execution_count": null,
   "metadata": {},
   "outputs": [],
   "source": [
    "pd.DataFrame.from_dict(self.oj,orient='index').T"
   ]
  }
 ],
 "metadata": {
  "kernelspec": {
   "display_name": "Python 3",
   "language": "python",
   "name": "python3"
  },
  "language_info": {
   "codemirror_mode": {
    "name": "ipython",
    "version": 3
   },
   "file_extension": ".py",
   "mimetype": "text/x-python",
   "name": "python",
   "nbconvert_exporter": "python",
   "pygments_lexer": "ipython3",
   "version": "3.7.3"
  }
 },
 "nbformat": 4,
 "nbformat_minor": 2
}
