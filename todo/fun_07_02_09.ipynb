{
 "cells": [
  {
   "cell_type": "markdown",
   "metadata": {},
   "source": [
    "## 说明\n",
    "\n",
    "```\n",
    "\"可充电储能装置温度数据\":{\n",
    "    \"可充电储能子系统个数\":\"1\",\n",
    "    \"可充电储能子系统温度信息列表\":[\n",
    "        {\n",
    "            \"可充电储能子系统号\":\"1\",\n",
    "            \"可充电储能温度探针个数\":\"1\",\n",
    "            \"可充电储能子系统各温度探针检测到的温度值\":\"[n*2]\"\n",
    "        },\n",
    "        {\n",
    "        \n",
    "        }\n",
    "    ]\n",
    "}\n",
    "```\n",
    "\n",
    "\n",
    "```\n",
    "\"可充电储能装置温度数据\":{\n",
    "    \"可充电储能子系统个数\":\"1\",\n",
    "    \"可充电储能子系统号\":\"1\"[[],[]],\n",
    "    \"可充电储能温度探针个数\":\"1\"[[],[]],\n",
    "    \"可充电储能子系统各温度探针检测到的温度值\":\"[[n1*2],[n2*2]]\"\n",
    "\n",
    "}\n",
    "```"
   ]
  },
  {
   "cell_type": "markdown",
   "metadata": {},
   "source": [
    "## 导入工具包和公共函数"
   ]
  },
  {
   "cell_type": "code",
   "execution_count": 1,
   "metadata": {},
   "outputs": [
    {
     "name": "stdout",
     "output_type": "stream",
     "text": [
      "importing Jupyter notebook from public_fun.ipynb\n"
     ]
    }
   ],
   "source": [
    "import Ipynb_importer\n",
    "from public_fun import *"
   ]
  },
  {
   "cell_type": "markdown",
   "metadata": {},
   "source": [
    "## 类主体"
   ]
  },
  {
   "cell_type": "code",
   "execution_count": 2,
   "metadata": {},
   "outputs": [],
   "source": [
    "class fun_07_02_09(object):\n",
    "    def __init__(self, data):\n",
    "        data = data[2:]\n",
    "        self.o = data\n",
    "        self.dj_n_o = data[0:2]\n",
    "        self.dj_n_j = hex2dec(self.dj_n_o) # 电池个数\n",
    "        \n",
    "        self.cf_u = [1, 1]\n",
    "        self.cf = fun_07_02_09.fun_cf(self)\n",
    "        self.cf_a = hexlist2(self.cf)\n",
    "        \n",
    "        self.o = data[0:self.cf_a[-1]]\n",
    "        \n",
    "        self.list_o = [\n",
    "            \"可充电储能子系统个数\",\n",
    "            \"可充电储能子系统号\",\n",
    "            \"可充电储能温度探针个数\",\n",
    "            \"可充电储能子系统各温度探针检测到的温度值\",\n",
    "        ]\n",
    "        \n",
    "        self.oj = fun_07_02_09.fun_oj(self)\n",
    "        self.oj2 = {'可充电储能装置温度数据':self.oj}  \n",
    "        self.ol = pd.DataFrame([self.oj]).reindex(columns=self.list_o)\n",
    "        self.pj = {\n",
    "            \"可充电储能子系统个数\":self.dj_n_j,\n",
    "            \"可充电储能子系统号\":[hex2dec(i) for i in self.oj['可充电储能子系统号']],\n",
    "            \"可充电储能温度探针个数\":[hex2dec(i) for i in self.oj['可充电储能温度探针个数']],\n",
    "            \"可充电储能子系统各温度探针检测到的温度值\":[hex2list(i, num=1, kn=-40) for i in self.oj['可充电储能子系统各温度探针检测到的温度值']],\n",
    "        }\n",
    "        self.pj2 = {'可充电储能装置温度数据':self.pj}\n",
    "        self.pl = pd.DataFrame([self.pj]).reindex(columns=self.list_o)\n",
    "        \n",
    "        self.next = data[len(self.o):]\n",
    "        self.nextMark = data[len(self.o):len(self.o)+2]\n",
    "        \n",
    "        \n",
    "        \n",
    "    \n",
    "    def fun_cf(self):\n",
    "        cf_u=[1,2, None]\n",
    "        self.c = [] \n",
    "        data = self.o\n",
    "        for i in range(self.dj_n_j):\n",
    "            n_str = data[4:8]\n",
    "            n = hex2dec(n_str)\n",
    "            cf_u[2] = n\n",
    "            self.c = self.c + cf_u\n",
    "            \n",
    "            cf_a = hexlist2(self.c)\n",
    "            data = data[cf_a[-1]:]\n",
    "            \n",
    "        self.c = [1] + self.c\n",
    "        \n",
    "        return self.c\n",
    "    \n",
    "    \n",
    "    def fun_oj(self):\n",
    "        data = self.o[2:]\n",
    "        cf_a = hexlist2(self.cf[1:])\n",
    "        dict_oj = {\n",
    "            \"可充电储能子系统个数\":self.dj_n_o,\n",
    "        }\n",
    "        \n",
    "        list_o = [\n",
    "            \"可充电储能子系统号\",\n",
    "            \"可充电储能温度探针个数\",\n",
    "            \"可充电储能子系统各温度探针检测到的温度值\",\n",
    "        ]\n",
    "        \n",
    "        dict_oj_u = {\n",
    "            \"可充电储能子系统号\":[],\n",
    "            \"可充电储能温度探针个数\":[],\n",
    "            \"可充电储能子系统各温度探针检测到的温度值\":[],\n",
    "        }\n",
    "        \n",
    "        for i in range(self.dj_n_j):\n",
    "            for j in range(len(dict_oj_u)):\n",
    "                data_unit = data[cf_a[i * len(dict_oj_u) + j]:cf_a[i * len(dict_oj_u) + j +1]]\n",
    "                dict_oj_u[list_o[j]].append(data_unit)\n",
    "        \n",
    "        dict_all = dict(dict_oj, **dict_oj_u)\n",
    "        return dict_all\n",
    "    "
   ]
  },
  {
   "cell_type": "markdown",
   "metadata": {},
   "source": [
    "## 执行"
   ]
  },
  {
   "cell_type": "code",
   "execution_count": 3,
   "metadata": {
    "scrolled": true
   },
   "outputs": [],
   "source": [
    "data = \"09010100483C3B3C3A3B3B3C3A3B3B3B3A3B3B3B3A3B3B3B3B3B3A3B3C3B3B3C3B3C3A3B3C3B3A3B3B3B3B3B3A3C3B3C3A3B3B3B3A3B3B3B3A3B3B3B3B3B3A3B3C3B3A3B3B3C3A3B3B3B3A3B3B0801011706273C00900001900FFA10040FFA0FFA0FFA0FFA10040FFA1004100410040FFA0FC8100410041004100410041004100410040FFA10041004100410041004100410040FFA10040FFA0FFA0FFA10040FFA0FFA0FFA0FFA100410040FFA0FFA100410040FFA0FFA10040FFA0FFA0FFA10040FFA0FFA0FFA0FFA0FFA0FFA0FF00FFA0FFA0FFA10040FFA0FFA100410040FF010040FFA0FFA0FFA0FFA0FFA10040FFA0FFA0FFA100410040FFA0FF00FFA0FFA0FFA0FFA0FFA0FFA0FFA10040FFA0FFA10041004100410040FFA0FFA0FFA0FFA0FFA0FFA0FFA0FFA0FFA100410040FFA0FFA1004100410040FFA0FFA0FFA0FFA0FFA0FFA0FFA0FFA100E0FF00FFA0FFA0FFA0FFA100410040FFA100410040FFA10040FFA10040FFA100410040FFA10041004100410040FFAAB\"\n",
    "\n",
    "fun_07_02_09 = fun_07_02_09(data)"
   ]
  },
  {
   "cell_type": "markdown",
   "metadata": {},
   "source": [
    "## 结果"
   ]
  },
  {
   "cell_type": "code",
   "execution_count": 4,
   "metadata": {},
   "outputs": [
    {
     "data": {
      "text/plain": [
       "'010100483C3B3C3A3B3B3C3A3B3B3B3A3B3B3B3A3B3B3B3B3B3A3B3C3B3B3C3B3C3A3B3C3B3A3B3B3B3B3B3A3C3B3C3A3B3B3B3A3B3B3B3A3B3B3B3B3B3A3B3C3B3A3B3B3C3A3B3B3B3A3B3B'"
      ]
     },
     "execution_count": 4,
     "metadata": {},
     "output_type": "execute_result"
    }
   ],
   "source": [
    "fun_07_02_09.o"
   ]
  },
  {
   "cell_type": "code",
   "execution_count": 5,
   "metadata": {},
   "outputs": [
    {
     "data": {
      "text/plain": [
       "{'可充电储能子系统个数': '01',\n",
       " '可充电储能子系统号': ['01'],\n",
       " '可充电储能温度探针个数': ['0048'],\n",
       " '可充电储能子系统各温度探针检测到的温度值': ['3C3B3C3A3B3B3C3A3B3B3B3A3B3B3B3A3B3B3B3B3B3A3B3C3B3B3C3B3C3A3B3C3B3A3B3B3B3B3B3A3C3B3C3A3B3B3B3A3B3B3B3A3B3B3B3B3B3A3B3C3B3A3B3B3C3A3B3B3B3A3B3B']}"
      ]
     },
     "execution_count": 5,
     "metadata": {},
     "output_type": "execute_result"
    }
   ],
   "source": [
    "fun_07_02_09.oj"
   ]
  },
  {
   "cell_type": "code",
   "execution_count": 6,
   "metadata": {},
   "outputs": [
    {
     "data": {
      "text/html": [
       "<div>\n",
       "<style scoped>\n",
       "    .dataframe tbody tr th:only-of-type {\n",
       "        vertical-align: middle;\n",
       "    }\n",
       "\n",
       "    .dataframe tbody tr th {\n",
       "        vertical-align: top;\n",
       "    }\n",
       "\n",
       "    .dataframe thead th {\n",
       "        text-align: right;\n",
       "    }\n",
       "</style>\n",
       "<table border=\"1\" class=\"dataframe\">\n",
       "  <thead>\n",
       "    <tr style=\"text-align: right;\">\n",
       "      <th></th>\n",
       "      <th>可充电储能子系统个数</th>\n",
       "      <th>可充电储能子系统号</th>\n",
       "      <th>可充电储能温度探针个数</th>\n",
       "      <th>可充电储能子系统各温度探针检测到的温度值</th>\n",
       "    </tr>\n",
       "  </thead>\n",
       "  <tbody>\n",
       "    <tr>\n",
       "      <th>0</th>\n",
       "      <td>01</td>\n",
       "      <td>[01]</td>\n",
       "      <td>[0048]</td>\n",
       "      <td>[3C3B3C3A3B3B3C3A3B3B3B3A3B3B3B3A3B3B3B3B3B3A3...</td>\n",
       "    </tr>\n",
       "  </tbody>\n",
       "</table>\n",
       "</div>"
      ],
      "text/plain": [
       "  可充电储能子系统个数 可充电储能子系统号 可充电储能温度探针个数  \\\n",
       "0         01      [01]      [0048]   \n",
       "\n",
       "                                可充电储能子系统各温度探针检测到的温度值  \n",
       "0  [3C3B3C3A3B3B3C3A3B3B3B3A3B3B3B3A3B3B3B3B3B3A3...  "
      ]
     },
     "execution_count": 6,
     "metadata": {},
     "output_type": "execute_result"
    }
   ],
   "source": [
    "fun_07_02_09.ol"
   ]
  },
  {
   "cell_type": "code",
   "execution_count": 7,
   "metadata": {
    "scrolled": true
   },
   "outputs": [
    {
     "data": {
      "text/plain": [
       "{'可充电储能子系统个数': 1,\n",
       " '可充电储能子系统号': [1],\n",
       " '可充电储能温度探针个数': [72],\n",
       " '可充电储能子系统各温度探针检测到的温度值': [[20,\n",
       "   19,\n",
       "   20,\n",
       "   18,\n",
       "   19,\n",
       "   19,\n",
       "   20,\n",
       "   18,\n",
       "   19,\n",
       "   19,\n",
       "   19,\n",
       "   18,\n",
       "   19,\n",
       "   19,\n",
       "   19,\n",
       "   18,\n",
       "   19,\n",
       "   19,\n",
       "   19,\n",
       "   19,\n",
       "   19,\n",
       "   18,\n",
       "   19,\n",
       "   20,\n",
       "   19,\n",
       "   19,\n",
       "   20,\n",
       "   19,\n",
       "   20,\n",
       "   18,\n",
       "   19,\n",
       "   20,\n",
       "   19,\n",
       "   18,\n",
       "   19,\n",
       "   19,\n",
       "   19,\n",
       "   19,\n",
       "   19,\n",
       "   18,\n",
       "   20,\n",
       "   19,\n",
       "   20,\n",
       "   18,\n",
       "   19,\n",
       "   19,\n",
       "   19,\n",
       "   18,\n",
       "   19,\n",
       "   19,\n",
       "   19,\n",
       "   18,\n",
       "   19,\n",
       "   19,\n",
       "   19,\n",
       "   19,\n",
       "   19,\n",
       "   18,\n",
       "   19,\n",
       "   20,\n",
       "   19,\n",
       "   18,\n",
       "   19,\n",
       "   19,\n",
       "   20,\n",
       "   18,\n",
       "   19,\n",
       "   19,\n",
       "   19,\n",
       "   18,\n",
       "   19,\n",
       "   19]]}"
      ]
     },
     "execution_count": 7,
     "metadata": {},
     "output_type": "execute_result"
    }
   ],
   "source": [
    "fun_07_02_09.pj"
   ]
  },
  {
   "cell_type": "code",
   "execution_count": 8,
   "metadata": {},
   "outputs": [
    {
     "data": {
      "text/html": [
       "<div>\n",
       "<style scoped>\n",
       "    .dataframe tbody tr th:only-of-type {\n",
       "        vertical-align: middle;\n",
       "    }\n",
       "\n",
       "    .dataframe tbody tr th {\n",
       "        vertical-align: top;\n",
       "    }\n",
       "\n",
       "    .dataframe thead th {\n",
       "        text-align: right;\n",
       "    }\n",
       "</style>\n",
       "<table border=\"1\" class=\"dataframe\">\n",
       "  <thead>\n",
       "    <tr style=\"text-align: right;\">\n",
       "      <th></th>\n",
       "      <th>可充电储能子系统个数</th>\n",
       "      <th>可充电储能子系统号</th>\n",
       "      <th>可充电储能温度探针个数</th>\n",
       "      <th>可充电储能子系统各温度探针检测到的温度值</th>\n",
       "    </tr>\n",
       "  </thead>\n",
       "  <tbody>\n",
       "    <tr>\n",
       "      <th>0</th>\n",
       "      <td>1</td>\n",
       "      <td>[1]</td>\n",
       "      <td>[72]</td>\n",
       "      <td>[[20, 19, 20, 18, 19, 19, 20, 18, 19, 19, 19, ...</td>\n",
       "    </tr>\n",
       "  </tbody>\n",
       "</table>\n",
       "</div>"
      ],
      "text/plain": [
       "   可充电储能子系统个数 可充电储能子系统号 可充电储能温度探针个数  \\\n",
       "0           1       [1]        [72]   \n",
       "\n",
       "                                可充电储能子系统各温度探针检测到的温度值  \n",
       "0  [[20, 19, 20, 18, 19, 19, 20, 18, 19, 19, 19, ...  "
      ]
     },
     "execution_count": 8,
     "metadata": {},
     "output_type": "execute_result"
    }
   ],
   "source": [
    "fun_07_02_09.pl"
   ]
  },
  {
   "cell_type": "code",
   "execution_count": 9,
   "metadata": {},
   "outputs": [
    {
     "data": {
      "text/plain": [
       "'0801011706273C00900001900FFA10040FFA0FFA0FFA0FFA10040FFA1004100410040FFA0FC8100410041004100410041004100410040FFA10041004100410041004100410040FFA10040FFA0FFA0FFA10040FFA0FFA0FFA0FFA100410040FFA0FFA100410040FFA0FFA10040FFA0FFA0FFA10040FFA0FFA0FFA0FFA0FFA0FFA0FF00FFA0FFA0FFA10040FFA0FFA100410040FF010040FFA0FFA0FFA0FFA0FFA10040FFA0FFA0FFA100410040FFA0FF00FFA0FFA0FFA0FFA0FFA0FFA0FFA10040FFA0FFA10041004100410040FFA0FFA0FFA0FFA0FFA0FFA0FFA0FFA0FFA100410040FFA0FFA1004100410040FFA0FFA0FFA0FFA0FFA0FFA0FFA0FFA100E0FF00FFA0FFA0FFA0FFA100410040FFA100410040FFA10040FFA10040FFA100410040FFA10041004100410040FFAAB'"
      ]
     },
     "execution_count": 9,
     "metadata": {},
     "output_type": "execute_result"
    }
   ],
   "source": [
    "fun_07_02_09.next"
   ]
  },
  {
   "cell_type": "code",
   "execution_count": 10,
   "metadata": {},
   "outputs": [
    {
     "data": {
      "text/plain": [
       "'08'"
      ]
     },
     "execution_count": 10,
     "metadata": {},
     "output_type": "execute_result"
    }
   ],
   "source": [
    "fun_07_02_09.nextMark"
   ]
  },
  {
   "cell_type": "code",
   "execution_count": null,
   "metadata": {},
   "outputs": [],
   "source": [
    "010100483C3B3C3A3B3B3C3A3B3B3B3A3B3B3B3A3B3B3B3B3B3A3B3C3B3B3C3B3C3A3B3C3B3A3B3B3B3B3B3A3C3B3C3A3B3B3B3A3B3B3B3A3B3B3B3B3B3A3B3C3B3A3B3B3C3A3B3B3B3A3B3B"
   ]
  },
  {
   "cell_type": "code",
   "execution_count": 11,
   "metadata": {},
   "outputs": [
    {
     "data": {
      "text/plain": [
       "[1, 1, 2, 72]"
      ]
     },
     "execution_count": 11,
     "metadata": {},
     "output_type": "execute_result"
    }
   ],
   "source": [
    "fun_07_02_09.cf"
   ]
  },
  {
   "cell_type": "code",
   "execution_count": 12,
   "metadata": {},
   "outputs": [
    {
     "data": {
      "text/plain": [
       "[0, 2, 4, 8, 152]"
      ]
     },
     "execution_count": 12,
     "metadata": {},
     "output_type": "execute_result"
    }
   ],
   "source": [
    "fun_07_02_09.cf_a"
   ]
  },
  {
   "cell_type": "code",
   "execution_count": null,
   "metadata": {},
   "outputs": [],
   "source": []
  }
 ],
 "metadata": {
  "kernelspec": {
   "display_name": "Python 3",
   "language": "python",
   "name": "python3"
  },
  "language_info": {
   "codemirror_mode": {
    "name": "ipython",
    "version": 3
   },
   "file_extension": ".py",
   "mimetype": "text/x-python",
   "name": "python",
   "nbconvert_exporter": "python",
   "pygments_lexer": "ipython3",
   "version": "3.7.3"
  }
 },
 "nbformat": 4,
 "nbformat_minor": 2
}
