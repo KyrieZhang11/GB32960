{
 "cells": [
  {
   "cell_type": "markdown",
   "metadata": {},
   "source": [
    "## 说明\n",
    "\n",
    "主体：\n",
    " - 起始符\n",
    " - 命令单元\n",
    " - 识别码\n",
    " - 数据加密方式\n",
    " - 数据单元长度"
   ]
  },
  {
   "cell_type": "markdown",
   "metadata": {},
   "source": [
    "## 导入工具包和公共函数"
   ]
  },
  {
   "cell_type": "code",
   "execution_count": 2,
   "metadata": {},
   "outputs": [
    {
     "name": "stdout",
     "output_type": "stream",
     "text": [
      "importing Jupyter notebook from public_fun.ipynb\n"
     ]
    }
   ],
   "source": [
    "import Ipynb_importer\n",
    "from public_fun import *"
   ]
  },
  {
   "cell_type": "code",
   "execution_count": 3,
   "metadata": {},
   "outputs": [],
   "source": [
    "import globalVar as glv"
   ]
  },
  {
   "cell_type": "markdown",
   "metadata": {},
   "source": [
    "## 类主体"
   ]
  },
  {
   "cell_type": "code",
   "execution_count": 8,
   "metadata": {},
   "outputs": [],
   "source": [
    "class fun_01to06(object):\n",
    "    def __init__(self, data):\n",
    "        self.cf = [2, 1, 1, 17, 1, 2]\n",
    "        self.cf_a = hexlist2(self.cf)\n",
    "        self.o = data[0:self.cf_a[-1]]\n",
    "        self.list_o = [\n",
    "            \"起始符\",\n",
    "            \"命令标识\",\n",
    "            \"应答标志\",\n",
    "            \"唯一识别码\",\n",
    "            \"数据单元加密方式\",\n",
    "            \"数据单元长度\"\n",
    "        ]\n",
    "        self.oj = list2dict(self.o, self.list_o, self.cf_a)\n",
    "        self.ol = pd.DataFrame([self.oj]).reindex(columns=self.list_o)\n",
    "        self.pj = {\n",
    "            \"起始符\":hex2str(self.oj[\"起始符\"]),\n",
    "            \"命令标识\":dict_list_replace('02', self.oj['命令标识']),\n",
    "            \"应答标志\":dict_list_replace('03', self.oj['应答标志']),\n",
    "            \"唯一识别码\":hex2str(self.oj[\"唯一识别码\"]),\n",
    "            \"数据单元加密方式\":dict_list_replace('05', self.oj['数据单元加密方式']),\n",
    "            \"数据单元长度\":hex2dec(self.oj[\"数据单元长度\"]),\n",
    "        }\n",
    "        self.pl = pd.DataFrame([self.pj]).reindex(columns=self.list_o)\n",
    "        \n",
    "        self.next = data[len(self.o):]\n",
    "        self.nextMark = data[len(self.o):len(self.o)+2]\n",
    "        self.mo = self.oj[\"命令标识\"]\n",
    "        \n",
    "#         glv.set_value('data_f', self.next)\n",
    "#         glv.set_value('data_mo', self.mo)"
   ]
  },
  {
   "cell_type": "markdown",
   "metadata": {},
   "source": [
    "## 执行"
   ]
  },
  {
   "cell_type": "code",
   "execution_count": 9,
   "metadata": {},
   "outputs": [],
   "source": [
    "# \n",
    "data = \"232301fe4c44504741424143374a4e32303036363301002a130c1e0d371700033839383630363137303330303831303036303531010c313137333831333033383430dc\"\n",
    "fun_01to06 = fun_01to06(data)"
   ]
  },
  {
   "cell_type": "markdown",
   "metadata": {},
   "source": [
    "## 结果"
   ]
  },
  {
   "cell_type": "code",
   "execution_count": 10,
   "metadata": {},
   "outputs": [
    {
     "data": {
      "text/plain": [
       "{'起始符': '2323',\n",
       " '命令标识': '01',\n",
       " '应答标志': 'fe',\n",
       " '唯一识别码': '4c44504741424143374a4e323030363633',\n",
       " '数据单元加密方式': '01',\n",
       " '数据单元长度': '002a'}"
      ]
     },
     "execution_count": 10,
     "metadata": {},
     "output_type": "execute_result"
    }
   ],
   "source": [
    "fun_01to06.oj"
   ]
  },
  {
   "cell_type": "code",
   "execution_count": 11,
   "metadata": {},
   "outputs": [
    {
     "data": {
      "text/html": [
       "<div>\n",
       "<style scoped>\n",
       "    .dataframe tbody tr th:only-of-type {\n",
       "        vertical-align: middle;\n",
       "    }\n",
       "\n",
       "    .dataframe tbody tr th {\n",
       "        vertical-align: top;\n",
       "    }\n",
       "\n",
       "    .dataframe thead th {\n",
       "        text-align: right;\n",
       "    }\n",
       "</style>\n",
       "<table border=\"1\" class=\"dataframe\">\n",
       "  <thead>\n",
       "    <tr style=\"text-align: right;\">\n",
       "      <th></th>\n",
       "      <th>起始符</th>\n",
       "      <th>命令标识</th>\n",
       "      <th>应答标志</th>\n",
       "      <th>唯一识别码</th>\n",
       "      <th>数据单元加密方式</th>\n",
       "      <th>数据单元长度</th>\n",
       "    </tr>\n",
       "  </thead>\n",
       "  <tbody>\n",
       "    <tr>\n",
       "      <th>0</th>\n",
       "      <td>2323</td>\n",
       "      <td>01</td>\n",
       "      <td>fe</td>\n",
       "      <td>4c44504741424143374a4e323030363633</td>\n",
       "      <td>01</td>\n",
       "      <td>002a</td>\n",
       "    </tr>\n",
       "  </tbody>\n",
       "</table>\n",
       "</div>"
      ],
      "text/plain": [
       "    起始符 命令标识 应答标志                               唯一识别码 数据单元加密方式 数据单元长度\n",
       "0  2323   01   fe  4c44504741424143374a4e323030363633       01   002a"
      ]
     },
     "execution_count": 11,
     "metadata": {},
     "output_type": "execute_result"
    }
   ],
   "source": [
    "fun_01to06.ol"
   ]
  },
  {
   "cell_type": "code",
   "execution_count": 12,
   "metadata": {},
   "outputs": [
    {
     "data": {
      "text/plain": [
       "{'起始符': '##',\n",
       " '命令标识': '车辆登入',\n",
       " '应答标志': '命令',\n",
       " '唯一识别码': 'LDPGABAC7JN200663',\n",
       " '数据单元加密方式': '不加密',\n",
       " '数据单元长度': 42}"
      ]
     },
     "execution_count": 12,
     "metadata": {},
     "output_type": "execute_result"
    }
   ],
   "source": [
    "fun_01to06.pj"
   ]
  },
  {
   "cell_type": "code",
   "execution_count": 13,
   "metadata": {},
   "outputs": [
    {
     "data": {
      "text/html": [
       "<div>\n",
       "<style scoped>\n",
       "    .dataframe tbody tr th:only-of-type {\n",
       "        vertical-align: middle;\n",
       "    }\n",
       "\n",
       "    .dataframe tbody tr th {\n",
       "        vertical-align: top;\n",
       "    }\n",
       "\n",
       "    .dataframe thead th {\n",
       "        text-align: right;\n",
       "    }\n",
       "</style>\n",
       "<table border=\"1\" class=\"dataframe\">\n",
       "  <thead>\n",
       "    <tr style=\"text-align: right;\">\n",
       "      <th></th>\n",
       "      <th>起始符</th>\n",
       "      <th>命令标识</th>\n",
       "      <th>应答标志</th>\n",
       "      <th>唯一识别码</th>\n",
       "      <th>数据单元加密方式</th>\n",
       "      <th>数据单元长度</th>\n",
       "    </tr>\n",
       "  </thead>\n",
       "  <tbody>\n",
       "    <tr>\n",
       "      <th>0</th>\n",
       "      <td>##</td>\n",
       "      <td>车辆登入</td>\n",
       "      <td>命令</td>\n",
       "      <td>LDPGABAC7JN200663</td>\n",
       "      <td>不加密</td>\n",
       "      <td>42</td>\n",
       "    </tr>\n",
       "  </tbody>\n",
       "</table>\n",
       "</div>"
      ],
      "text/plain": [
       "  起始符  命令标识 应答标志              唯一识别码 数据单元加密方式  数据单元长度\n",
       "0  ##  车辆登入   命令  LDPGABAC7JN200663      不加密      42"
      ]
     },
     "execution_count": 13,
     "metadata": {},
     "output_type": "execute_result"
    }
   ],
   "source": [
    "fun_01to06.pl"
   ]
  },
  {
   "cell_type": "code",
   "execution_count": 14,
   "metadata": {},
   "outputs": [
    {
     "data": {
      "text/plain": [
       "'130c1e0d371700033839383630363137303330303831303036303531010c313137333831333033383430dc'"
      ]
     },
     "execution_count": 14,
     "metadata": {},
     "output_type": "execute_result"
    }
   ],
   "source": [
    "fun_01to06.next"
   ]
  },
  {
   "cell_type": "code",
   "execution_count": 11,
   "metadata": {},
   "outputs": [
    {
     "data": {
      "text/plain": [
       "'13'"
      ]
     },
     "execution_count": 11,
     "metadata": {},
     "output_type": "execute_result"
    }
   ],
   "source": [
    "fun_01to06.nextMark"
   ]
  },
  {
   "cell_type": "code",
   "execution_count": 12,
   "metadata": {},
   "outputs": [
    {
     "data": {
      "text/plain": [
       "'03'"
      ]
     },
     "execution_count": 12,
     "metadata": {},
     "output_type": "execute_result"
    }
   ],
   "source": [
    "fun_01to06.mo"
   ]
  },
  {
   "cell_type": "code",
   "execution_count": null,
   "metadata": {},
   "outputs": [],
   "source": []
  }
 ],
 "metadata": {
  "kernelspec": {
   "display_name": "Python 3",
   "language": "python",
   "name": "python3"
  },
  "language_info": {
   "codemirror_mode": {
    "name": "ipython",
    "version": 3
   },
   "file_extension": ".py",
   "mimetype": "text/x-python",
   "name": "python",
   "nbconvert_exporter": "python",
   "pygments_lexer": "ipython3",
   "version": "3.7.3"
  }
 },
 "nbformat": 4,
 "nbformat_minor": 2
}
