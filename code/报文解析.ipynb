{
 "cells": [
  {
   "cell_type": "code",
   "execution_count": 1,
   "metadata": {},
   "outputs": [
    {
     "name": "stdout",
     "output_type": "stream",
     "text": [
      "importing Jupyter notebook from public_function.ipynb\n"
     ]
    }
   ],
   "source": [
    "import Ipynb_importer\n",
    "\n",
    "from public_function import * "
   ]
  },
  {
   "cell_type": "code",
   "execution_count": 4,
   "metadata": {},
   "outputs": [],
   "source": [
    "class bw(object):\n",
    "    \n",
    "    def __init__(self, ys, cf, jx):\n",
    "        self.ys = ys\n",
    "        self.cf = cf\n",
    "        self.jx = jx\n",
    "\n",
    "    def fun_cf():\n",
    "        \n",
    "        \n",
    "        \n",
    "        \n",
    "    def fun_jx():\n",
    "        \n",
    "        "
   ]
  },
  {
   "cell_type": "code",
   "execution_count": null,
   "metadata": {},
   "outputs": [],
   "source": []
  }
 ],
 "metadata": {
  "kernelspec": {
   "display_name": "Python 3",
   "language": "python",
   "name": "python3"
  },
  "language_info": {
   "codemirror_mode": {
    "name": "ipython",
    "version": 3
   },
   "file_extension": ".py",
   "mimetype": "text/x-python",
   "name": "python",
   "nbconvert_exporter": "python",
   "pygments_lexer": "ipython3",
   "version": "3.7.3"
  }
 },
 "nbformat": 4,
 "nbformat_minor": 2
}
