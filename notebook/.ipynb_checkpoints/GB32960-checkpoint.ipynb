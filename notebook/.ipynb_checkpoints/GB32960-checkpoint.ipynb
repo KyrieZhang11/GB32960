{
 "cells": [
  {
   "cell_type": "markdown",
   "metadata": {},
   "source": [
    "## 载入工具包与全局变量"
   ]
  },
  {
   "cell_type": "code",
   "execution_count": 9,
   "metadata": {},
   "outputs": [
    {
     "name": "stdout",
     "output_type": "stream",
     "text": [
      "importing Jupyter notebook from fun_08.ipynb\n"
     ]
    }
   ],
   "source": [
    "# 执行函数\n",
    "import Ipynb_importer\n",
    "from public_fun import *\n",
    "\n",
    "from fun_01to06 import *\n",
    "from fun_07 import *\n",
    "from fun_08 import *"
   ]
  },
  {
   "cell_type": "code",
   "execution_count": 2,
   "metadata": {},
   "outputs": [],
   "source": [
    "# 全局变量\n",
    "import sys\n",
    "import globalVar as glv"
   ]
  },
  {
   "cell_type": "markdown",
   "metadata": {},
   "source": [
    "## 主体"
   ]
  },
  {
   "cell_type": "code",
   "execution_count": null,
   "metadata": {},
   "outputs": [],
   "source": [
    "# 主体函数\n",
    "class gb32960():\n",
    "    \n",
    "    glv._init() # 执行全局变量\n",
    "    \n",
    "    def __init__(self, data):\n",
    "        \n",
    "        glv.set_value('data_f', data)\n",
    "        self.f_01 = fun_01to06(glv.get_value('data_f'))\n",
    "        self.f_datetime = fun_datetime(glv.get_value('data_f'))\n",
    "        self.f_07 = fun_07(glv.get_value('data_f'), glv.get_value('data_mo'))\n",
    "        self.f_08 = fun_08(data[-2:])\n",
    "        \n",
    "        self.oj = fun_gb32960.oj()\n",
    "        self.ol = fun_gb32960.ol()\n",
    "        self.pj = fun_gb32960.pj()\n",
    "        self.pl = fun_gb32960.pl()\n",
    "    \n",
    "    # 拼接\n",
    "    def oj(self):\n",
    "        \n",
    "        return \n",
    "    \n",
    "    def ol(self):\n",
    "        \n",
    "        return \n",
    "    \n",
    "    def pj(self):\n",
    "        \n",
    "        return\n",
    "    \n",
    "    def pl(self):\n",
    "        \n",
    "        return\n",
    "    "
   ]
  },
  {
   "cell_type": "markdown",
   "metadata": {},
   "source": [
    "## 测试"
   ]
  },
  {
   "cell_type": "code",
   "execution_count": null,
   "metadata": {},
   "outputs": [],
   "source": []
  }
 ],
 "metadata": {
  "kernelspec": {
   "display_name": "Python 3",
   "language": "python",
   "name": "python3"
  },
  "language_info": {
   "codemirror_mode": {
    "name": "ipython",
    "version": 3
   },
   "file_extension": ".py",
   "mimetype": "text/x-python",
   "name": "python",
   "nbconvert_exporter": "python",
   "pygments_lexer": "ipython3",
   "version": "3.7.3"
  }
 },
 "nbformat": 4,
 "nbformat_minor": 2
}
