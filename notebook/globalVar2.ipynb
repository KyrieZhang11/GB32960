{
 "cells": [
  {
   "cell_type": "code",
   "execution_count": null,
   "metadata": {},
   "outputs": [],
   "source": [
    "def _init():#初始化\n",
    "    global _global_dict\n",
    "    _global_dict = {}\n",
    " \n",
    " \n",
    "def set_value(key,value):\n",
    "    # \"\"\" 定义一个全局变量 \"\"\"\n",
    "    _global_dict[key] = value\n",
    " \n",
    " \n",
    "def get_value(key,defValue=None):\n",
    "　　# \"\"\" 获得一个全局变量,不存在则返回默认值 \"\"\"\n",
    "    try:\n",
    "        return _global_dict[key]\n",
    "    except KeyError:\n",
    "        return defValue"
   ]
  }
 ],
 "metadata": {
  "kernelspec": {
   "display_name": "Python 3",
   "language": "python",
   "name": "python3"
  },
  "language_info": {
   "codemirror_mode": {
    "name": "ipython",
    "version": 3
   },
   "file_extension": ".py",
   "mimetype": "text/x-python",
   "name": "python",
   "nbconvert_exporter": "python",
   "pygments_lexer": "ipython3",
   "version": "3.7.3"
  }
 },
 "nbformat": 4,
 "nbformat_minor": 2
}
