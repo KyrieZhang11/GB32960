{
 "cells": [
  {
   "cell_type": "markdown",
   "metadata": {},
   "source": [
    "## 说明\n",
    "\n",
    "```\n",
    "\"报警数据\":{\n",
    "    \"最高报警等级\":\"\",\n",
    "    \"通用报警标志\":\"\",\n",
    "    \"可充电储能装置故障总数N1\":\"\",\n",
    "    \"可充电储能装置故障代码列表\":{\n",
    "        \"1\":{},\n",
    "        \"2\":{}\n",
    "    },\n",
    "    \"驱动电机故障总数N2\":\"\",\n",
    "    \"驱动电机故障代码列表\":{\n",
    "        \"1\":{},\n",
    "        \"2\":{}\n",
    "    },\n",
    "    \"发动机故障总数N3\":\"\",\n",
    "    \"发动机故障列表\":{\n",
    "        \"1\":{},\n",
    "        \"2\":{}\n",
    "    },\n",
    "    \"其他故障总数N4\":\"\",\n",
    "    \"其他故障代码列表\":{\n",
    "        \"1\":{},\n",
    "        \"2\":{}\n",
    "    }\n",
    "},\n",
    "```"
   ]
  },
  {
   "cell_type": "markdown",
   "metadata": {},
   "source": [
    "## 导入工具包和公共函数"
   ]
  },
  {
   "cell_type": "code",
   "execution_count": 1,
   "metadata": {},
   "outputs": [
    {
     "name": "stdout",
     "output_type": "stream",
     "text": [
      "importing Jupyter notebook from public_fun.ipynb\n"
     ]
    }
   ],
   "source": [
    "import Ipynb_importer\n",
    "from public_fun import *"
   ]
  },
  {
   "cell_type": "code",
   "execution_count": 2,
   "metadata": {},
   "outputs": [],
   "source": [
    "import sys\n",
    "import globalVar as glv"
   ]
  },
  {
   "cell_type": "markdown",
   "metadata": {},
   "source": [
    "## 类主体"
   ]
  },
  {
   "cell_type": "code",
   "execution_count": 3,
   "metadata": {},
   "outputs": [],
   "source": [
    "class fun_07_02_07(object):\n",
    "    def __init__(self, data):\n",
    "        self.cf = [1, 4, 1, 1, 1, 1]\n",
    "        self.cf_a = hexlist2(self.cf)\n",
    "        data = data[2:]\n",
    "        self.o = data[0:self.cf_a[-1]]\n",
    "        self.list_o = [\n",
    "            \"最高报警等级\",\n",
    "            \"通用报警标志\",\n",
    "            \"可充电储能装置故障总数N1\",\n",
    "            \"驱动电机故障总数N2\",\n",
    "            \"发动机故障总数N3\",\n",
    "            \"其他故障总数N4\",\n",
    "        ]\n",
    "        self.oj = list2dict(self.o, self.list_o, self.cf_a)\n",
    "        self.oj2 = {'报警数据': self.oj}\n",
    "        self.ol = pd.DataFrame([self.oj]).reindex(columns=self.list_o)\n",
    "        self.pj = {\n",
    "            '最高报警等级' : hex2dec(self.oj['最高报警等级'], e=True),\n",
    "            '通用报警标志' : fun_07_02_07.fun_02(self.oj['通用报警标志']),\n",
    "            '可充电储能装置故障总数N1' : hex2dec(self.oj['可充电储能装置故障总数N1'], e=True),\n",
    "            '驱动电机故障总数N2' : hex2dec(self.oj['驱动电机故障总数N2'], e=True),\n",
    "            '发动机故障总数N3' : hex2dec(self.oj['发动机故障总数N3'], e=True),\n",
    "            '其他故障总数N4' : hex2dec(self.oj['其他故障总数N4'], e=True),\n",
    "        }\n",
    "        self.pj2 = {'报警数据': self.pj}\n",
    "        self.pl = pd.DataFrame([self.pj]).reindex(columns=self.list_o)\n",
    "        \n",
    "        self.next = data[len(self.o):]\n",
    "        self.nextMark = data[len(self.o):len(self.o)+2]\n",
    "        \n",
    "#         glv.set_value('data_f', self.next)\n",
    "#         glv.set_value('data_mo', self.mo)\n",
    "        \n",
    "    def fun_02(data):\n",
    "        n = '{:032b}'.format(int(data, 16))\n",
    "\n",
    "        baojing_list = [\n",
    "            \"温度差异报警\",\n",
    "            \"电池高温报警\",\n",
    "            \"车载储能装置类型过压报警\",\n",
    "            \"车载储能装置类型欠压报警\",\n",
    "            \"SOC低报警\",\n",
    "            \"单体电池过压报警\",\n",
    "            \"单体电池欠压报警\",\n",
    "            \"SOC过高报警\",\n",
    "            \"SOC跳变报警\",\n",
    "            \"可充电储能系统不匹配报警\",\n",
    "            \"电池单体一致性差报警\",\n",
    "            \"绝缘报警\",\n",
    "            \"DC-DC温度报警\",\n",
    "            \"制动系统报警\",\n",
    "            \"DC-DC状态报警\",\n",
    "            \"驱动电机控制器温度报警\",\n",
    "            \"高压互锁状态报警\",\n",
    "            \"驱动电机温度报警\",\n",
    "            \"车载储能装置类型过充\",\n",
    "        ]\n",
    "\n",
    "        baojing = [n]\n",
    "\n",
    "        for i in range(0,19):\n",
    "            if n[-i] == \"1\":\n",
    "                baojing.append(baojing_list[i])\n",
    "\n",
    "        return baojing"
   ]
  },
  {
   "cell_type": "markdown",
   "metadata": {},
   "source": [
    "## 执行"
   ]
  },
  {
   "cell_type": "code",
   "execution_count": 4,
   "metadata": {
    "scrolled": true
   },
   "outputs": [],
   "source": [
    "data = \"0700000000000000000009010100483C3B3C3A3B3B3C3A3B3B3B3A3B3B3B3A3B3B3B3B3B3A3B3C3B3B3C3B3C3A3B3C3B3A3B3B3B3B3B3A3C3B3C3A3B3B3B3A3B3B3B3A3B3B3B3B3B3A3B3C3B3A3B3B3C3A3B3B3B3A3B3B0801011706273C00900001900FFA10040FFA0FFA0FFA0FFA10040FFA1004100410040FFA0FC8100410041004100410041004100410040FFA10041004100410041004100410040FFA10040FFA0FFA0FFA10040FFA0FFA0FFA0FFA100410040FFA0FFA100410040FFA0FFA10040FFA0FFA0FFA10040FFA0FFA0FFA0FFA0FFA0FFA0FF00FFA0FFA0FFA10040FFA0FFA100410040FF010040FFA0FFA0FFA0FFA0FFA10040FFA0FFA0FFA100410040FFA0FF00FFA0FFA0FFA0FFA0FFA0FFA0FFA10040FFA0FFA10041004100410040FFA0FFA0FFA0FFA0FFA0FFA0FFA0FFA0FFA100410040FFA0FFA1004100410040FFA0FFA0FFA0FFA0FFA0FFA0FFA0FFA100E0FF00FFA0FFA0FFA0FFA100410040FFA100410040FFA10040FFA10040FFA100410040FFA10041004100410040FFAAB\"\n",
    "\n",
    "f_07_02_07 = fun_07_02_07(data)"
   ]
  },
  {
   "cell_type": "markdown",
   "metadata": {},
   "source": [
    "## 结果"
   ]
  },
  {
   "cell_type": "code",
   "execution_count": 5,
   "metadata": {},
   "outputs": [
    {
     "data": {
      "text/plain": [
       "'000000000000000000'"
      ]
     },
     "execution_count": 5,
     "metadata": {},
     "output_type": "execute_result"
    }
   ],
   "source": [
    "f_07_02_07.o"
   ]
  },
  {
   "cell_type": "code",
   "execution_count": 6,
   "metadata": {},
   "outputs": [
    {
     "data": {
      "text/plain": [
       "{'最高报警等级': '00',\n",
       " '通用报警标志': '00000000',\n",
       " '可充电储能装置故障总数N1': '00',\n",
       " '驱动电机故障总数N2': '00',\n",
       " '发动机故障总数N3': '00',\n",
       " '其他故障总数N4': '00'}"
      ]
     },
     "execution_count": 6,
     "metadata": {},
     "output_type": "execute_result"
    }
   ],
   "source": [
    "f_07_02_07.oj"
   ]
  },
  {
   "cell_type": "code",
   "execution_count": 7,
   "metadata": {},
   "outputs": [
    {
     "data": {
      "text/html": [
       "<div>\n",
       "<style scoped>\n",
       "    .dataframe tbody tr th:only-of-type {\n",
       "        vertical-align: middle;\n",
       "    }\n",
       "\n",
       "    .dataframe tbody tr th {\n",
       "        vertical-align: top;\n",
       "    }\n",
       "\n",
       "    .dataframe thead th {\n",
       "        text-align: right;\n",
       "    }\n",
       "</style>\n",
       "<table border=\"1\" class=\"dataframe\">\n",
       "  <thead>\n",
       "    <tr style=\"text-align: right;\">\n",
       "      <th></th>\n",
       "      <th>最高报警等级</th>\n",
       "      <th>通用报警标志</th>\n",
       "      <th>可充电储能装置故障总数N1</th>\n",
       "      <th>驱动电机故障总数N2</th>\n",
       "      <th>发动机故障总数N3</th>\n",
       "      <th>其他故障总数N4</th>\n",
       "    </tr>\n",
       "  </thead>\n",
       "  <tbody>\n",
       "    <tr>\n",
       "      <th>0</th>\n",
       "      <td>00</td>\n",
       "      <td>00000000</td>\n",
       "      <td>00</td>\n",
       "      <td>00</td>\n",
       "      <td>00</td>\n",
       "      <td>00</td>\n",
       "    </tr>\n",
       "  </tbody>\n",
       "</table>\n",
       "</div>"
      ],
      "text/plain": [
       "  最高报警等级    通用报警标志 可充电储能装置故障总数N1 驱动电机故障总数N2 发动机故障总数N3 其他故障总数N4\n",
       "0     00  00000000            00         00        00       00"
      ]
     },
     "execution_count": 7,
     "metadata": {},
     "output_type": "execute_result"
    }
   ],
   "source": [
    "f_07_02_07.ol"
   ]
  },
  {
   "cell_type": "code",
   "execution_count": 8,
   "metadata": {},
   "outputs": [
    {
     "data": {
      "text/plain": [
       "{'最高报警等级': 0,\n",
       " '通用报警标志': ['00000000000000000000000000000000'],\n",
       " '可充电储能装置故障总数N1': 0,\n",
       " '驱动电机故障总数N2': 0,\n",
       " '发动机故障总数N3': 0,\n",
       " '其他故障总数N4': 0}"
      ]
     },
     "execution_count": 8,
     "metadata": {},
     "output_type": "execute_result"
    }
   ],
   "source": [
    "f_07_02_07.pj"
   ]
  },
  {
   "cell_type": "code",
   "execution_count": 9,
   "metadata": {},
   "outputs": [
    {
     "data": {
      "text/html": [
       "<div>\n",
       "<style scoped>\n",
       "    .dataframe tbody tr th:only-of-type {\n",
       "        vertical-align: middle;\n",
       "    }\n",
       "\n",
       "    .dataframe tbody tr th {\n",
       "        vertical-align: top;\n",
       "    }\n",
       "\n",
       "    .dataframe thead th {\n",
       "        text-align: right;\n",
       "    }\n",
       "</style>\n",
       "<table border=\"1\" class=\"dataframe\">\n",
       "  <thead>\n",
       "    <tr style=\"text-align: right;\">\n",
       "      <th></th>\n",
       "      <th>最高报警等级</th>\n",
       "      <th>通用报警标志</th>\n",
       "      <th>可充电储能装置故障总数N1</th>\n",
       "      <th>驱动电机故障总数N2</th>\n",
       "      <th>发动机故障总数N3</th>\n",
       "      <th>其他故障总数N4</th>\n",
       "    </tr>\n",
       "  </thead>\n",
       "  <tbody>\n",
       "    <tr>\n",
       "      <th>0</th>\n",
       "      <td>0</td>\n",
       "      <td>[00000000000000000000000000000000]</td>\n",
       "      <td>0</td>\n",
       "      <td>0</td>\n",
       "      <td>0</td>\n",
       "      <td>0</td>\n",
       "    </tr>\n",
       "  </tbody>\n",
       "</table>\n",
       "</div>"
      ],
      "text/plain": [
       "   最高报警等级                              通用报警标志  可充电储能装置故障总数N1  驱动电机故障总数N2  \\\n",
       "0       0  [00000000000000000000000000000000]              0           0   \n",
       "\n",
       "   发动机故障总数N3  其他故障总数N4  \n",
       "0          0         0  "
      ]
     },
     "execution_count": 9,
     "metadata": {},
     "output_type": "execute_result"
    }
   ],
   "source": [
    "f_07_02_07.pl"
   ]
  },
  {
   "cell_type": "code",
   "execution_count": 10,
   "metadata": {},
   "outputs": [
    {
     "data": {
      "text/plain": [
       "'09010100483C3B3C3A3B3B3C3A3B3B3B3A3B3B3B3A3B3B3B3B3B3A3B3C3B3B3C3B3C3A3B3C3B3A3B3B3B3B3B3A3C3B3C3A3B3B3B3A3B3B3B3A3B3B3B3B3B3A3B3C3B3A3B3B3C3A3B3B3B3A3B3B0801011706273C00900001900FFA10040FFA0FFA0FFA0FFA10040FFA1004100410040FFA0FC8100410041004100410041004100410040FFA10041004100410041004100410040FFA10040FFA0FFA0FFA10040FFA0FFA0FFA0FFA100410040FFA0FFA100410040FFA0FFA10040FFA0FFA0FFA10040FFA0FFA0FFA0FFA0FFA0FFA0FF00FFA0FFA0FFA10040FFA0FFA100410040FF010040FFA0FFA0FFA0FFA0FFA10040FFA0FFA0FFA100410040FFA0FF00FFA0FFA0FFA0FFA0FFA0FFA0FFA10040FFA0FFA10041004100410040FFA0FFA0FFA0FFA0FFA0FFA0FFA0FFA0FFA100410040FFA0FFA1004100410040FFA0FFA0FFA0FFA0FFA0FFA0FFA0FFA100E0FF00FFA0FFA0FFA0FFA100410040FFA100410040FFA10040FFA10040FFA100410040FFA10041004100410040FFAAB'"
      ]
     },
     "execution_count": 10,
     "metadata": {},
     "output_type": "execute_result"
    }
   ],
   "source": [
    "f_07_02_07.next"
   ]
  },
  {
   "cell_type": "code",
   "execution_count": 11,
   "metadata": {},
   "outputs": [
    {
     "data": {
      "text/plain": [
       "'09'"
      ]
     },
     "execution_count": 11,
     "metadata": {},
     "output_type": "execute_result"
    }
   ],
   "source": [
    "f_07_02_07.nextMark"
   ]
  },
  {
   "cell_type": "code",
   "execution_count": null,
   "metadata": {},
   "outputs": [],
   "source": []
  }
 ],
 "metadata": {
  "kernelspec": {
   "display_name": "Python 3",
   "language": "python",
   "name": "python3"
  },
  "language_info": {
   "codemirror_mode": {
    "name": "ipython",
    "version": 3
   },
   "file_extension": ".py",
   "mimetype": "text/x-python",
   "name": "python",
   "nbconvert_exporter": "python",
   "pygments_lexer": "ipython3",
   "version": "3.7.3"
  }
 },
 "nbformat": 4,
 "nbformat_minor": 2
}
