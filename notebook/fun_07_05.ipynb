{
 "cells": [
  {
   "cell_type": "markdown",
   "metadata": {},
   "source": [
    "## 说明\n",
    "```\n",
    "\"平台登入\":{\n",
    "    \"平台登入时间\":\"6\",\n",
    "    \"登入流水号\":\"2\",\n",
    "    \"平台用户名\":\"12\",\n",
    "    \"平台密码\":\"20\",\n",
    "    \"加密规则\":\"1\"\n",
    "},\n",
    "```"
   ]
  },
  {
   "cell_type": "markdown",
   "metadata": {},
   "source": [
    "## 导入工具包和公共函数"
   ]
  },
  {
   "cell_type": "code",
   "execution_count": 1,
   "metadata": {},
   "outputs": [
    {
     "name": "stdout",
     "output_type": "stream",
     "text": [
      "importing Jupyter notebook from public_fun.ipynb\n"
     ]
    }
   ],
   "source": [
    "import Ipynb_importer\n",
    "from public_fun import *"
   ]
  },
  {
   "cell_type": "code",
   "execution_count": 2,
   "metadata": {},
   "outputs": [],
   "source": [
    "import sys\n",
    "import globalVar as glv"
   ]
  },
  {
   "cell_type": "markdown",
   "metadata": {},
   "source": [
    "## 类主体"
   ]
  },
  {
   "cell_type": "code",
   "execution_count": 3,
   "metadata": {},
   "outputs": [],
   "source": [
    "class fun_07_05(object):\n",
    "    def __init__(self, data):\n",
    "        self.cf = [6, 2, 12, 20, 1]\n",
    "        self.cf_a = hexlist2(self.cf)\n",
    "        self.o = data[0:self.cf_a[-1]]\n",
    "        self.list_o = [\n",
    "            \"平台登入时间\",\n",
    "            \"登入流水号\",\n",
    "            \"平台用户名\",\n",
    "            \"平台密码\",\n",
    "            \"加密规则\",\n",
    "        ]\n",
    "        self.oj = list2dict(self.o, self.list_o, self.cf_a)\n",
    "        print(self.oj)\n",
    "        self.ol = pd.DataFrame([self.oj]).reindex(columns=self.list_o)\n",
    "        self.pj = {\n",
    "            \"平台登入时间\":get_datetime(self.oj['平台登入时间']),\n",
    "            \"登入流水号\":hex2dec(self.oj['登入流水号']),\n",
    "            \"平台用户名\":hex2str(self.oj['平台用户名']),\n",
    "            \"平台密码\":hex2str(self.oj['平台密码']),\n",
    "            \"加密规则\":dict_list_replace('07_05_05',self.oj['加密规则']),\n",
    "        }\n",
    "        self.pl = pd.DataFrame([self.pj]).reindex(columns=self.list_o)\n",
    "        \n",
    "        self.next = data[len(self.o):]\n",
    "        self.nextMark = data[len(self.o):len(self.o)+2]\n",
    "        \n",
    "#         glv.set_value('data_f', self.next)\n",
    "#         glv.set_value('data_mo', self.mo)"
   ]
  },
  {
   "cell_type": "markdown",
   "metadata": {},
   "source": [
    "## 执行"
   ]
  },
  {
   "cell_type": "code",
   "execution_count": null,
   "metadata": {},
   "outputs": [],
   "source": [
    "# \n",
    "data = \"130c1e0d371700033839383630363137303330303831303036303531010c313137333831333033383430dc\"\n",
    "fun_07_05 = fun_07_05(data)"
   ]
  },
  {
   "cell_type": "markdown",
   "metadata": {},
   "source": [
    "## 结果"
   ]
  },
  {
   "cell_type": "code",
   "execution_count": 5,
   "metadata": {},
   "outputs": [
    {
     "data": {
      "text/plain": [
       "{'登出时间': '130c1e0d3717', '登出流水号': '0003'}"
      ]
     },
     "execution_count": 5,
     "metadata": {},
     "output_type": "execute_result"
    }
   ],
   "source": [
    "fun_07_07.oj"
   ]
  },
  {
   "cell_type": "code",
   "execution_count": 6,
   "metadata": {},
   "outputs": [
    {
     "data": {
      "text/html": [
       "<div>\n",
       "<style scoped>\n",
       "    .dataframe tbody tr th:only-of-type {\n",
       "        vertical-align: middle;\n",
       "    }\n",
       "\n",
       "    .dataframe tbody tr th {\n",
       "        vertical-align: top;\n",
       "    }\n",
       "\n",
       "    .dataframe thead th {\n",
       "        text-align: right;\n",
       "    }\n",
       "</style>\n",
       "<table border=\"1\" class=\"dataframe\">\n",
       "  <thead>\n",
       "    <tr style=\"text-align: right;\">\n",
       "      <th></th>\n",
       "      <th>登出时间</th>\n",
       "      <th>登出流水号</th>\n",
       "    </tr>\n",
       "  </thead>\n",
       "  <tbody>\n",
       "    <tr>\n",
       "      <th>0</th>\n",
       "      <td>130c1e0d3717</td>\n",
       "      <td>0003</td>\n",
       "    </tr>\n",
       "  </tbody>\n",
       "</table>\n",
       "</div>"
      ],
      "text/plain": [
       "           登出时间 登出流水号\n",
       "0  130c1e0d3717  0003"
      ]
     },
     "execution_count": 6,
     "metadata": {},
     "output_type": "execute_result"
    }
   ],
   "source": [
    "fun_07_07.ol"
   ]
  },
  {
   "cell_type": "code",
   "execution_count": 7,
   "metadata": {},
   "outputs": [
    {
     "data": {
      "text/plain": [
       "{'登出时间': '2019-12-30 13:55:23', '登出流水号': 3}"
      ]
     },
     "execution_count": 7,
     "metadata": {},
     "output_type": "execute_result"
    }
   ],
   "source": [
    "fun_07_07.pj"
   ]
  },
  {
   "cell_type": "code",
   "execution_count": 8,
   "metadata": {},
   "outputs": [
    {
     "data": {
      "text/html": [
       "<div>\n",
       "<style scoped>\n",
       "    .dataframe tbody tr th:only-of-type {\n",
       "        vertical-align: middle;\n",
       "    }\n",
       "\n",
       "    .dataframe tbody tr th {\n",
       "        vertical-align: top;\n",
       "    }\n",
       "\n",
       "    .dataframe thead th {\n",
       "        text-align: right;\n",
       "    }\n",
       "</style>\n",
       "<table border=\"1\" class=\"dataframe\">\n",
       "  <thead>\n",
       "    <tr style=\"text-align: right;\">\n",
       "      <th></th>\n",
       "      <th>登出时间</th>\n",
       "      <th>登出流水号</th>\n",
       "    </tr>\n",
       "  </thead>\n",
       "  <tbody>\n",
       "    <tr>\n",
       "      <th>0</th>\n",
       "      <td>2019-12-30 13:55:23</td>\n",
       "      <td>3</td>\n",
       "    </tr>\n",
       "  </tbody>\n",
       "</table>\n",
       "</div>"
      ],
      "text/plain": [
       "                  登出时间  登出流水号\n",
       "0  2019-12-30 13:55:23      3"
      ]
     },
     "execution_count": 8,
     "metadata": {},
     "output_type": "execute_result"
    }
   ],
   "source": [
    "fun_07_07.pl"
   ]
  },
  {
   "cell_type": "code",
   "execution_count": 9,
   "metadata": {},
   "outputs": [
    {
     "data": {
      "text/plain": [
       "[6, 2]"
      ]
     },
     "execution_count": 9,
     "metadata": {},
     "output_type": "execute_result"
    }
   ],
   "source": [
    "fun_07_07.cf"
   ]
  },
  {
   "cell_type": "code",
   "execution_count": 10,
   "metadata": {},
   "outputs": [
    {
     "data": {
      "text/plain": [
       "[0, 12, 16]"
      ]
     },
     "execution_count": 10,
     "metadata": {},
     "output_type": "execute_result"
    }
   ],
   "source": [
    "fun_07_07.cf_a"
   ]
  },
  {
   "cell_type": "code",
   "execution_count": null,
   "metadata": {},
   "outputs": [],
   "source": []
  },
  {
   "cell_type": "code",
   "execution_count": null,
   "metadata": {},
   "outputs": [],
   "source": []
  }
 ],
 "metadata": {
  "kernelspec": {
   "display_name": "Python 3",
   "language": "python",
   "name": "python3"
  },
  "language_info": {
   "codemirror_mode": {
    "name": "ipython",
    "version": 3
   },
   "file_extension": ".py",
   "mimetype": "text/x-python",
   "name": "python",
   "nbconvert_exporter": "python",
   "pygments_lexer": "ipython3",
   "version": "3.7.3"
  }
 },
 "nbformat": 4,
 "nbformat_minor": 2
}
