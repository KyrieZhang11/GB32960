{
 "cells": [
  {
   "cell_type": "markdown",
   "metadata": {},
   "source": [
    "## 说明\n",
    "```\n",
    "\"燃料电池数据\":{\n",
    "    \"燃料电池电压\":\"2\",\n",
    "    \"燃料电池电流\":\"2\",\n",
    "    \"燃料消耗率\":\"2\",\n",
    "    \"燃料电池温度探针总数N\":\"2\",\n",
    "    \"探针温度值\":\"1*N\"[],\n",
    "    \"氢系统中最高温度\":\"2\",\n",
    "    \"氢系统中最高温度探针代号\":\"1\",\n",
    "    \"氢气最高浓度\":\"2\",\n",
    "    \"氢气最高浓度传感器代号\":\"1\",\n",
    "    \"氢气最高压力\":\"2\",\n",
    "    \"氢气最高压力传感器代号\":\"1\",\n",
    "    \"高压DC/DC状态\":\"1\"\n",
    "},\n",
    "```"
   ]
  },
  {
   "cell_type": "markdown",
   "metadata": {},
   "source": [
    "## 导入工具包和公共函数"
   ]
  },
  {
   "cell_type": "code",
   "execution_count": 4,
   "metadata": {},
   "outputs": [],
   "source": [
    "import Ipynb_importer\n",
    "from public_fun import *"
   ]
  },
  {
   "cell_type": "markdown",
   "metadata": {},
   "source": [
    "## 类主体"
   ]
  },
  {
   "cell_type": "code",
   "execution_count": 8,
   "metadata": {},
   "outputs": [],
   "source": [
    "class fun_07_02_03(object):\n",
    "    def __init__(self, data):\n",
    "        \n",
    "        self.cf = [2, 2, 2, 2, None, 2, 1, 2, 1, 2, 1, 1]\n",
    "        data = data[2:]\n",
    "        self.dc_no = data[12:16]\n",
    "        self.dc_np = hex2dec(self.dc_no)\n",
    "        self.cf[4] = self.dc_np\n",
    "        self.cf_a = hexlist2(self.cf)\n",
    "\n",
    "        self.o = data[0:self.cf_a[-1]]\n",
    "        \n",
    "        self.list_o = [\n",
    "            \"燃料电池电压\",\n",
    "            \"燃料电池电流\",\n",
    "            \"燃料消耗率\",\n",
    "            \"燃料电池温度探针总数\",\n",
    "            \"探针温度值\",\n",
    "            \"氢系统中最高温度\",\n",
    "            \"氢系统中最高温度探针代号\",\n",
    "            \"氢气最高浓度\",\n",
    "            \"氢气最高浓度传感器代号\",\n",
    "            \"氢气最高压力\",\n",
    "            \"氢气最高压力传感器代号\",\n",
    "            \"高压DC/DC状态\",\n",
    "        ]\n",
    "        self.oj = list2dict(self.o, self.list_o, self.cf_a)\n",
    "        self.oj2 = {'燃料电池数据':self.oj}\n",
    "        self.ol = pd.DataFrame.from_dict(self.oj,orient='index').T\n",
    "        self.pj = {\n",
    "            \"燃料电池电压\":hex2dec(self.oj['燃料电池电压'], k=0.1),\n",
    "            \"燃料电池电流\":hex2dec(self.oj['燃料电池电流'], k=0.1),\n",
    "            \"燃料消耗率\":hex2dec(self.oj['燃料消耗率'], k=0.01),\n",
    "            \"燃料电池温度探针总数\":hex2dec(self.oj['燃料电池温度探针总数']),\n",
    "            \"探针温度值\":[hex2dec(i, n=-40, k=0.1) for i in self.oj['燃料电池温度探针总数']],\n",
    "            \"氢系统中最高温度\":hex2dec(self.oj['氢系统中最高温度'], n=-40, k=0.1),\n",
    "            \"氢系统中最高温度探针代号\":hex2dec(self.oj['氢系统中最高温度探针代号']),\n",
    "            \"氢气最高浓度\":hex2dec(self.oj['氢气最高浓度']),\n",
    "            \"氢气最高浓度传感器代号\":hex2dec(self.oj['氢气最高浓度传感器代号']),\n",
    "            \"氢气最高压力\":hex2dec(self.oj['氢气最高压力'], k=0.1),\n",
    "            \"氢气最高压力传感器代号\":hex2dec(self.oj['氢气最高压力传感器代号']),\n",
    "            \"高压DC/DC状态\":dict_list_replace('07_02_03_12', self.oj['高压DC/DC状态']),\n",
    "        }\n",
    "        self.pj2 = {'燃料电池数据':self.pj}\n",
    "        self.pl = pd.DataFrame.from_dict(self.pj,orient='index').T\n",
    "        \n",
    "        self.next = data[len(self.o):]\n",
    "        self.nextMark = data[len(self.o):len(self.o)+2]\n",
    "        \n",
    "        glv.set_value('data_f', self.next)\n",
    "        glv.set_value('m_07_02', self.nextMark)\n",
    "    "
   ]
  },
  {
   "cell_type": "markdown",
   "metadata": {},
   "source": [
    "## 执行"
   ]
  },
  {
   "cell_type": "code",
   "execution_count": 9,
   "metadata": {},
   "outputs": [
    {
     "name": "stdout",
     "output_type": "stream",
     "text": [
      "0004\n",
      "0004\n",
      "[2, 2, 2, 2, 4, 2, 1, 2, 1, 2, 1, 1]\n",
      "[0, 4, 8, 12, 16, 24, 28, 30, 34, 36, 40, 42, 44]\n"
     ]
    }
   ],
   "source": [
    "data = \"020101043451AA000437170627270500072035A801EAC74A060179100E010D0FC801013C01043A0700000000000000000009010100483C3B3C3A3B3B3C3A3B3B3B3A3B3B3B3A3B3B3B3B3B3A3B3C3B3B3C3B3C3A3B3C3B3A3B3B3B3B3B3A3C3B3C3A3B3B3B3A3B3B3B3A3B3B3B3B3B3A3B3C3B3A3B3B3C3A3B3B3B3A3B3B0801011706273C00900001900FFA10040FFA0FFA0FFA0FFA10040FFA1004100410040FFA0FC8100410041004100410041004100410040FFA10041004100410041004100410040FFA10040FFA0FFA0FFA10040FFA0FFA0FFA0FFA100410040FFA0FFA100410040FFA0FFA10040FFA0FFA0FFA10040FFA0FFA0FFA0FFA0FFA0FFA0FF00FFA0FFA0FFA10040FFA0FFA100410040FF010040FFA0FFA0FFA0FFA0FFA10040FFA0FFA0FFA100410040FFA0FF00FFA0FFA0FFA0FFA0FFA0FFA0FFA10040FFA0FFA10041004100410040FFA0FFA0FFA0FFA0FFA0FFA0FFA0FFA0FFA100410040FFA0FFA1004100410040FFA0FFA0FFA0FFA0FFA0FFA0FFA0FFA100E0FF00FFA0FFA0FFA0FFA100410040FFA100410040FFA10040FFA10040FFA100410040FFA10041004100410040FFAAB\"\n",
    "\n",
    "fun_07_02_03 = fun_07_02_03(data)"
   ]
  },
  {
   "cell_type": "markdown",
   "metadata": {},
   "source": [
    "## 结果"
   ]
  },
  {
   "cell_type": "code",
   "execution_count": 11,
   "metadata": {},
   "outputs": [
    {
     "data": {
      "text/plain": [
       "'0101043451AA000437170627270500072035A801EAC7'"
      ]
     },
     "execution_count": 11,
     "metadata": {},
     "output_type": "execute_result"
    }
   ],
   "source": [
    "fun_07_02_03.o"
   ]
  },
  {
   "cell_type": "code",
   "execution_count": 12,
   "metadata": {},
   "outputs": [
    {
     "data": {
      "text/plain": [
       "{'燃料电池电压': '0101',\n",
       " '燃料电池电流': '0434',\n",
       " '燃料消耗率': '51AA',\n",
       " '燃料电池温度探针总数': '0004',\n",
       " '探针温度值': '37170627',\n",
       " '氢系统中最高温度': '2705',\n",
       " '氢系统中最高温度探针代号': '00',\n",
       " '氢气最高浓度': '0720',\n",
       " '氢气最高浓度传感器代号': '35',\n",
       " '氢气最高压力': 'A801',\n",
       " '氢气最高压力传感器代号': 'EA',\n",
       " '高压DC/DC状态': 'C7'}"
      ]
     },
     "execution_count": 12,
     "metadata": {},
     "output_type": "execute_result"
    }
   ],
   "source": [
    "fun_07_02_03.oj"
   ]
  },
  {
   "cell_type": "code",
   "execution_count": 14,
   "metadata": {},
   "outputs": [
    {
     "data": {
      "text/html": [
       "<div>\n",
       "<style scoped>\n",
       "    .dataframe tbody tr th:only-of-type {\n",
       "        vertical-align: middle;\n",
       "    }\n",
       "\n",
       "    .dataframe tbody tr th {\n",
       "        vertical-align: top;\n",
       "    }\n",
       "\n",
       "    .dataframe thead th {\n",
       "        text-align: right;\n",
       "    }\n",
       "</style>\n",
       "<table border=\"1\" class=\"dataframe\">\n",
       "  <thead>\n",
       "    <tr style=\"text-align: right;\">\n",
       "      <th></th>\n",
       "      <th>燃料电池电压</th>\n",
       "      <th>燃料电池电流</th>\n",
       "      <th>燃料消耗率</th>\n",
       "      <th>燃料电池温度探针总数</th>\n",
       "      <th>探针温度值</th>\n",
       "      <th>氢系统中最高温度</th>\n",
       "      <th>氢系统中最高温度探针代号</th>\n",
       "      <th>氢气最高浓度</th>\n",
       "      <th>氢气最高浓度传感器代号</th>\n",
       "      <th>氢气最高压力</th>\n",
       "      <th>氢气最高压力传感器代号</th>\n",
       "      <th>高压DC/DC状态</th>\n",
       "    </tr>\n",
       "  </thead>\n",
       "  <tbody>\n",
       "    <tr>\n",
       "      <th>0</th>\n",
       "      <td>0101</td>\n",
       "      <td>0434</td>\n",
       "      <td>51AA</td>\n",
       "      <td>0004</td>\n",
       "      <td>37170627</td>\n",
       "      <td>2705</td>\n",
       "      <td>00</td>\n",
       "      <td>0720</td>\n",
       "      <td>35</td>\n",
       "      <td>A801</td>\n",
       "      <td>EA</td>\n",
       "      <td>C7</td>\n",
       "    </tr>\n",
       "  </tbody>\n",
       "</table>\n",
       "</div>"
      ],
      "text/plain": [
       "  燃料电池电压 燃料电池电流 燃料消耗率 燃料电池温度探针总数     探针温度值 氢系统中最高温度 氢系统中最高温度探针代号 氢气最高浓度  \\\n",
       "0   0101   0434  51AA       0004  37170627     2705           00   0720   \n",
       "\n",
       "  氢气最高浓度传感器代号 氢气最高压力 氢气最高压力传感器代号 高压DC/DC状态  \n",
       "0          35   A801          EA        C7  "
      ]
     },
     "execution_count": 14,
     "metadata": {},
     "output_type": "execute_result"
    }
   ],
   "source": [
    "fun_07_02_03.ol"
   ]
  },
  {
   "cell_type": "code",
   "execution_count": 15,
   "metadata": {},
   "outputs": [
    {
     "data": {
      "text/plain": [
       "{'燃料电池电压': 25.7,\n",
       " '燃料电池电流': 107.6,\n",
       " '燃料消耗率': 209.06,\n",
       " '燃料电池温度探针总数': 4,\n",
       " '探针温度值': [-40.0, -40.0, -40.0, -39.6],\n",
       " '氢系统中最高温度': 958.9,\n",
       " '氢系统中最高温度探针代号': 0,\n",
       " '氢气最高浓度': 1824,\n",
       " '氢气最高浓度传感器代号': 53,\n",
       " '氢气最高压力': 4300.9,\n",
       " '氢气最高压力传感器代号': 234,\n",
       " '高压DC/DC状态': 'ERROR'}"
      ]
     },
     "execution_count": 15,
     "metadata": {},
     "output_type": "execute_result"
    }
   ],
   "source": [
    "fun_07_02_03.pj"
   ]
  },
  {
   "cell_type": "code",
   "execution_count": 16,
   "metadata": {},
   "outputs": [
    {
     "data": {
      "text/html": [
       "<div>\n",
       "<style scoped>\n",
       "    .dataframe tbody tr th:only-of-type {\n",
       "        vertical-align: middle;\n",
       "    }\n",
       "\n",
       "    .dataframe tbody tr th {\n",
       "        vertical-align: top;\n",
       "    }\n",
       "\n",
       "    .dataframe thead th {\n",
       "        text-align: right;\n",
       "    }\n",
       "</style>\n",
       "<table border=\"1\" class=\"dataframe\">\n",
       "  <thead>\n",
       "    <tr style=\"text-align: right;\">\n",
       "      <th></th>\n",
       "      <th>燃料电池电压</th>\n",
       "      <th>燃料电池电流</th>\n",
       "      <th>燃料消耗率</th>\n",
       "      <th>燃料电池温度探针总数</th>\n",
       "      <th>探针温度值</th>\n",
       "      <th>氢系统中最高温度</th>\n",
       "      <th>氢系统中最高温度探针代号</th>\n",
       "      <th>氢气最高浓度</th>\n",
       "      <th>氢气最高浓度传感器代号</th>\n",
       "      <th>氢气最高压力</th>\n",
       "      <th>氢气最高压力传感器代号</th>\n",
       "      <th>高压DC/DC状态</th>\n",
       "    </tr>\n",
       "  </thead>\n",
       "  <tbody>\n",
       "    <tr>\n",
       "      <th>0</th>\n",
       "      <td>25.7</td>\n",
       "      <td>107.6</td>\n",
       "      <td>209.06</td>\n",
       "      <td>4</td>\n",
       "      <td>[-40.0, -40.0, -40.0, -39.6]</td>\n",
       "      <td>958.9</td>\n",
       "      <td>0</td>\n",
       "      <td>1824</td>\n",
       "      <td>53</td>\n",
       "      <td>4300.9</td>\n",
       "      <td>234</td>\n",
       "      <td>ERROR</td>\n",
       "    </tr>\n",
       "  </tbody>\n",
       "</table>\n",
       "</div>"
      ],
      "text/plain": [
       "  燃料电池电压 燃料电池电流   燃料消耗率 燃料电池温度探针总数                         探针温度值 氢系统中最高温度  \\\n",
       "0   25.7  107.6  209.06          4  [-40.0, -40.0, -40.0, -39.6]    958.9   \n",
       "\n",
       "  氢系统中最高温度探针代号 氢气最高浓度 氢气最高浓度传感器代号  氢气最高压力 氢气最高压力传感器代号 高压DC/DC状态  \n",
       "0            0   1824          53  4300.9         234     ERROR  "
      ]
     },
     "execution_count": 16,
     "metadata": {},
     "output_type": "execute_result"
    }
   ],
   "source": [
    "fun_07_02_03.pl"
   ]
  },
  {
   "cell_type": "code",
   "execution_count": 17,
   "metadata": {},
   "outputs": [
    {
     "data": {
      "text/plain": [
       "'4A060179100E010D0FC801013C01043A0700000000000000000009010100483C3B3C3A3B3B3C3A3B3B3B3A3B3B3B3A3B3B3B3B3B3A3B3C3B3B3C3B3C3A3B3C3B3A3B3B3B3B3B3A3C3B3C3A3B3B3B3A3B3B3B3A3B3B3B3B3B3A3B3C3B3A3B3B3C3A3B3B3B3A3B3B0801011706273C00900001900FFA10040FFA0FFA0FFA0FFA10040FFA1004100410040FFA0FC8100410041004100410041004100410040FFA10041004100410041004100410040FFA10040FFA0FFA0FFA10040FFA0FFA0FFA0FFA100410040FFA0FFA100410040FFA0FFA10040FFA0FFA0FFA10040FFA0FFA0FFA0FFA0FFA0FFA0FF00FFA0FFA0FFA10040FFA0FFA100410040FF010040FFA0FFA0FFA0FFA0FFA10040FFA0FFA0FFA100410040FFA0FF00FFA0FFA0FFA0FFA0FFA0FFA0FFA10040FFA0FFA10041004100410040FFA0FFA0FFA0FFA0FFA0FFA0FFA0FFA0FFA100410040FFA0FFA1004100410040FFA0FFA0FFA0FFA0FFA0FFA0FFA0FFA100E0FF00FFA0FFA0FFA0FFA100410040FFA100410040FFA10040FFA10040FFA100410040FFA10041004100410040FFAAB'"
      ]
     },
     "execution_count": 17,
     "metadata": {},
     "output_type": "execute_result"
    }
   ],
   "source": [
    "fun_07_02_03.next"
   ]
  },
  {
   "cell_type": "code",
   "execution_count": 18,
   "metadata": {},
   "outputs": [
    {
     "data": {
      "text/plain": [
       "'4A'"
      ]
     },
     "execution_count": 18,
     "metadata": {},
     "output_type": "execute_result"
    }
   ],
   "source": [
    "fun_07_02_03.nextMark"
   ]
  },
  {
   "cell_type": "code",
   "execution_count": 19,
   "metadata": {},
   "outputs": [
    {
     "data": {
      "text/plain": [
       "{'燃料电池数据': {'燃料电池电压': '0101',\n",
       "  '燃料电池电流': '0434',\n",
       "  '燃料消耗率': '51AA',\n",
       "  '燃料电池温度探针总数': '0004',\n",
       "  '探针温度值': '37170627',\n",
       "  '氢系统中最高温度': '2705',\n",
       "  '氢系统中最高温度探针代号': '00',\n",
       "  '氢气最高浓度': '0720',\n",
       "  '氢气最高浓度传感器代号': '35',\n",
       "  '氢气最高压力': 'A801',\n",
       "  '氢气最高压力传感器代号': 'EA',\n",
       "  '高压DC/DC状态': 'C7'}}"
      ]
     },
     "execution_count": 19,
     "metadata": {},
     "output_type": "execute_result"
    }
   ],
   "source": [
    "fun_07_02_03.oj2"
   ]
  },
  {
   "cell_type": "code",
   "execution_count": 20,
   "metadata": {},
   "outputs": [
    {
     "data": {
      "text/plain": [
       "{'燃料电池数据': {'燃料电池电压': 25.7,\n",
       "  '燃料电池电流': 107.6,\n",
       "  '燃料消耗率': 209.06,\n",
       "  '燃料电池温度探针总数': 4,\n",
       "  '探针温度值': [-40.0, -40.0, -40.0, -39.6],\n",
       "  '氢系统中最高温度': 958.9,\n",
       "  '氢系统中最高温度探针代号': 0,\n",
       "  '氢气最高浓度': 1824,\n",
       "  '氢气最高浓度传感器代号': 53,\n",
       "  '氢气最高压力': 4300.9,\n",
       "  '氢气最高压力传感器代号': 234,\n",
       "  '高压DC/DC状态': 'ERROR'}}"
      ]
     },
     "execution_count": 20,
     "metadata": {},
     "output_type": "execute_result"
    }
   ],
   "source": [
    "fun_07_02_03.pj2"
   ]
  },
  {
   "cell_type": "code",
   "execution_count": null,
   "metadata": {},
   "outputs": [],
   "source": []
  }
 ],
 "metadata": {
  "kernelspec": {
   "display_name": "Python 3",
   "language": "python",
   "name": "python3"
  },
  "language_info": {
   "codemirror_mode": {
    "name": "ipython",
    "version": 3
   },
   "file_extension": ".py",
   "mimetype": "text/x-python",
   "name": "python",
   "nbconvert_exporter": "python",
   "pygments_lexer": "ipython3",
   "version": "3.7.4"
  },
  "toc": {
   "base_numbering": 1,
   "nav_menu": {},
   "number_sections": true,
   "sideBar": true,
   "skip_h1_title": false,
   "title_cell": "Table of Contents",
   "title_sidebar": "Contents",
   "toc_cell": false,
   "toc_position": {},
   "toc_section_display": true,
   "toc_window_display": false
  }
 },
 "nbformat": 4,
 "nbformat_minor": 2
}
