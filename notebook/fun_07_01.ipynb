{
 "cells": [
  {
   "cell_type": "markdown",
   "metadata": {},
   "source": [
    "## 说明\n",
    "\n",
    "```\n",
    "\"车辆登入\":{\n",
    "    \"数据采集时间\":\"6\",\n",
    "    \"登入流水号\":\"2\",\n",
    "    \"ICCID\":\"20\",\n",
    "    \"可充电储能子系统数n\":\"1\",\n",
    "    \"可充电储能系统编码长度m\":\"1\",\n",
    "    *\"可充电储能系统编码\":\"n*m\"[[],[],...],\n",
    "}\n",
    "```"
   ]
  },
  {
   "cell_type": "markdown",
   "metadata": {},
   "source": [
    "## 导入工具包和公共函数"
   ]
  },
  {
   "cell_type": "code",
   "execution_count": 1,
   "metadata": {},
   "outputs": [
    {
     "name": "stdout",
     "output_type": "stream",
     "text": [
      "importing Jupyter notebook from public_fun.ipynb\n"
     ]
    }
   ],
   "source": [
    "import Ipynb_importer\n",
    "from public_fun import *"
   ]
  },
  {
   "cell_type": "code",
   "execution_count": 2,
   "metadata": {},
   "outputs": [],
   "source": [
    "import sys\n",
    "import globalVar as glv"
   ]
  },
  {
   "cell_type": "markdown",
   "metadata": {},
   "source": [
    "## 类主体"
   ]
  },
  {
   "cell_type": "code",
   "execution_count": 68,
   "metadata": {},
   "outputs": [],
   "source": [
    "class fun_07_01(object):\n",
    "    def __init__(self, data):\n",
    "        self.cf = [6, 2, 20, 1, 1]\n",
    "        self.cf_a = hexlist2(self.cf)\n",
    "        self.n = hex2dec(data[self.cf_a[3]:self.cf_a[4]])\n",
    "        self.m = hex2dec(data[self.cf_a[4]:self.cf_a[5]])\n",
    "        self.cf.append(self.n*self.m)\n",
    "        self.cf_a = hexlist2(self.cf)\n",
    "        self.o = data[0:self.cf_a[-1]]\n",
    "        self.list_o = [\n",
    "            \"数据采集时间\",\n",
    "            \"登入流水号\",\n",
    "            \"ICCID\",\n",
    "            \"可充电储能子系统数\",\n",
    "            \"可充电储能系统编码长度\",\n",
    "            \"可充电储能系统编码\",\n",
    "        ]\n",
    "        self.oj = list2dict(self.o, self.list_o, self.cf_a)\n",
    "        self.oj2 = {'车辆登入': self.oj}\n",
    "        self.ol = pd.DataFrame([self.oj]).reindex(columns=self.list_o)\n",
    "        self.pj = {\n",
    "            \"数据采集时间\":get_datetime(self.oj['数据采集时间']),\n",
    "            \"登入流水号\":hex2dec(self.oj['登入流水号']),\n",
    "            \"ICCID\":hex2str(self.oj['ICCID']),\n",
    "            \"可充电储能子系统数\":hex2dec(self.oj['可充电储能子系统数']),\n",
    "            \"可充电储能系统编码长度\":hex2dec(self.oj['可充电储能系统编码长度']),\n",
    "            \"可充电储能系统编码\":fun_07_01.fun_07_01_06(self.oj['可充电储能系统编码'], self.oj['可充电储能子系统数'], self.oj['可充电储能系统编码长度']),\n",
    "        }\n",
    "        self.pj2 = {'车辆登入': self.pj}\n",
    "        self.pl = pd.DataFrame([self.pj]).reindex(columns=self.list_o)\n",
    "        \n",
    "        self.next = data[len(self.o):]\n",
    "        self.nextMark = data[len(self.o):len(self.o)+2]\n",
    "        \n",
    "#         glv.set_value('data_f', self.next)\n",
    "        \n",
    "    def fun_07_01_06(data, n, m):\n",
    "        if m=='00':\n",
    "            return \"NA\"\n",
    "        else :\n",
    "            n = hex2dec(n)\n",
    "            m = hex2dec(m) * 2\n",
    "            output = []\n",
    "            for i in range(n):                \n",
    "                output_unit = hex2str(data[i * m: i* m +m])\n",
    "                output.append(output_unit)\n",
    "            return output"
   ]
  },
  {
   "cell_type": "markdown",
   "metadata": {},
   "source": [
    "## 执行"
   ]
  },
  {
   "cell_type": "code",
   "execution_count": 69,
   "metadata": {},
   "outputs": [
    {
     "name": "stdout",
     "output_type": "stream",
     "text": [
      "{'数据采集时间': '130c1e0d3717', '登入流水号': '0003', 'ICCID': '3839383630363137303330303831303036303531', '可充电储能子系统数': '01', '可充电储能系统编码长度': '0c', '可充电储能系统编码': '313137333831333033383430'}\n"
     ]
    }
   ],
   "source": [
    "# \n",
    "data = \"130c1e0d371700033839383630363137303330303831303036303531010c313137333831333033383430dc\"\n",
    "fun_07_01 = fun_07_01(data)"
   ]
  },
  {
   "cell_type": "markdown",
   "metadata": {},
   "source": [
    "## 结果"
   ]
  },
  {
   "cell_type": "code",
   "execution_count": 70,
   "metadata": {},
   "outputs": [
    {
     "data": {
      "text/plain": [
       "{'数据采集时间': '130c1e0d3717',\n",
       " '登入流水号': '0003',\n",
       " 'ICCID': '3839383630363137303330303831303036303531',\n",
       " '可充电储能子系统数': '01',\n",
       " '可充电储能系统编码长度': '0c',\n",
       " '可充电储能系统编码': '313137333831333033383430'}"
      ]
     },
     "execution_count": 70,
     "metadata": {},
     "output_type": "execute_result"
    }
   ],
   "source": [
    "fun_07_01.oj"
   ]
  },
  {
   "cell_type": "code",
   "execution_count": 71,
   "metadata": {},
   "outputs": [
    {
     "data": {
      "text/html": [
       "<div>\n",
       "<style scoped>\n",
       "    .dataframe tbody tr th:only-of-type {\n",
       "        vertical-align: middle;\n",
       "    }\n",
       "\n",
       "    .dataframe tbody tr th {\n",
       "        vertical-align: top;\n",
       "    }\n",
       "\n",
       "    .dataframe thead th {\n",
       "        text-align: right;\n",
       "    }\n",
       "</style>\n",
       "<table border=\"1\" class=\"dataframe\">\n",
       "  <thead>\n",
       "    <tr style=\"text-align: right;\">\n",
       "      <th></th>\n",
       "      <th>数据采集时间</th>\n",
       "      <th>登入流水号</th>\n",
       "      <th>ICCID</th>\n",
       "      <th>可充电储能子系统数</th>\n",
       "      <th>可充电储能系统编码长度</th>\n",
       "      <th>可充电储能系统编码</th>\n",
       "    </tr>\n",
       "  </thead>\n",
       "  <tbody>\n",
       "    <tr>\n",
       "      <th>0</th>\n",
       "      <td>130c1e0d3717</td>\n",
       "      <td>0003</td>\n",
       "      <td>3839383630363137303330303831303036303531</td>\n",
       "      <td>01</td>\n",
       "      <td>0c</td>\n",
       "      <td>313137333831333033383430</td>\n",
       "    </tr>\n",
       "  </tbody>\n",
       "</table>\n",
       "</div>"
      ],
      "text/plain": [
       "         数据采集时间 登入流水号                                     ICCID 可充电储能子系统数  \\\n",
       "0  130c1e0d3717  0003  3839383630363137303330303831303036303531        01   \n",
       "\n",
       "  可充电储能系统编码长度                 可充电储能系统编码  \n",
       "0          0c  313137333831333033383430  "
      ]
     },
     "execution_count": 71,
     "metadata": {},
     "output_type": "execute_result"
    }
   ],
   "source": [
    "fun_07_01.ol"
   ]
  },
  {
   "cell_type": "code",
   "execution_count": 72,
   "metadata": {},
   "outputs": [
    {
     "data": {
      "text/plain": [
       "{'数据采集时间': '2019-12-30 13:55:23',\n",
       " '登入流水号': 3,\n",
       " 'ICCID': '89860617030081006051',\n",
       " '可充电储能子系统数': 1,\n",
       " '可充电储能系统编码长度': 12,\n",
       " '可充电储能系统编码': ['117381303840']}"
      ]
     },
     "execution_count": 72,
     "metadata": {},
     "output_type": "execute_result"
    }
   ],
   "source": [
    "fun_07_01.pj"
   ]
  },
  {
   "cell_type": "code",
   "execution_count": 73,
   "metadata": {},
   "outputs": [
    {
     "data": {
      "text/html": [
       "<div>\n",
       "<style scoped>\n",
       "    .dataframe tbody tr th:only-of-type {\n",
       "        vertical-align: middle;\n",
       "    }\n",
       "\n",
       "    .dataframe tbody tr th {\n",
       "        vertical-align: top;\n",
       "    }\n",
       "\n",
       "    .dataframe thead th {\n",
       "        text-align: right;\n",
       "    }\n",
       "</style>\n",
       "<table border=\"1\" class=\"dataframe\">\n",
       "  <thead>\n",
       "    <tr style=\"text-align: right;\">\n",
       "      <th></th>\n",
       "      <th>数据采集时间</th>\n",
       "      <th>登入流水号</th>\n",
       "      <th>ICCID</th>\n",
       "      <th>可充电储能子系统数</th>\n",
       "      <th>可充电储能系统编码长度</th>\n",
       "      <th>可充电储能系统编码</th>\n",
       "    </tr>\n",
       "  </thead>\n",
       "  <tbody>\n",
       "    <tr>\n",
       "      <th>0</th>\n",
       "      <td>2019-12-30 13:55:23</td>\n",
       "      <td>3</td>\n",
       "      <td>89860617030081006051</td>\n",
       "      <td>1</td>\n",
       "      <td>12</td>\n",
       "      <td>[117381303840]</td>\n",
       "    </tr>\n",
       "  </tbody>\n",
       "</table>\n",
       "</div>"
      ],
      "text/plain": [
       "                数据采集时间  登入流水号                 ICCID  可充电储能子系统数  可充电储能系统编码长度  \\\n",
       "0  2019-12-30 13:55:23      3  89860617030081006051          1           12   \n",
       "\n",
       "        可充电储能系统编码  \n",
       "0  [117381303840]  "
      ]
     },
     "execution_count": 73,
     "metadata": {},
     "output_type": "execute_result"
    }
   ],
   "source": [
    "fun_07_01.pl"
   ]
  },
  {
   "cell_type": "code",
   "execution_count": 76,
   "metadata": {},
   "outputs": [
    {
     "data": {
      "text/plain": [
       "[6, 2, 20, 1, 1, 12]"
      ]
     },
     "execution_count": 76,
     "metadata": {},
     "output_type": "execute_result"
    }
   ],
   "source": [
    "fun_07_01.cf"
   ]
  },
  {
   "cell_type": "code",
   "execution_count": 77,
   "metadata": {},
   "outputs": [
    {
     "data": {
      "text/plain": [
       "[0, 12, 16, 56, 58, 60, 84]"
      ]
     },
     "execution_count": 77,
     "metadata": {},
     "output_type": "execute_result"
    }
   ],
   "source": [
    "fun_07_01.cf_a"
   ]
  },
  {
   "cell_type": "code",
   "execution_count": null,
   "metadata": {},
   "outputs": [],
   "source": []
  }
 ],
 "metadata": {
  "kernelspec": {
   "display_name": "Python 3",
   "language": "python",
   "name": "python3"
  },
  "language_info": {
   "codemirror_mode": {
    "name": "ipython",
    "version": 3
   },
   "file_extension": ".py",
   "mimetype": "text/x-python",
   "name": "python",
   "nbconvert_exporter": "python",
   "pygments_lexer": "ipython3",
   "version": "3.7.4"
  },
  "toc": {
   "base_numbering": 1,
   "nav_menu": {},
   "number_sections": true,
   "sideBar": true,
   "skip_h1_title": false,
   "title_cell": "Table of Contents",
   "title_sidebar": "Contents",
   "toc_cell": false,
   "toc_position": {},
   "toc_section_display": true,
   "toc_window_display": false
  }
 },
 "nbformat": 4,
 "nbformat_minor": 2
}
